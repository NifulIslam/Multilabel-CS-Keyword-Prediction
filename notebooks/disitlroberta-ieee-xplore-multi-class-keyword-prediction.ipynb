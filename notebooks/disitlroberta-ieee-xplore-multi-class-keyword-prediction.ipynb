{
 "cells": [
  {
   "cell_type": "markdown",
   "id": "f82f4349",
   "metadata": {
    "papermill": {
     "duration": 0.008203,
     "end_time": "2023-08-11T11:08:54.348171",
     "exception": false,
     "start_time": "2023-08-11T11:08:54.339968",
     "status": "completed"
    },
    "tags": []
   },
   "source": [
    "# EDA and Preprocessing"
   ]
  },
  {
   "cell_type": "code",
   "execution_count": 1,
   "id": "b97645af",
   "metadata": {
    "_cell_guid": "b1076dfc-b9ad-4769-8c92-a6c4dae69d19",
    "_uuid": "8f2839f25d086af736a60e9eeb907d3b93b6e0e5",
    "execution": {
     "iopub.execute_input": "2023-08-11T11:08:54.367079Z",
     "iopub.status.busy": "2023-08-11T11:08:54.366305Z",
     "iopub.status.idle": "2023-08-11T11:08:58.815797Z",
     "shell.execute_reply": "2023-08-11T11:08:58.814849Z"
    },
    "papermill": {
     "duration": 4.461157,
     "end_time": "2023-08-11T11:08:58.818038",
     "exception": false,
     "start_time": "2023-08-11T11:08:54.356881",
     "status": "completed"
    },
    "tags": []
   },
   "outputs": [
    {
     "name": "stderr",
     "output_type": "stream",
     "text": [
      "/tmp/ipykernel_22/2807701938.py:5: DtypeWarning: Columns (2,3) have mixed types. Specify dtype option on import or set low_memory=False.\n",
      "  data=pd.read_csv('/kaggle/input/ieee-xplore-paper-details/papers.csv')\n"
     ]
    },
    {
     "data": {
      "text/html": [
       "<div>\n",
       "<style scoped>\n",
       "    .dataframe tbody tr th:only-of-type {\n",
       "        vertical-align: middle;\n",
       "    }\n",
       "\n",
       "    .dataframe tbody tr th {\n",
       "        vertical-align: top;\n",
       "    }\n",
       "\n",
       "    .dataframe thead th {\n",
       "        text-align: right;\n",
       "    }\n",
       "</style>\n",
       "<table border=\"1\" class=\"dataframe\">\n",
       "  <thead>\n",
       "    <tr style=\"text-align: right;\">\n",
       "      <th></th>\n",
       "      <th>keywords</th>\n",
       "      <th>text</th>\n",
       "    </tr>\n",
       "  </thead>\n",
       "  <tbody>\n",
       "    <tr>\n",
       "      <th>0</th>\n",
       "      <td>[Training, Degradation, Complexity theory, Ima...</td>\n",
       "      <td>Deep Residual Learning for Image RecognitionDe...</td>\n",
       "    </tr>\n",
       "    <tr>\n",
       "      <th>1</th>\n",
       "      <td>[Genetic algorithms, Sorting, Computational co...</td>\n",
       "      <td>A fast and elitist multiobjective genetic algo...</td>\n",
       "    </tr>\n",
       "    <tr>\n",
       "      <th>2</th>\n",
       "      <td>[Particle swarm optimization, Birds, Education...</td>\n",
       "      <td>Particle swarm optimizationA concept for the o...</td>\n",
       "    </tr>\n",
       "    <tr>\n",
       "      <th>3</th>\n",
       "      <td>[Computer architecture, Convolutional codes, S...</td>\n",
       "      <td>Going deeper with convolutionsWe propose a dee...</td>\n",
       "    </tr>\n",
       "    <tr>\n",
       "      <th>4</th>\n",
       "      <td>[Computer architecture, Microprocessors, Objec...</td>\n",
       "      <td>You Only Look Once: Unified, Real-Time Object ...</td>\n",
       "    </tr>\n",
       "    <tr>\n",
       "      <th>...</th>\n",
       "      <td>...</td>\n",
       "      <td>...</td>\n",
       "    </tr>\n",
       "    <tr>\n",
       "      <th>51679</th>\n",
       "      <td>[Microgrids, Batteries, Energy management, Opt...</td>\n",
       "      <td>Optimal Energy Management for a Residential Mi...</td>\n",
       "    </tr>\n",
       "    <tr>\n",
       "      <th>51680</th>\n",
       "      <td>[Programmable control, Adaptive control, Itera...</td>\n",
       "      <td>An adaptive iterative learning control algorit...</td>\n",
       "    </tr>\n",
       "    <tr>\n",
       "      <th>51681</th>\n",
       "      <td>[Fuzzy sets, Fuzzy systems, Power system model...</td>\n",
       "      <td>Compact and transparent fuzzy models and class...</td>\n",
       "    </tr>\n",
       "    <tr>\n",
       "      <th>51682</th>\n",
       "      <td>[Mobile handsets, Resource management, Servers...</td>\n",
       "      <td>Smart Resource Allocation for Mobile Edge Comp...</td>\n",
       "    </tr>\n",
       "    <tr>\n",
       "      <th>51683</th>\n",
       "      <td>[Face, Image recognition, Feature extraction, ...</td>\n",
       "      <td>Quality Aware Network for Set to Set Recogniti...</td>\n",
       "    </tr>\n",
       "  </tbody>\n",
       "</table>\n",
       "<p>51684 rows × 2 columns</p>\n",
       "</div>"
      ],
      "text/plain": [
       "                                                keywords  \\\n",
       "0      [Training, Degradation, Complexity theory, Ima...   \n",
       "1      [Genetic algorithms, Sorting, Computational co...   \n",
       "2      [Particle swarm optimization, Birds, Education...   \n",
       "3      [Computer architecture, Convolutional codes, S...   \n",
       "4      [Computer architecture, Microprocessors, Objec...   \n",
       "...                                                  ...   \n",
       "51679  [Microgrids, Batteries, Energy management, Opt...   \n",
       "51680  [Programmable control, Adaptive control, Itera...   \n",
       "51681  [Fuzzy sets, Fuzzy systems, Power system model...   \n",
       "51682  [Mobile handsets, Resource management, Servers...   \n",
       "51683  [Face, Image recognition, Feature extraction, ...   \n",
       "\n",
       "                                                    text  \n",
       "0      Deep Residual Learning for Image RecognitionDe...  \n",
       "1      A fast and elitist multiobjective genetic algo...  \n",
       "2      Particle swarm optimizationA concept for the o...  \n",
       "3      Going deeper with convolutionsWe propose a dee...  \n",
       "4      You Only Look Once: Unified, Real-Time Object ...  \n",
       "...                                                  ...  \n",
       "51679  Optimal Energy Management for a Residential Mi...  \n",
       "51680  An adaptive iterative learning control algorit...  \n",
       "51681  Compact and transparent fuzzy models and class...  \n",
       "51682  Smart Resource Allocation for Mobile Edge Comp...  \n",
       "51683  Quality Aware Network for Set to Set Recogniti...  \n",
       "\n",
       "[51684 rows x 2 columns]"
      ]
     },
     "execution_count": 1,
     "metadata": {},
     "output_type": "execute_result"
    }
   ],
   "source": [
    "import numpy as np \n",
    "import pandas as pd\n",
    "import os\n",
    "import ast\n",
    "data=pd.read_csv('/kaggle/input/ieee-xplore-paper-details/papers.csv')\n",
    "data=data.dropna().reset_index(drop=True)\n",
    "data=data.drop('link',axis=1)\n",
    "data['text']=data.apply(lambda row: row['Title'] + row['abstract'], axis = 1)\n",
    "data=data.drop('Title',axis=1)\n",
    "data=data.drop('abstract',axis=1)\n",
    "data['keywords']=data.apply(lambda row: ast.literal_eval(row['keywords']), axis = 1)\n",
    "data"
   ]
  },
  {
   "cell_type": "code",
   "execution_count": 2,
   "id": "c64323a2",
   "metadata": {
    "execution": {
     "iopub.execute_input": "2023-08-11T11:08:58.837208Z",
     "iopub.status.busy": "2023-08-11T11:08:58.835647Z",
     "iopub.status.idle": "2023-08-11T11:08:58.973820Z",
     "shell.execute_reply": "2023-08-11T11:08:58.972433Z"
    },
    "papermill": {
     "duration": 0.149855,
     "end_time": "2023-08-11T11:08:58.976056",
     "exception": false,
     "start_time": "2023-08-11T11:08:58.826201",
     "status": "completed"
    },
    "tags": []
   },
   "outputs": [
    {
     "name": "stdout",
     "output_type": "stream",
     "text": [
      "3008\n"
     ]
    }
   ],
   "source": [
    "keyword_count={}\n",
    "for i in data['keywords']:\n",
    "    for keyword in i:\n",
    "        try:\n",
    "            keyword_count[keyword]+=1\n",
    "        except:\n",
    "            keyword_count[keyword]=1\n",
    "print(len(keyword_count.keys()))"
   ]
  },
  {
   "cell_type": "code",
   "execution_count": 3,
   "id": "22fb883a",
   "metadata": {
    "execution": {
     "iopub.execute_input": "2023-08-11T11:08:58.994973Z",
     "iopub.status.busy": "2023-08-11T11:08:58.993443Z",
     "iopub.status.idle": "2023-08-11T11:08:59.354294Z",
     "shell.execute_reply": "2023-08-11T11:08:59.353371Z"
    },
    "papermill": {
     "duration": 0.372236,
     "end_time": "2023-08-11T11:08:59.356505",
     "exception": false,
     "start_time": "2023-08-11T11:08:58.984269",
     "status": "completed"
    },
    "tags": []
   },
   "outputs": [
    {
     "data": {
      "text/plain": [
       "Text(0.5, 1.0, 'Frequency of Instance Occurrences')"
      ]
     },
     "execution_count": 3,
     "metadata": {},
     "output_type": "execute_result"
    },
    {
     "data": {
      "image/png": "[encoded data removed]",
      "text/plain": [
       "<Figure size 640x480 with 1 Axes>"
      ]
     },
     "metadata": {},
     "output_type": "display_data"
    }
   ],
   "source": [
    "from matplotlib import pyplot as plt\n",
    "from collections import Counter\n",
    "import collections\n",
    "distribution=Counter(list(keyword_count.values()))\n",
    "sorted_count=sorted(distribution.items())\n",
    "sorted_count= [i[1] for i in sorted_count]\n",
    "plt.plot(sorted_count)\n",
    "plt.xlabel('Instances')\n",
    "plt.ylabel('Repetition')\n",
    "plt.title('Frequency of Instance Occurrences')\n"
   ]
  },
  {
   "cell_type": "code",
   "execution_count": 4,
   "id": "77183d5c",
   "metadata": {
    "execution": {
     "iopub.execute_input": "2023-08-11T11:08:59.384875Z",
     "iopub.status.busy": "2023-08-11T11:08:59.384548Z",
     "iopub.status.idle": "2023-08-11T11:08:59.392099Z",
     "shell.execute_reply": "2023-08-11T11:08:59.391146Z"
    },
    "papermill": {
     "duration": 0.027365,
     "end_time": "2023-08-11T11:08:59.394034",
     "exception": false,
     "start_time": "2023-08-11T11:08:59.366669",
     "status": "completed"
    },
    "tags": []
   },
   "outputs": [
    {
     "data": {
      "text/plain": [
       "510"
      ]
     },
     "execution_count": 4,
     "metadata": {},
     "output_type": "execute_result"
    }
   ],
   "source": [
    "threshold = 20\n",
    "common_keywords = [key for key, value in keyword_count.items() if value > threshold]\n",
    "len(common_keywords)"
   ]
  },
  {
   "cell_type": "code",
   "execution_count": 5,
   "id": "c065d18a",
   "metadata": {
    "execution": {
     "iopub.execute_input": "2023-08-11T11:08:59.412914Z",
     "iopub.status.busy": "2023-08-11T11:08:59.412639Z",
     "iopub.status.idle": "2023-08-11T11:08:59.417800Z",
     "shell.execute_reply": "2023-08-11T11:08:59.416849Z"
    },
    "papermill": {
     "duration": 0.017884,
     "end_time": "2023-08-11T11:08:59.420723",
     "exception": false,
     "start_time": "2023-08-11T11:08:59.402839",
     "status": "completed"
    },
    "tags": []
   },
   "outputs": [
    {
     "name": "stdout",
     "output_type": "stream",
     "text": [
      "['Training', 'Degradation', 'Complexity theory', 'Image recognition', 'Neural networks', 'Visualization', 'Image segmentation', 'Genetic algorithms', 'Computational complexity', 'Evolutionary computation', 'Computational modeling', 'Testing', 'Decision making', 'Constraint optimization', 'Particle swarm optimization', 'Birds', 'Educational institutions', 'Humans', 'Optimization methods', 'Artificial neural networks']\n"
     ]
    }
   ],
   "source": [
    "print(common_keywords[:20])"
   ]
  },
  {
   "cell_type": "code",
   "execution_count": 6,
   "id": "04e2f38e",
   "metadata": {
    "execution": {
     "iopub.execute_input": "2023-08-11T11:08:59.440871Z",
     "iopub.status.busy": "2023-08-11T11:08:59.440058Z",
     "iopub.status.idle": "2023-08-11T11:08:59.447200Z",
     "shell.execute_reply": "2023-08-11T11:08:59.446318Z"
    },
    "papermill": {
     "duration": 0.018886,
     "end_time": "2023-08-11T11:08:59.449148",
     "exception": false,
     "start_time": "2023-08-11T11:08:59.430262",
     "status": "completed"
    },
    "tags": []
   },
   "outputs": [],
   "source": [
    "import json\n",
    "ohe_map={}\n",
    "for i,keyword in enumerate(common_keywords):\n",
    "    ohe_map[i]=keyword\n",
    "with open(\"keys_encoded.json\", \"w\") as fp:\n",
    "  json.dump(ohe_map, fp)"
   ]
  },
  {
   "cell_type": "code",
   "execution_count": 7,
   "id": "7a335e77",
   "metadata": {
    "execution": {
     "iopub.execute_input": "2023-08-11T11:08:59.468153Z",
     "iopub.status.busy": "2023-08-11T11:08:59.467484Z",
     "iopub.status.idle": "2023-08-11T11:08:59.791705Z",
     "shell.execute_reply": "2023-08-11T11:08:59.790687Z"
    },
    "papermill": {
     "duration": 0.336607,
     "end_time": "2023-08-11T11:08:59.794410",
     "exception": false,
     "start_time": "2023-08-11T11:08:59.457803",
     "status": "completed"
    },
    "tags": []
   },
   "outputs": [],
   "source": [
    "keywords=[]\n",
    "common_keywords= set(common_keywords)\n",
    "refined_keys=[]\n",
    "for i in data['keywords']:\n",
    "    key_i=[]\n",
    "    for key in i:\n",
    "        if(key in common_keywords):\n",
    "            key_i.append(key)\n",
    "    refined_keys.append(key_i)\n"
   ]
  },
  {
   "cell_type": "code",
   "execution_count": 8,
   "id": "1453c4bb",
   "metadata": {
    "execution": {
     "iopub.execute_input": "2023-08-11T11:08:59.813980Z",
     "iopub.status.busy": "2023-08-11T11:08:59.813621Z",
     "iopub.status.idle": "2023-08-11T11:08:59.818715Z",
     "shell.execute_reply": "2023-08-11T11:08:59.817757Z"
    },
    "papermill": {
     "duration": 0.017741,
     "end_time": "2023-08-11T11:08:59.821208",
     "exception": false,
     "start_time": "2023-08-11T11:08:59.803467",
     "status": "completed"
    },
    "tags": []
   },
   "outputs": [
    {
     "name": "stdout",
     "output_type": "stream",
     "text": [
      "[['Training', 'Degradation', 'Complexity theory', 'Image recognition', 'Neural networks', 'Visualization', 'Image segmentation'], ['Genetic algorithms', 'Computational complexity', 'Evolutionary computation', 'Computational modeling', 'Testing', 'Decision making', 'Constraint optimization'], ['Particle swarm optimization', 'Birds', 'Educational institutions', 'Testing', 'Humans', 'Genetic algorithms', 'Optimization methods', 'Artificial neural networks', 'Performance evaluation'], ['Computer architecture', 'Convolutional codes', 'Sparse matrices', 'Neural networks', 'Visualization', 'Object detection', 'Computer vision'], ['Computer architecture', 'Microprocessors', 'Object detection', 'Training', 'Real-time systems', 'Neural networks', 'Pipelines']]\n"
     ]
    }
   ],
   "source": [
    "print(refined_keys[:5])"
   ]
  },
  {
   "cell_type": "code",
   "execution_count": 9,
   "id": "910bcb45",
   "metadata": {
    "execution": {
     "iopub.execute_input": "2023-08-11T11:08:59.840638Z",
     "iopub.status.busy": "2023-08-11T11:08:59.840351Z",
     "iopub.status.idle": "2023-08-11T11:08:59.852542Z",
     "shell.execute_reply": "2023-08-11T11:08:59.851680Z"
    },
    "papermill": {
     "duration": 0.024451,
     "end_time": "2023-08-11T11:08:59.854623",
     "exception": false,
     "start_time": "2023-08-11T11:08:59.830172",
     "status": "completed"
    },
    "tags": []
   },
   "outputs": [
    {
     "data": {
      "text/plain": [
       "10"
      ]
     },
     "execution_count": 9,
     "metadata": {},
     "output_type": "execute_result"
    }
   ],
   "source": [
    "max([len(k) for k in refined_keys]) # height number of common keywords present in a paper"
   ]
  },
  {
   "cell_type": "code",
   "execution_count": 10,
   "id": "dd45c207",
   "metadata": {
    "execution": {
     "iopub.execute_input": "2023-08-11T11:08:59.873542Z",
     "iopub.status.busy": "2023-08-11T11:08:59.873251Z",
     "iopub.status.idle": "2023-08-11T11:09:10.474787Z",
     "shell.execute_reply": "2023-08-11T11:09:10.473808Z"
    },
    "papermill": {
     "duration": 10.613857,
     "end_time": "2023-08-11T11:09:10.477351",
     "exception": false,
     "start_time": "2023-08-11T11:08:59.863494",
     "status": "completed"
    },
    "tags": []
   },
   "outputs": [],
   "source": [
    "no_match=[] #papers having no common keywords\n",
    "ohe_refined=[]\n",
    "for i, keys in enumerate(refined_keys):\n",
    "    found_one=False\n",
    "    ohe=[]\n",
    "    for val, key in ohe_map.items():\n",
    "        if(key in keys):\n",
    "            found_one=True\n",
    "            ohe.append(1)\n",
    "        else:\n",
    "            ohe.append(0)\n",
    "    ohe_refined.append(ohe)\n",
    "    if(not found_one):\n",
    "        no_match.append(i)    "
   ]
  },
  {
   "cell_type": "code",
   "execution_count": 11,
   "id": "53a113ed",
   "metadata": {
    "execution": {
     "iopub.execute_input": "2023-08-11T11:09:10.498233Z",
     "iopub.status.busy": "2023-08-11T11:09:10.497295Z",
     "iopub.status.idle": "2023-08-11T11:09:10.503939Z",
     "shell.execute_reply": "2023-08-11T11:09:10.502920Z"
    },
    "papermill": {
     "duration": 0.019192,
     "end_time": "2023-08-11T11:09:10.506364",
     "exception": false,
     "start_time": "2023-08-11T11:09:10.487172",
     "status": "completed"
    },
    "tags": []
   },
   "outputs": [
    {
     "data": {
      "text/plain": [
       "22"
      ]
     },
     "execution_count": 11,
     "metadata": {},
     "output_type": "execute_result"
    }
   ],
   "source": [
    "len(no_match) "
   ]
  },
  {
   "cell_type": "code",
   "execution_count": 12,
   "id": "7db03cc8",
   "metadata": {
    "execution": {
     "iopub.execute_input": "2023-08-11T11:09:10.526161Z",
     "iopub.status.busy": "2023-08-11T11:09:10.525845Z",
     "iopub.status.idle": "2023-08-11T11:09:10.586134Z",
     "shell.execute_reply": "2023-08-11T11:09:10.585017Z"
    },
    "papermill": {
     "duration": 0.073203,
     "end_time": "2023-08-11T11:09:10.588518",
     "exception": false,
     "start_time": "2023-08-11T11:09:10.515315",
     "status": "completed"
    },
    "tags": []
   },
   "outputs": [
    {
     "data": {
      "text/html": [
       "<div>\n",
       "<style scoped>\n",
       "    .dataframe tbody tr th:only-of-type {\n",
       "        vertical-align: middle;\n",
       "    }\n",
       "\n",
       "    .dataframe tbody tr th {\n",
       "        vertical-align: top;\n",
       "    }\n",
       "\n",
       "    .dataframe thead th {\n",
       "        text-align: right;\n",
       "    }\n",
       "</style>\n",
       "<table border=\"1\" class=\"dataframe\">\n",
       "  <thead>\n",
       "    <tr style=\"text-align: right;\">\n",
       "      <th></th>\n",
       "      <th>keywords</th>\n",
       "      <th>text</th>\n",
       "      <th>keywords_ohe</th>\n",
       "    </tr>\n",
       "  </thead>\n",
       "  <tbody>\n",
       "    <tr>\n",
       "      <th>0</th>\n",
       "      <td>[Training, Degradation, Complexity theory, Ima...</td>\n",
       "      <td>Deep Residual Learning for Image RecognitionDe...</td>\n",
       "      <td>[1, 1, 1, 1, 1, 1, 1, 0, 0, 0, 0, 0, 0, 0, 0, ...</td>\n",
       "    </tr>\n",
       "    <tr>\n",
       "      <th>1</th>\n",
       "      <td>[Genetic algorithms, Computational complexity,...</td>\n",
       "      <td>A fast and elitist multiobjective genetic algo...</td>\n",
       "      <td>[0, 0, 0, 0, 0, 0, 0, 1, 1, 1, 1, 1, 1, 1, 0, ...</td>\n",
       "    </tr>\n",
       "    <tr>\n",
       "      <th>2</th>\n",
       "      <td>[Particle swarm optimization, Birds, Education...</td>\n",
       "      <td>Particle swarm optimizationA concept for the o...</td>\n",
       "      <td>[0, 0, 0, 0, 0, 0, 0, 1, 0, 0, 0, 1, 0, 0, 1, ...</td>\n",
       "    </tr>\n",
       "    <tr>\n",
       "      <th>3</th>\n",
       "      <td>[Computer architecture, Convolutional codes, S...</td>\n",
       "      <td>Going deeper with convolutionsWe propose a dee...</td>\n",
       "      <td>[0, 0, 0, 0, 1, 1, 0, 0, 0, 0, 0, 0, 0, 0, 0, ...</td>\n",
       "    </tr>\n",
       "    <tr>\n",
       "      <th>4</th>\n",
       "      <td>[Computer architecture, Microprocessors, Objec...</td>\n",
       "      <td>You Only Look Once: Unified, Real-Time Object ...</td>\n",
       "      <td>[1, 0, 0, 0, 1, 0, 0, 0, 0, 0, 0, 0, 0, 0, 0, ...</td>\n",
       "    </tr>\n",
       "    <tr>\n",
       "      <th>...</th>\n",
       "      <td>...</td>\n",
       "      <td>...</td>\n",
       "      <td>...</td>\n",
       "    </tr>\n",
       "    <tr>\n",
       "      <th>51679</th>\n",
       "      <td>[Microgrids, Batteries, Energy management, Opt...</td>\n",
       "      <td>Optimal Energy Management for a Residential Mi...</td>\n",
       "      <td>[0, 0, 0, 0, 0, 0, 0, 0, 0, 0, 0, 0, 0, 0, 0, ...</td>\n",
       "    </tr>\n",
       "    <tr>\n",
       "      <th>51680</th>\n",
       "      <td>[Programmable control, Adaptive control, Itera...</td>\n",
       "      <td>An adaptive iterative learning control algorit...</td>\n",
       "      <td>[0, 0, 0, 0, 0, 0, 0, 0, 0, 0, 0, 0, 0, 0, 0, ...</td>\n",
       "    </tr>\n",
       "    <tr>\n",
       "      <th>51681</th>\n",
       "      <td>[Fuzzy sets, Fuzzy systems, Power system model...</td>\n",
       "      <td>Compact and transparent fuzzy models and class...</td>\n",
       "      <td>[0, 0, 0, 0, 0, 0, 0, 1, 0, 0, 0, 0, 0, 1, 0, ...</td>\n",
       "    </tr>\n",
       "    <tr>\n",
       "      <th>51682</th>\n",
       "      <td>[Mobile handsets, Resource management, Servers...</td>\n",
       "      <td>Smart Resource Allocation for Mobile Edge Comp...</td>\n",
       "      <td>[0, 0, 0, 0, 0, 0, 0, 0, 0, 0, 0, 0, 0, 0, 0, ...</td>\n",
       "    </tr>\n",
       "    <tr>\n",
       "      <th>51683</th>\n",
       "      <td>[Face, Image recognition, Feature extraction, ...</td>\n",
       "      <td>Quality Aware Network for Set to Set Recogniti...</td>\n",
       "      <td>[1, 0, 0, 1, 1, 0, 0, 0, 0, 0, 0, 0, 0, 0, 0, ...</td>\n",
       "    </tr>\n",
       "  </tbody>\n",
       "</table>\n",
       "<p>51684 rows × 3 columns</p>\n",
       "</div>"
      ],
      "text/plain": [
       "                                                keywords  \\\n",
       "0      [Training, Degradation, Complexity theory, Ima...   \n",
       "1      [Genetic algorithms, Computational complexity,...   \n",
       "2      [Particle swarm optimization, Birds, Education...   \n",
       "3      [Computer architecture, Convolutional codes, S...   \n",
       "4      [Computer architecture, Microprocessors, Objec...   \n",
       "...                                                  ...   \n",
       "51679  [Microgrids, Batteries, Energy management, Opt...   \n",
       "51680  [Programmable control, Adaptive control, Itera...   \n",
       "51681  [Fuzzy sets, Fuzzy systems, Power system model...   \n",
       "51682  [Mobile handsets, Resource management, Servers...   \n",
       "51683  [Face, Image recognition, Feature extraction, ...   \n",
       "\n",
       "                                                    text  \\\n",
       "0      Deep Residual Learning for Image RecognitionDe...   \n",
       "1      A fast and elitist multiobjective genetic algo...   \n",
       "2      Particle swarm optimizationA concept for the o...   \n",
       "3      Going deeper with convolutionsWe propose a dee...   \n",
       "4      You Only Look Once: Unified, Real-Time Object ...   \n",
       "...                                                  ...   \n",
       "51679  Optimal Energy Management for a Residential Mi...   \n",
       "51680  An adaptive iterative learning control algorit...   \n",
       "51681  Compact and transparent fuzzy models and class...   \n",
       "51682  Smart Resource Allocation for Mobile Edge Comp...   \n",
       "51683  Quality Aware Network for Set to Set Recogniti...   \n",
       "\n",
       "                                            keywords_ohe  \n",
       "0      [1, 1, 1, 1, 1, 1, 1, 0, 0, 0, 0, 0, 0, 0, 0, ...  \n",
       "1      [0, 0, 0, 0, 0, 0, 0, 1, 1, 1, 1, 1, 1, 1, 0, ...  \n",
       "2      [0, 0, 0, 0, 0, 0, 0, 1, 0, 0, 0, 1, 0, 0, 1, ...  \n",
       "3      [0, 0, 0, 0, 1, 1, 0, 0, 0, 0, 0, 0, 0, 0, 0, ...  \n",
       "4      [1, 0, 0, 0, 1, 0, 0, 0, 0, 0, 0, 0, 0, 0, 0, ...  \n",
       "...                                                  ...  \n",
       "51679  [0, 0, 0, 0, 0, 0, 0, 0, 0, 0, 0, 0, 0, 0, 0, ...  \n",
       "51680  [0, 0, 0, 0, 0, 0, 0, 0, 0, 0, 0, 0, 0, 0, 0, ...  \n",
       "51681  [0, 0, 0, 0, 0, 0, 0, 1, 0, 0, 0, 0, 0, 1, 0, ...  \n",
       "51682  [0, 0, 0, 0, 0, 0, 0, 0, 0, 0, 0, 0, 0, 0, 0, ...  \n",
       "51683  [1, 0, 0, 1, 1, 0, 0, 0, 0, 0, 0, 0, 0, 0, 0, ...  \n",
       "\n",
       "[51684 rows x 3 columns]"
      ]
     },
     "execution_count": 12,
     "metadata": {},
     "output_type": "execute_result"
    }
   ],
   "source": [
    "data['keywords_ohe']=ohe_refined\n",
    "data['keywords']=refined_keys\n",
    "data"
   ]
  },
  {
   "cell_type": "code",
   "execution_count": 13,
   "id": "107f2e52",
   "metadata": {
    "execution": {
     "iopub.execute_input": "2023-08-11T11:09:10.611678Z",
     "iopub.status.busy": "2023-08-11T11:09:10.611388Z",
     "iopub.status.idle": "2023-08-11T11:09:10.617475Z",
     "shell.execute_reply": "2023-08-11T11:09:10.616480Z"
    },
    "papermill": {
     "duration": 0.01951,
     "end_time": "2023-08-11T11:09:10.619600",
     "exception": false,
     "start_time": "2023-08-11T11:09:10.600090",
     "status": "completed"
    },
    "tags": []
   },
   "outputs": [
    {
     "data": {
      "text/plain": [
       "[]"
      ]
     },
     "execution_count": 13,
     "metadata": {},
     "output_type": "execute_result"
    }
   ],
   "source": [
    "data.iloc[no_match[0]].keywords #making sure no_match has 0 refined keywords"
   ]
  },
  {
   "cell_type": "code",
   "execution_count": 14,
   "id": "d1e32ed7",
   "metadata": {
    "execution": {
     "iopub.execute_input": "2023-08-11T11:09:10.640495Z",
     "iopub.status.busy": "2023-08-11T11:09:10.640228Z",
     "iopub.status.idle": "2023-08-11T11:09:10.651724Z",
     "shell.execute_reply": "2023-08-11T11:09:10.650873Z"
    },
    "papermill": {
     "duration": 0.024136,
     "end_time": "2023-08-11T11:09:10.653737",
     "exception": false,
     "start_time": "2023-08-11T11:09:10.629601",
     "status": "completed"
    },
    "tags": []
   },
   "outputs": [],
   "source": [
    "data=data.drop(no_match)"
   ]
  },
  {
   "cell_type": "code",
   "execution_count": 15,
   "id": "1cb41d7b",
   "metadata": {
    "execution": {
     "iopub.execute_input": "2023-08-11T11:09:10.675310Z",
     "iopub.status.busy": "2023-08-11T11:09:10.674456Z",
     "iopub.status.idle": "2023-08-11T11:09:10.704143Z",
     "shell.execute_reply": "2023-08-11T11:09:10.703251Z"
    },
    "papermill": {
     "duration": 0.043462,
     "end_time": "2023-08-11T11:09:10.706960",
     "exception": false,
     "start_time": "2023-08-11T11:09:10.663498",
     "status": "completed"
    },
    "tags": []
   },
   "outputs": [
    {
     "data": {
      "text/html": [
       "<div>\n",
       "<style scoped>\n",
       "    .dataframe tbody tr th:only-of-type {\n",
       "        vertical-align: middle;\n",
       "    }\n",
       "\n",
       "    .dataframe tbody tr th {\n",
       "        vertical-align: top;\n",
       "    }\n",
       "\n",
       "    .dataframe thead th {\n",
       "        text-align: right;\n",
       "    }\n",
       "</style>\n",
       "<table border=\"1\" class=\"dataframe\">\n",
       "  <thead>\n",
       "    <tr style=\"text-align: right;\">\n",
       "      <th></th>\n",
       "      <th>keywords</th>\n",
       "      <th>text</th>\n",
       "      <th>keywords_ohe</th>\n",
       "    </tr>\n",
       "  </thead>\n",
       "  <tbody>\n",
       "    <tr>\n",
       "      <th>0</th>\n",
       "      <td>[Training, Degradation, Complexity theory, Ima...</td>\n",
       "      <td>Deep Residual Learning for Image RecognitionDe...</td>\n",
       "      <td>[1, 1, 1, 1, 1, 1, 1, 0, 0, 0, 0, 0, 0, 0, 0, ...</td>\n",
       "    </tr>\n",
       "    <tr>\n",
       "      <th>1</th>\n",
       "      <td>[Genetic algorithms, Computational complexity,...</td>\n",
       "      <td>A fast and elitist multiobjective genetic algo...</td>\n",
       "      <td>[0, 0, 0, 0, 0, 0, 0, 1, 1, 1, 1, 1, 1, 1, 0, ...</td>\n",
       "    </tr>\n",
       "    <tr>\n",
       "      <th>2</th>\n",
       "      <td>[Particle swarm optimization, Birds, Education...</td>\n",
       "      <td>Particle swarm optimizationA concept for the o...</td>\n",
       "      <td>[0, 0, 0, 0, 0, 0, 0, 1, 0, 0, 0, 1, 0, 0, 1, ...</td>\n",
       "    </tr>\n",
       "    <tr>\n",
       "      <th>3</th>\n",
       "      <td>[Computer architecture, Convolutional codes, S...</td>\n",
       "      <td>Going deeper with convolutionsWe propose a dee...</td>\n",
       "      <td>[0, 0, 0, 0, 1, 1, 0, 0, 0, 0, 0, 0, 0, 0, 0, ...</td>\n",
       "    </tr>\n",
       "    <tr>\n",
       "      <th>4</th>\n",
       "      <td>[Computer architecture, Microprocessors, Objec...</td>\n",
       "      <td>You Only Look Once: Unified, Real-Time Object ...</td>\n",
       "      <td>[1, 0, 0, 0, 1, 0, 0, 0, 0, 0, 0, 0, 0, 0, 0, ...</td>\n",
       "    </tr>\n",
       "    <tr>\n",
       "      <th>...</th>\n",
       "      <td>...</td>\n",
       "      <td>...</td>\n",
       "      <td>...</td>\n",
       "    </tr>\n",
       "    <tr>\n",
       "      <th>51679</th>\n",
       "      <td>[Microgrids, Batteries, Energy management, Opt...</td>\n",
       "      <td>Optimal Energy Management for a Residential Mi...</td>\n",
       "      <td>[0, 0, 0, 0, 0, 0, 0, 0, 0, 0, 0, 0, 0, 0, 0, ...</td>\n",
       "    </tr>\n",
       "    <tr>\n",
       "      <th>51680</th>\n",
       "      <td>[Programmable control, Adaptive control, Itera...</td>\n",
       "      <td>An adaptive iterative learning control algorit...</td>\n",
       "      <td>[0, 0, 0, 0, 0, 0, 0, 0, 0, 0, 0, 0, 0, 0, 0, ...</td>\n",
       "    </tr>\n",
       "    <tr>\n",
       "      <th>51681</th>\n",
       "      <td>[Fuzzy sets, Fuzzy systems, Power system model...</td>\n",
       "      <td>Compact and transparent fuzzy models and class...</td>\n",
       "      <td>[0, 0, 0, 0, 0, 0, 0, 1, 0, 0, 0, 0, 0, 1, 0, ...</td>\n",
       "    </tr>\n",
       "    <tr>\n",
       "      <th>51682</th>\n",
       "      <td>[Mobile handsets, Resource management, Servers...</td>\n",
       "      <td>Smart Resource Allocation for Mobile Edge Comp...</td>\n",
       "      <td>[0, 0, 0, 0, 0, 0, 0, 0, 0, 0, 0, 0, 0, 0, 0, ...</td>\n",
       "    </tr>\n",
       "    <tr>\n",
       "      <th>51683</th>\n",
       "      <td>[Face, Image recognition, Feature extraction, ...</td>\n",
       "      <td>Quality Aware Network for Set to Set Recogniti...</td>\n",
       "      <td>[1, 0, 0, 1, 1, 0, 0, 0, 0, 0, 0, 0, 0, 0, 0, ...</td>\n",
       "    </tr>\n",
       "  </tbody>\n",
       "</table>\n",
       "<p>51662 rows × 3 columns</p>\n",
       "</div>"
      ],
      "text/plain": [
       "                                                keywords  \\\n",
       "0      [Training, Degradation, Complexity theory, Ima...   \n",
       "1      [Genetic algorithms, Computational complexity,...   \n",
       "2      [Particle swarm optimization, Birds, Education...   \n",
       "3      [Computer architecture, Convolutional codes, S...   \n",
       "4      [Computer architecture, Microprocessors, Objec...   \n",
       "...                                                  ...   \n",
       "51679  [Microgrids, Batteries, Energy management, Opt...   \n",
       "51680  [Programmable control, Adaptive control, Itera...   \n",
       "51681  [Fuzzy sets, Fuzzy systems, Power system model...   \n",
       "51682  [Mobile handsets, Resource management, Servers...   \n",
       "51683  [Face, Image recognition, Feature extraction, ...   \n",
       "\n",
       "                                                    text  \\\n",
       "0      Deep Residual Learning for Image RecognitionDe...   \n",
       "1      A fast and elitist multiobjective genetic algo...   \n",
       "2      Particle swarm optimizationA concept for the o...   \n",
       "3      Going deeper with convolutionsWe propose a dee...   \n",
       "4      You Only Look Once: Unified, Real-Time Object ...   \n",
       "...                                                  ...   \n",
       "51679  Optimal Energy Management for a Residential Mi...   \n",
       "51680  An adaptive iterative learning control algorit...   \n",
       "51681  Compact and transparent fuzzy models and class...   \n",
       "51682  Smart Resource Allocation for Mobile Edge Comp...   \n",
       "51683  Quality Aware Network for Set to Set Recogniti...   \n",
       "\n",
       "                                            keywords_ohe  \n",
       "0      [1, 1, 1, 1, 1, 1, 1, 0, 0, 0, 0, 0, 0, 0, 0, ...  \n",
       "1      [0, 0, 0, 0, 0, 0, 0, 1, 1, 1, 1, 1, 1, 1, 0, ...  \n",
       "2      [0, 0, 0, 0, 0, 0, 0, 1, 0, 0, 0, 1, 0, 0, 1, ...  \n",
       "3      [0, 0, 0, 0, 1, 1, 0, 0, 0, 0, 0, 0, 0, 0, 0, ...  \n",
       "4      [1, 0, 0, 0, 1, 0, 0, 0, 0, 0, 0, 0, 0, 0, 0, ...  \n",
       "...                                                  ...  \n",
       "51679  [0, 0, 0, 0, 0, 0, 0, 0, 0, 0, 0, 0, 0, 0, 0, ...  \n",
       "51680  [0, 0, 0, 0, 0, 0, 0, 0, 0, 0, 0, 0, 0, 0, 0, ...  \n",
       "51681  [0, 0, 0, 0, 0, 0, 0, 1, 0, 0, 0, 0, 0, 1, 0, ...  \n",
       "51682  [0, 0, 0, 0, 0, 0, 0, 0, 0, 0, 0, 0, 0, 0, 0, ...  \n",
       "51683  [1, 0, 0, 1, 1, 0, 0, 0, 0, 0, 0, 0, 0, 0, 0, ...  \n",
       "\n",
       "[51662 rows x 3 columns]"
      ]
     },
     "execution_count": 15,
     "metadata": {},
     "output_type": "execute_result"
    }
   ],
   "source": [
    "data"
   ]
  },
  {
   "cell_type": "code",
   "execution_count": 16,
   "id": "a711ce90",
   "metadata": {
    "execution": {
     "iopub.execute_input": "2023-08-11T11:09:10.728346Z",
     "iopub.status.busy": "2023-08-11T11:09:10.727823Z",
     "iopub.status.idle": "2023-08-11T11:09:13.608538Z",
     "shell.execute_reply": "2023-08-11T11:09:13.607327Z"
    },
    "papermill": {
     "duration": 2.89402,
     "end_time": "2023-08-11T11:09:13.611161",
     "exception": false,
     "start_time": "2023-08-11T11:09:10.717141",
     "status": "completed"
    },
    "tags": []
   },
   "outputs": [
    {
     "name": "stdout",
     "output_type": "stream",
     "text": [
      "211\n",
      "2138\n",
      "1167.515833688204\n"
     ]
    }
   ],
   "source": [
    "text_size=[]\n",
    "for i in range(len(data[\"text\"])):\n",
    "    text_size.append(len(data.iloc[i]['text']))\n",
    "print(min(text_size)) #minimumn length of abstract+title\n",
    "print(max(text_size))\n",
    "print(sum(text_size)/len(text_size)) #average"
   ]
  },
  {
   "cell_type": "code",
   "execution_count": 17,
   "id": "08b8b207",
   "metadata": {
    "execution": {
     "iopub.execute_input": "2023-08-11T11:09:13.633698Z",
     "iopub.status.busy": "2023-08-11T11:09:13.632653Z",
     "iopub.status.idle": "2023-08-11T11:09:13.990282Z",
     "shell.execute_reply": "2023-08-11T11:09:13.988959Z"
    },
    "papermill": {
     "duration": 0.371202,
     "end_time": "2023-08-11T11:09:13.992564",
     "exception": false,
     "start_time": "2023-08-11T11:09:13.621362",
     "status": "completed"
    },
    "tags": []
   },
   "outputs": [
    {
     "data": {
      "text/plain": [
       "Text(0.5, 1.0, 'Size of sequence')"
      ]
     },
     "execution_count": 17,
     "metadata": {},
     "output_type": "execute_result"
    },
    {
     "data": {
      "image/png": "[encoded data removed]",
      "text/plain": [
       "<Figure size 640x480 with 1 Axes>"
      ]
     },
     "metadata": {},
     "output_type": "display_data"
    }
   ],
   "source": [
    "distribution=Counter(list(text_size))\n",
    "sorted_count=sorted(distribution.items())\n",
    "sorted_count= [i[1] for i in sorted_count]\n",
    "plt.plot(sorted_count)\n",
    "plt.xlabel('Sequence Length')\n",
    "plt.ylabel('Count')\n",
    "plt.title('Size of sequence')"
   ]
  },
  {
   "cell_type": "markdown",
   "id": "4f7efd97",
   "metadata": {
    "papermill": {
     "duration": 0.010775,
     "end_time": "2023-08-11T11:09:14.015663",
     "exception": false,
     "start_time": "2023-08-11T11:09:14.004888",
     "status": "completed"
    },
    "tags": []
   },
   "source": [
    "# Classification"
   ]
  },
  {
   "cell_type": "code",
   "execution_count": 18,
   "id": "eec181f1",
   "metadata": {
    "execution": {
     "iopub.execute_input": "2023-08-11T11:09:14.038272Z",
     "iopub.status.busy": "2023-08-11T11:09:14.037933Z",
     "iopub.status.idle": "2023-08-11T11:11:20.601234Z",
     "shell.execute_reply": "2023-08-11T11:11:20.599583Z"
    },
    "papermill": {
     "duration": 126.578529,
     "end_time": "2023-08-11T11:11:20.604887",
     "exception": false,
     "start_time": "2023-08-11T11:09:14.026358",
     "status": "completed"
    },
    "tags": []
   },
   "outputs": [
    {
     "name": "stdout",
     "output_type": "stream",
     "text": [
      "\u001b[31mERROR: pip's dependency resolver does not currently take into account all the packages that are installed. This behaviour is the source of the following dependency conflicts.\r\n",
      "torchdata 0.6.0 requires torch==2.0.0, but you have torch 1.13.1 which is incompatible.\u001b[0m\u001b[31m\r\n",
      "\u001b[0m"
     ]
    }
   ],
   "source": [
    "! pip install -q transformers[sentencepiece] fastbook fastai ohmeow-blurr nbdev"
   ]
  },
  {
   "cell_type": "code",
   "execution_count": 19,
   "id": "681407ba",
   "metadata": {
    "execution": {
     "iopub.execute_input": "2023-08-11T11:11:20.649754Z",
     "iopub.status.busy": "2023-08-11T11:11:20.649198Z",
     "iopub.status.idle": "2023-08-11T11:11:41.390911Z",
     "shell.execute_reply": "2023-08-11T11:11:41.389923Z"
    },
    "papermill": {
     "duration": 20.767257,
     "end_time": "2023-08-11T11:11:41.393402",
     "exception": false,
     "start_time": "2023-08-11T11:11:20.626145",
     "status": "completed"
    },
    "tags": []
   },
   "outputs": [
    {
     "name": "stderr",
     "output_type": "stream",
     "text": [
      "/opt/conda/lib/python3.10/site-packages/scipy/__init__.py:146: UserWarning: A NumPy version >=1.16.5 and <1.23.0 is required for this version of SciPy (detected version 1.23.5\n",
      "  warnings.warn(f\"A NumPy version >={np_minversion} and <{np_maxversion}\"\n",
      "/opt/conda/lib/python3.10/site-packages/tensorflow_io/python/ops/__init__.py:98: UserWarning: unable to load libtensorflow_io_plugins.so: unable to open file: libtensorflow_io_plugins.so, from paths: ['/opt/conda/lib/python3.10/site-packages/tensorflow_io/python/ops/libtensorflow_io_plugins.so']\n",
      "caused by: ['/opt/conda/lib/python3.10/site-packages/tensorflow_io/python/ops/libtensorflow_io_plugins.so: undefined symbol: _ZN3tsl6StatusC1EN10tensorflow5error4CodeESt17basic_string_viewIcSt11char_traitsIcEENS_14SourceLocationE']\n",
      "  warnings.warn(f\"unable to load libtensorflow_io_plugins.so: {e}\")\n",
      "/opt/conda/lib/python3.10/site-packages/tensorflow_io/python/ops/__init__.py:104: UserWarning: file system plugins are not loaded: unable to open file: libtensorflow_io.so, from paths: ['/opt/conda/lib/python3.10/site-packages/tensorflow_io/python/ops/libtensorflow_io.so']\n",
      "caused by: ['/opt/conda/lib/python3.10/site-packages/tensorflow_io/python/ops/libtensorflow_io.so: undefined symbol: _ZTVN10tensorflow13GcsFileSystemE']\n",
      "  warnings.warn(f\"file system plugins are not loaded: {e}\")\n"
     ]
    },
    {
     "data": {
      "application/vnd.jupyter.widget-view+json": {
       "model_id": "21c82ee58ca0473dbfb3b3175ad4f6ac",
       "version_major": 2,
       "version_minor": 0
      },
      "text/plain": [
       "Downloading builder script:   0%|          | 0.00/1.72k [00:00<?, ?B/s]"
      ]
     },
     "metadata": {},
     "output_type": "display_data"
    },
    {
     "data": {
      "application/vnd.jupyter.widget-view+json": {
       "model_id": "b84f689e9d2e492993abc4bb49dfdfe5",
       "version_major": 2,
       "version_minor": 0
      },
      "text/plain": [
       "Downloading extra modules:   0%|          | 0.00/1.12k [00:00<?, ?B/s]"
      ]
     },
     "metadata": {},
     "output_type": "display_data"
    },
    {
     "data": {
      "application/vnd.jupyter.widget-view+json": {
       "model_id": "79e9a7cf75d049aa977f15af249d43c6",
       "version_major": 2,
       "version_minor": 0
      },
      "text/plain": [
       "Downloading (…)lve/main/config.json:   0%|          | 0.00/480 [00:00<?, ?B/s]"
      ]
     },
     "metadata": {},
     "output_type": "display_data"
    },
    {
     "data": {
      "application/vnd.jupyter.widget-view+json": {
       "model_id": "419933fc8cf64d87902abe633c19a7e6",
       "version_major": 2,
       "version_minor": 0
      },
      "text/plain": [
       "Downloading (…)olve/main/vocab.json:   0%|          | 0.00/899k [00:00<?, ?B/s]"
      ]
     },
     "metadata": {},
     "output_type": "display_data"
    },
    {
     "data": {
      "application/vnd.jupyter.widget-view+json": {
       "model_id": "48e5e8bb4cc0490e96c3ce7e8495df37",
       "version_major": 2,
       "version_minor": 0
      },
      "text/plain": [
       "Downloading (…)olve/main/merges.txt:   0%|          | 0.00/456k [00:00<?, ?B/s]"
      ]
     },
     "metadata": {},
     "output_type": "display_data"
    },
    {
     "data": {
      "application/vnd.jupyter.widget-view+json": {
       "model_id": "755db871752b4e768684bcf5cd028047",
       "version_major": 2,
       "version_minor": 0
      },
      "text/plain": [
       "Downloading (…)/main/tokenizer.json:   0%|          | 0.00/1.36M [00:00<?, ?B/s]"
      ]
     },
     "metadata": {},
     "output_type": "display_data"
    },
    {
     "data": {
      "application/vnd.jupyter.widget-view+json": {
       "model_id": "738f58beb2d8489c9cc4d2ea1bad11de",
       "version_major": 2,
       "version_minor": 0
      },
      "text/plain": [
       "Downloading model.safetensors:   0%|          | 0.00/331M [00:00<?, ?B/s]"
      ]
     },
     "metadata": {},
     "output_type": "display_data"
    }
   ],
   "source": [
    "from transformers import AutoTokenizer, AutoModelForSequenceClassification, AutoConfig\n",
    "from sklearn.model_selection import train_test_split\n",
    "from fastai.text.all import *\n",
    "from blurr.text.data.all import *\n",
    "from blurr.text.modeling.all import *\n",
    "\n",
    "model_name = \"distilroberta-base\"\n",
    "model_cls = AutoModelForSequenceClassification\n",
    "config = AutoConfig.from_pretrained(model_name, num_labels = len(common_keywords))\n",
    "\n",
    "\n",
    "hf_arch, hf_config, hf_tokenizer, hf_model = get_hf_objects(model_name, model_cls=model_cls, config=config,)\n",
    "hf_model.config.problem_type = \"multi_label_classification\"\n"
   ]
  },
  {
   "cell_type": "code",
   "execution_count": 20,
   "id": "1db68be4",
   "metadata": {
    "execution": {
     "iopub.execute_input": "2023-08-11T11:11:41.419941Z",
     "iopub.status.busy": "2023-08-11T11:11:41.419286Z",
     "iopub.status.idle": "2023-08-11T11:11:41.434842Z",
     "shell.execute_reply": "2023-08-11T11:11:41.433888Z"
    },
    "papermill": {
     "duration": 0.030966,
     "end_time": "2023-08-11T11:11:41.436932",
     "exception": false,
     "start_time": "2023-08-11T11:11:41.405966",
     "status": "completed"
    },
    "tags": []
   },
   "outputs": [],
   "source": [
    "blocks = (TextBlock(hf_arch, hf_config, hf_tokenizer, hf_model), MultiCategoryBlock(encoded=True,vocab=list(ohe_map.values())))\n",
    "dblock = DataBlock(blocks=blocks, get_x=ColReader('text'), get_y=ColReader('keywords_ohe'), splitter=RandomSplitter(valid_pct=0.1, seed=42))"
   ]
  },
  {
   "cell_type": "code",
   "execution_count": 21,
   "id": "129c7ac8",
   "metadata": {
    "execution": {
     "iopub.execute_input": "2023-08-11T11:11:41.462205Z",
     "iopub.status.busy": "2023-08-11T11:11:41.461398Z",
     "iopub.status.idle": "2023-08-11T11:13:12.336973Z",
     "shell.execute_reply": "2023-08-11T11:13:12.335894Z"
    },
    "papermill": {
     "duration": 90.890891,
     "end_time": "2023-08-11T11:13:12.339873",
     "exception": false,
     "start_time": "2023-08-11T11:11:41.448982",
     "status": "completed"
    },
    "tags": []
   },
   "outputs": [],
   "source": [
    "dls = dblock.dataloaders(data, bs=32)\n",
    "torch.save(dls, \"dataloader-multilable-keyword.pkl\")"
   ]
  },
  {
   "cell_type": "code",
   "execution_count": 22,
   "id": "4db1d3fd",
   "metadata": {
    "execution": {
     "iopub.execute_input": "2023-08-11T11:13:12.366306Z",
     "iopub.status.busy": "2023-08-11T11:13:12.365930Z",
     "iopub.status.idle": "2023-08-11T11:13:12.465370Z",
     "shell.execute_reply": "2023-08-11T11:13:12.464381Z"
    },
    "papermill": {
     "duration": 0.115166,
     "end_time": "2023-08-11T11:13:12.467707",
     "exception": false,
     "start_time": "2023-08-11T11:13:12.352541",
     "status": "completed"
    },
    "tags": []
   },
   "outputs": [],
   "source": [
    "model = BaseModelWrapper(hf_model)\n",
    " \n",
    "acc_05 = partial(accuracy_multi, thresh=0.5)\n",
    "\n",
    "learner = Learner(dls, \n",
    "                  model,\n",
    "                  opt_func=partial(OptimWrapper, opt=torch.optim.AdamW),\n",
    "                  loss_func=BCEWithLogitsLossFlat(),\n",
    "                  metrics=[acc_05],\n",
    "                  cbs=[BaseModelCallback],\n",
    "                  splitter=blurr_splitter\n",
    "                  ).to_fp16()"
   ]
  },
  {
   "cell_type": "code",
   "execution_count": 23,
   "id": "4e16f262",
   "metadata": {
    "execution": {
     "iopub.execute_input": "2023-08-11T11:13:12.516673Z",
     "iopub.status.busy": "2023-08-11T11:13:12.516366Z",
     "iopub.status.idle": "2023-08-11T11:13:12.534464Z",
     "shell.execute_reply": "2023-08-11T11:13:12.533551Z"
    },
    "papermill": {
     "duration": 0.033089,
     "end_time": "2023-08-11T11:13:12.536442",
     "exception": false,
     "start_time": "2023-08-11T11:13:12.503353",
     "status": "completed"
    },
    "tags": []
   },
   "outputs": [],
   "source": [
    "learner.freeze()"
   ]
  },
  {
   "cell_type": "code",
   "execution_count": 24,
   "id": "c81debfe",
   "metadata": {
    "execution": {
     "iopub.execute_input": "2023-08-11T11:13:12.563106Z",
     "iopub.status.busy": "2023-08-11T11:13:12.561577Z",
     "iopub.status.idle": "2023-08-11T11:38:06.728599Z",
     "shell.execute_reply": "2023-08-11T11:38:06.727325Z"
    },
    "papermill": {
     "duration": 1494.18255,
     "end_time": "2023-08-11T11:38:06.731028",
     "exception": false,
     "start_time": "2023-08-11T11:13:12.548478",
     "status": "completed"
    },
    "tags": []
   },
   "outputs": [
    {
     "data": {
      "text/html": [
       "\n",
       "<style>\n",
       "    /* Turns off some styling */\n",
       "    progress {\n",
       "        /* gets rid of default border in Firefox and Opera. */\n",
       "        border: none;\n",
       "        /* Needs to be in here for Safari polyfill so background images work as expected. */\n",
       "        background-size: auto;\n",
       "    }\n",
       "    progress:not([value]), progress:not([value])::-webkit-progress-bar {\n",
       "        background: repeating-linear-gradient(45deg, #7e7e7e, #7e7e7e 10px, #5c5c5c 10px, #5c5c5c 20px);\n",
       "    }\n",
       "    .progress-bar-interrupted, .progress-bar-interrupted::-webkit-progress-bar {\n",
       "        background: #F44336;\n",
       "    }\n",
       "</style>\n"
      ],
      "text/plain": [
       "<IPython.core.display.HTML object>"
      ]
     },
     "metadata": {},
     "output_type": "display_data"
    },
    {
     "data": {
      "text/html": [
       "<table border=\"1\" class=\"dataframe\">\n",
       "  <thead>\n",
       "    <tr style=\"text-align: left;\">\n",
       "      <th>epoch</th>\n",
       "      <th>train_loss</th>\n",
       "      <th>valid_loss</th>\n",
       "      <th>accuracy_multi</th>\n",
       "      <th>time</th>\n",
       "    </tr>\n",
       "  </thead>\n",
       "  <tbody>\n",
       "    <tr>\n",
       "      <td>0</td>\n",
       "      <td>0.008206</td>\n",
       "      <td>0.008068</td>\n",
       "      <td>0.998638</td>\n",
       "      <td>04:58</td>\n",
       "    </tr>\n",
       "    <tr>\n",
       "      <td>1</td>\n",
       "      <td>0.006283</td>\n",
       "      <td>0.005381</td>\n",
       "      <td>0.998746</td>\n",
       "      <td>04:58</td>\n",
       "    </tr>\n",
       "    <tr>\n",
       "      <td>2</td>\n",
       "      <td>0.004969</td>\n",
       "      <td>0.004872</td>\n",
       "      <td>0.998763</td>\n",
       "      <td>04:59</td>\n",
       "    </tr>\n",
       "    <tr>\n",
       "      <td>3</td>\n",
       "      <td>0.004054</td>\n",
       "      <td>0.004551</td>\n",
       "      <td>0.998818</td>\n",
       "      <td>04:58</td>\n",
       "    </tr>\n",
       "    <tr>\n",
       "      <td>4</td>\n",
       "      <td>0.003506</td>\n",
       "      <td>0.004463</td>\n",
       "      <td>0.998828</td>\n",
       "      <td>04:59</td>\n",
       "    </tr>\n",
       "  </tbody>\n",
       "</table>"
      ],
      "text/plain": [
       "<IPython.core.display.HTML object>"
      ]
     },
     "metadata": {},
     "output_type": "display_data"
    },
    {
     "name": "stdout",
     "output_type": "stream",
     "text": [
      "huggingface/tokenizers: The current process just got forked, after parallelism has already been used. Disabling parallelism to avoid deadlocks...\n",
      "To disable this warning, you can either:\n",
      "\t- Avoid using `tokenizers` before the fork if possible\n",
      "\t- Explicitly set the environment variable TOKENIZERS_PARALLELISM=(true | false)\n",
      "huggingface/tokenizers: The current process just got forked, after parallelism has already been used. Disabling parallelism to avoid deadlocks...\n",
      "To disable this warning, you can either:\n",
      "\t- Avoid using `tokenizers` before the fork if possible\n",
      "\t- Explicitly set the environment variable TOKENIZERS_PARALLELISM=(true | false)\n",
      "huggingface/tokenizers: The current process just got forked, after parallelism has already been used. Disabling parallelism to avoid deadlocks...\n",
      "To disable this warning, you can either:\n",
      "\t- Avoid using `tokenizers` before the fork if possible\n",
      "\t- Explicitly set the environment variable TOKENIZERS_PARALLELISM=(true | false)\n",
      "huggingface/tokenizers: The current process just got forked, after parallelism has already been used. Disabling parallelism to avoid deadlocks...\n",
      "To disable this warning, you can either:\n",
      "\t- Avoid using `tokenizers` before the fork if possible\n",
      "\t- Explicitly set the environment variable TOKENIZERS_PARALLELISM=(true | false)\n",
      "huggingface/tokenizers: The current process just got forked, after parallelism has already been used. Disabling parallelism to avoid deadlocks...\n",
      "To disable this warning, you can either:\n",
      "\t- Avoid using `tokenizers` before the fork if possible\n",
      "\t- Explicitly set the environment variable TOKENIZERS_PARALLELISM=(true | false)\n",
      "huggingface/tokenizers: The current process just got forked, after parallelism has already been used. Disabling parallelism to avoid deadlocks...\n",
      "To disable this warning, you can either:\n",
      "\t- Avoid using `tokenizers` before the fork if possible\n",
      "\t- Explicitly set the environment variable TOKENIZERS_PARALLELISM=(true | false)\n",
      "huggingface/tokenizers: The current process just got forked, after parallelism has already been used. Disabling parallelism to avoid deadlocks...\n",
      "To disable this warning, you can either:\n",
      "\t- Avoid using `tokenizers` before the fork if possible\n",
      "\t- Explicitly set the environment variable TOKENIZERS_PARALLELISM=(true | false)\n",
      "huggingface/tokenizers: The current process just got forked, after parallelism has already been used. Disabling parallelism to avoid deadlocks...\n",
      "To disable this warning, you can either:\n",
      "\t- Avoid using `tokenizers` before the fork if possible\n",
      "\t- Explicitly set the environment variable TOKENIZERS_PARALLELISM=(true | false)\n",
      "huggingface/tokenizers: The current process just got forked, after parallelism has already been used. Disabling parallelism to avoid deadlocks...\n",
      "To disable this warning, you can either:\n",
      "\t- Avoid using `tokenizers` before the fork if possible\n",
      "\t- Explicitly set the environment variable TOKENIZERS_PARALLELISM=(true | false)\n",
      "huggingface/tokenizers: The current process just got forked, after parallelism has already been used. Disabling parallelism to avoid deadlocks...\n",
      "To disable this warning, you can either:\n",
      "\t- Avoid using `tokenizers` before the fork if possible\n",
      "\t- Explicitly set the environment variable TOKENIZERS_PARALLELISM=(true | false)\n",
      "To disable this warning, you can either:\n",
      "\t- Avoid using `tokenizers` before the fork if possible\n",
      "\t- Explicitly set the environment variable TOKENIZERS_PARALLELISM=(true | false)\n",
      "huggingface/tokenizers: The current process just got forked, after parallelism has already been used. Disabling parallelism to avoid deadlocks...\n",
      "To disable this warning, you can either:\n",
      "\t- Avoid using `tokenizers` before the fork if possible\n",
      "\t- Explicitly set the environment variable TOKENIZERS_PARALLELISM=(true | false)\n",
      "huggingface/tokenizers: The current process just got forked, after parallelism has already been used. Disabling parallelism to avoid deadlocks...\n",
      "To disable this warning, you can either:\n",
      "\t- Avoid using `tokenizers` before the fork if possible\n",
      "\t- Explicitly set the environment variable TOKENIZERS_PARALLELISM=(true | false)\n",
      "\t- Avoid using `tokenizers` before the fork if possible\n",
      "\t- Explicitly set the environment variable TOKENIZERS_PARALLELISM=(true | false)\n",
      "huggingface/tokenizers: The current process just got forked, after parallelism has already been used. Disabling parallelism to avoid deadlocks...\n",
      "To disable this warning, you can either:\n",
      "\t- Avoid using `tokenizers` before the fork if possible\n",
      "\t- Explicitly set the environment variable TOKENIZERS_PARALLELISM=(true | false)\n",
      "huggingface/tokenizers: The current process just got forked, after parallelism has already been used. Disabling parallelism to avoid deadlocks...\n",
      "To disable this warning, you can either:\n",
      "\t- Avoid using `tokenizers` before the fork if possible\n",
      "\t- Explicitly set the environment variable TOKENIZERS_PARALLELISM=(true | false)\n",
      "huggingface/tokenizers: The current process just got forked, after parallelism has already been used. Disabling parallelism to avoid deadlocks...\n",
      "To disable this warning, you can either:\n",
      "\t- Avoid using `tokenizers` before the fork if possible\n",
      "\t- Explicitly set the environment variable TOKENIZERS_PARALLELISM=(true | false)\n",
      "huggingface/tokenizers: The current process just got forked, after parallelism has already been used. Disabling parallelism to avoid deadlocks...\n",
      "To disable this warning, you can either:\n",
      "\t- Avoid using `tokenizers` before the fork if possible\n",
      "\t- Explicitly set the environment variable TOKENIZERS_PARALLELISM=(true | false)\n",
      "huggingface/tokenizers: The current process just got forked, after parallelism has already been used. Disabling parallelism to avoid deadlocks...\n",
      "To disable this warning, you can either:\n",
      "\t- Avoid using `tokenizers` before the fork if possible\n",
      "\t- Explicitly set the environment variable TOKENIZERS_PARALLELISM=(true | false)\n",
      "huggingface/tokenizers: The current process just got forked, after parallelism has already been used. Disabling parallelism to avoid deadlocks...\n",
      "To disable this warning, you can either:\n",
      "\t- Avoid using `tokenizers` before the fork if possible\n",
      "\t- Explicitly set the environment variable TOKENIZERS_PARALLELISM=(true | false)\n",
      "To disable this warning, you can either:\n",
      "\t- Avoid using `tokenizers` before the fork if possible\n",
      "\t- Explicitly set the environment variable TOKENIZERS_PARALLELISM=(true | false)\n",
      "huggingface/tokenizers: The current process just got forked, after parallelism has already been used. Disabling parallelism to avoid deadlocks...\n",
      "To disable this warning, you can either:\n",
      "\t- Avoid using `tokenizers` before the fork if possible\n",
      "\t- Explicitly set the environment variable TOKENIZERS_PARALLELISM=(true | false)\n",
      "huggingface/tokenizers: The current process just got forked, after parallelism has already been used. Disabling parallelism to avoid deadlocks...\n",
      "To disable this warning, you can either:\n",
      "\t- Avoid using `tokenizers` before the fork if possible\n",
      "\t- Explicitly set the environment variable TOKENIZERS_PARALLELISM=(true | false)\n"
     ]
    }
   ],
   "source": [
    "learner.fit_one_cycle(5,0.001)"
   ]
  },
  {
   "cell_type": "code",
   "execution_count": 25,
   "id": "8813479b",
   "metadata": {
    "execution": {
     "iopub.execute_input": "2023-08-11T11:38:06.765767Z",
     "iopub.status.busy": "2023-08-11T11:38:06.763968Z",
     "iopub.status.idle": "2023-08-11T11:38:08.225190Z",
     "shell.execute_reply": "2023-08-11T11:38:08.224016Z"
    },
    "papermill": {
     "duration": 1.480779,
     "end_time": "2023-08-11T11:38:08.227718",
     "exception": false,
     "start_time": "2023-08-11T11:38:06.746939",
     "status": "completed"
    },
    "tags": []
   },
   "outputs": [],
   "source": [
    "learner.save(\"key-predict-sv\")\n",
    "learner.export(\"keyword-predictor.pkl\")"
   ]
  }
 ],
 "metadata": {
  "kernelspec": {
   "display_name": "Python 3",
   "language": "python",
   "name": "python3"
  },
  "language_info": {
   "codemirror_mode": {
    "name": "ipython",
    "version": 3
   },
   "file_extension": ".py",
   "mimetype": "text/x-python",
   "name": "python",
   "nbconvert_exporter": "python",
   "pygments_lexer": "ipython3",
   "version": "3.10.12"
  },
  "papermill": {
   "default_parameters": {},
   "duration": 1767.752024,
   "end_time": "2023-08-11T11:38:11.210215",
   "environment_variables": {},
   "exception": null,
   "input_path": "__notebook__.ipynb",
   "output_path": "__notebook__.ipynb",
   "parameters": {},
   "start_time": "2023-08-11T11:08:43.458191",
   "version": "2.4.0"
  },
  "widgets": {
   "application/vnd.jupyter.widget-state+json": {
    "state": {
     "064fc66bdf5141b487408816dbe4b380": {
      "model_module": "@jupyter-widgets/base",
      "model_module_version": "1.2.0",
      "model_name": "LayoutModel",
      "state": {
       "_model_module": "@jupyter-widgets/base",
       "_model_module_version": "1.2.0",
       "_model_name": "LayoutModel",
       "_view_count": null,
       "_view_module": "@jupyter-widgets/base",
       "_view_module_version": "1.2.0",
       "_view_name": "LayoutView",
       "align_content": null,
       "align_items": null,
       "align_self": null,
       "border": null,
       "bottom": null,
       "display": null,
       "flex": null,
       "flex_flow": null,
       "grid_area": null,
       "grid_auto_columns": null,
       "grid_auto_flow": null,
       "grid_auto_rows": null,
       "grid_column": null,
       "grid_gap": null,
       "grid_row": null,
       "grid_template_areas": null,
       "grid_template_columns": null,
       "grid_template_rows": null,
       "height": null,
       "justify_content": null,
       "justify_items": null,
       "left": null,
       "margin": null,
       "max_height": null,
       "max_width": null,
       "min_height": null,
       "min_width": null,
       "object_fit": null,
       "object_position": null,
       "order": null,
       "overflow": null,
       "overflow_x": null,
       "overflow_y": null,
       "padding": null,
       "right": null,
       "top": null,
       "visibility": null,
       "width": null
      }
     },
     "0ec42db4b9394032b8752b810edfac7a": {
      "model_module": "@jupyter-widgets/base",
      "model_module_version": "1.2.0",
      "model_name": "LayoutModel",
      "state": {
       "_model_module": "@jupyter-widgets/base",
       "_model_module_version": "1.2.0",
       "_model_name": "LayoutModel",
       "_view_count": null,
       "_view_module": "@jupyter-widgets/base",
       "_view_module_version": "1.2.0",
       "_view_name": "LayoutView",
       "align_content": null,
       "align_items": null,
       "align_self": null,
       "border": null,
       "bottom": null,
       "display": null,
       "flex": null,
       "flex_flow": null,
       "grid_area": null,
       "grid_auto_columns": null,
       "grid_auto_flow": null,
       "grid_auto_rows": null,
       "grid_column": null,
       "grid_gap": null,
       "grid_row": null,
       "grid_template_areas": null,
       "grid_template_columns": null,
       "grid_template_rows": null,
       "height": null,
       "justify_content": null,
       "justify_items": null,
       "left": null,
       "margin": null,
       "max_height": null,
       "max_width": null,
       "min_height": null,
       "min_width": null,
       "object_fit": null,
       "object_position": null,
       "order": null,
       "overflow": null,
       "overflow_x": null,
       "overflow_y": null,
       "padding": null,
       "right": null,
       "top": null,
       "visibility": null,
       "width": null
      }
     },
     "0f80d297ea2b410d958642077dff28ce": {
      "model_module": "@jupyter-widgets/controls",
      "model_module_version": "1.5.0",
      "model_name": "DescriptionStyleModel",
      "state": {
       "_model_module": "@jupyter-widgets/controls",
       "_model_module_version": "1.5.0",
       "_model_name": "DescriptionStyleModel",
       "_view_count": null,
       "_view_module": "@jupyter-widgets/base",
       "_view_module_version": "1.2.0",
       "_view_name": "StyleView",
       "description_width": ""
      }
     },
     "16150ec5c75b4f1f80518d6415cc02b0": {
      "model_module": "@jupyter-widgets/base",
      "model_module_version": "1.2.0",
      "model_name": "LayoutModel",
      "state": {
       "_model_module": "@jupyter-widgets/base",
       "_model_module_version": "1.2.0",
       "_model_name": "LayoutModel",
       "_view_count": null,
       "_view_module": "@jupyter-widgets/base",
       "_view_module_version": "1.2.0",
       "_view_name": "LayoutView",
       "align_content": null,
       "align_items": null,
       "align_self": null,
       "border": null,
       "bottom": null,
       "display": null,
       "flex": null,
       "flex_flow": null,
       "grid_area": null,
       "grid_auto_columns": null,
       "grid_auto_flow": null,
       "grid_auto_rows": null,
       "grid_column": null,
       "grid_gap": null,
       "grid_row": null,
       "grid_template_areas": null,
       "grid_template_columns": null,
       "grid_template_rows": null,
       "height": null,
       "justify_content": null,
       "justify_items": null,
       "left": null,
       "margin": null,
       "max_height": null,
       "max_width": null,
       "min_height": null,
       "min_width": null,
       "object_fit": null,
       "object_position": null,
       "order": null,
       "overflow": null,
       "overflow_x": null,
       "overflow_y": null,
       "padding": null,
       "right": null,
       "top": null,
       "visibility": null,
       "width": null
      }
     },
     "1b598d5a8a874c29a816e1c0762267cb": {
      "model_module": "@jupyter-widgets/controls",
      "model_module_version": "1.5.0",
      "model_name": "FloatProgressModel",
      "state": {
       "_dom_classes": [],
       "_model_module": "@jupyter-widgets/controls",
       "_model_module_version": "1.5.0",
       "_model_name": "FloatProgressModel",
       "_view_count": null,
       "_view_module": "@jupyter-widgets/controls",
       "_view_module_version": "1.5.0",
       "_view_name": "ProgressView",
       "bar_style": "success",
       "description": "",
       "description_tooltip": null,
       "layout": "IPY_MODEL_63421ada55424f4990791b53e874ed28",
       "max": 331055963,
       "min": 0,
       "orientation": "horizontal",
       "style": "IPY_MODEL_ee91ff28641e4999a57765738b86b1a1",
       "value": 331055963
      }
     },
     "1e72e59aa4204ac8bca0f066ca993633": {
      "model_module": "@jupyter-widgets/base",
      "model_module_version": "1.2.0",
      "model_name": "LayoutModel",
      "state": {
       "_model_module": "@jupyter-widgets/base",
       "_model_module_version": "1.2.0",
       "_model_name": "LayoutModel",
       "_view_count": null,
       "_view_module": "@jupyter-widgets/base",
       "_view_module_version": "1.2.0",
       "_view_name": "LayoutView",
       "align_content": null,
       "align_items": null,
       "align_self": null,
       "border": null,
       "bottom": null,
       "display": null,
       "flex": null,
       "flex_flow": null,
       "grid_area": null,
       "grid_auto_columns": null,
       "grid_auto_flow": null,
       "grid_auto_rows": null,
       "grid_column": null,
       "grid_gap": null,
       "grid_row": null,
       "grid_template_areas": null,
       "grid_template_columns": null,
       "grid_template_rows": null,
       "height": null,
       "justify_content": null,
       "justify_items": null,
       "left": null,
       "margin": null,
       "max_height": null,
       "max_width": null,
       "min_height": null,
       "min_width": null,
       "object_fit": null,
       "object_position": null,
       "order": null,
       "overflow": null,
       "overflow_x": null,
       "overflow_y": null,
       "padding": null,
       "right": null,
       "top": null,
       "visibility": null,
       "width": null
      }
     },
     "1fe2c92447ad48518e7a016945e8f87f": {
      "model_module": "@jupyter-widgets/controls",
      "model_module_version": "1.5.0",
      "model_name": "DescriptionStyleModel",
      "state": {
       "_model_module": "@jupyter-widgets/controls",
       "_model_module_version": "1.5.0",
       "_model_name": "DescriptionStyleModel",
       "_view_count": null,
       "_view_module": "@jupyter-widgets/base",
       "_view_module_version": "1.2.0",
       "_view_name": "StyleView",
       "description_width": ""
      }
     },
     "214fa30b76764d419634ffc7c4d53bd4": {
      "model_module": "@jupyter-widgets/base",
      "model_module_version": "1.2.0",
      "model_name": "LayoutModel",
      "state": {
       "_model_module": "@jupyter-widgets/base",
       "_model_module_version": "1.2.0",
       "_model_name": "LayoutModel",
       "_view_count": null,
       "_view_module": "@jupyter-widgets/base",
       "_view_module_version": "1.2.0",
       "_view_name": "LayoutView",
       "align_content": null,
       "align_items": null,
       "align_self": null,
       "border": null,
       "bottom": null,
       "display": null,
       "flex": null,
       "flex_flow": null,
       "grid_area": null,
       "grid_auto_columns": null,
       "grid_auto_flow": null,
       "grid_auto_rows": null,
       "grid_column": null,
       "grid_gap": null,
       "grid_row": null,
       "grid_template_areas": null,
       "grid_template_columns": null,
       "grid_template_rows": null,
       "height": null,
       "justify_content": null,
       "justify_items": null,
       "left": null,
       "margin": null,
       "max_height": null,
       "max_width": null,
       "min_height": null,
       "min_width": null,
       "object_fit": null,
       "object_position": null,
       "order": null,
       "overflow": null,
       "overflow_x": null,
       "overflow_y": null,
       "padding": null,
       "right": null,
       "top": null,
       "visibility": null,
       "width": null
      }
     },
     "21c82ee58ca0473dbfb3b3175ad4f6ac": {
      "model_module": "@jupyter-widgets/controls",
      "model_module_version": "1.5.0",
      "model_name": "HBoxModel",
      "state": {
       "_dom_classes": [],
       "_model_module": "@jupyter-widgets/controls",
       "_model_module_version": "1.5.0",
       "_model_name": "HBoxModel",
       "_view_count": null,
       "_view_module": "@jupyter-widgets/controls",
       "_view_module_version": "1.5.0",
       "_view_name": "HBoxView",
       "box_style": "",
       "children": [
        "IPY_MODEL_38d51a117f2d4a819dbbd4e8cd4e6972",
        "IPY_MODEL_5facae475a4b45c39d9e53911d967a16",
        "IPY_MODEL_fe49c37f887141d79375052f481a2a44"
       ],
       "layout": "IPY_MODEL_60b5673e5c9f48668c826e0c1c0f6e01"
      }
     },
     "2598117720a24a84b41d53c7237e77c3": {
      "model_module": "@jupyter-widgets/controls",
      "model_module_version": "1.5.0",
      "model_name": "DescriptionStyleModel",
      "state": {
       "_model_module": "@jupyter-widgets/controls",
       "_model_module_version": "1.5.0",
       "_model_name": "DescriptionStyleModel",
       "_view_count": null,
       "_view_module": "@jupyter-widgets/base",
       "_view_module_version": "1.2.0",
       "_view_name": "StyleView",
       "description_width": ""
      }
     },
     "271ff193e51c488ba3323c834577b583": {
      "model_module": "@jupyter-widgets/base",
      "model_module_version": "1.2.0",
      "model_name": "LayoutModel",
      "state": {
       "_model_module": "@jupyter-widgets/base",
       "_model_module_version": "1.2.0",
       "_model_name": "LayoutModel",
       "_view_count": null,
       "_view_module": "@jupyter-widgets/base",
       "_view_module_version": "1.2.0",
       "_view_name": "LayoutView",
       "align_content": null,
       "align_items": null,
       "align_self": null,
       "border": null,
       "bottom": null,
       "display": null,
       "flex": null,
       "flex_flow": null,
       "grid_area": null,
       "grid_auto_columns": null,
       "grid_auto_flow": null,
       "grid_auto_rows": null,
       "grid_column": null,
       "grid_gap": null,
       "grid_row": null,
       "grid_template_areas": null,
       "grid_template_columns": null,
       "grid_template_rows": null,
       "height": null,
       "justify_content": null,
       "justify_items": null,
       "left": null,
       "margin": null,
       "max_height": null,
       "max_width": null,
       "min_height": null,
       "min_width": null,
       "object_fit": null,
       "object_position": null,
       "order": null,
       "overflow": null,
       "overflow_x": null,
       "overflow_y": null,
       "padding": null,
       "right": null,
       "top": null,
       "visibility": null,
       "width": null
      }
     },
     "2a73a84912e641c2a4702f52a58b5c8d": {
      "model_module": "@jupyter-widgets/controls",
      "model_module_version": "1.5.0",
      "model_name": "ProgressStyleModel",
      "state": {
       "_model_module": "@jupyter-widgets/controls",
       "_model_module_version": "1.5.0",
       "_model_name": "ProgressStyleModel",
       "_view_count": null,
       "_view_module": "@jupyter-widgets/base",
       "_view_module_version": "1.2.0",
       "_view_name": "StyleView",
       "bar_color": null,
       "description_width": ""
      }
     },
     "315b1b8ef1624823a750a456358b631f": {
      "model_module": "@jupyter-widgets/base",
      "model_module_version": "1.2.0",
      "model_name": "LayoutModel",
      "state": {
       "_model_module": "@jupyter-widgets/base",
       "_model_module_version": "1.2.0",
       "_model_name": "LayoutModel",
       "_view_count": null,
       "_view_module": "@jupyter-widgets/base",
       "_view_module_version": "1.2.0",
       "_view_name": "LayoutView",
       "align_content": null,
       "align_items": null,
       "align_self": null,
       "border": null,
       "bottom": null,
       "display": null,
       "flex": null,
       "flex_flow": null,
       "grid_area": null,
       "grid_auto_columns": null,
       "grid_auto_flow": null,
       "grid_auto_rows": null,
       "grid_column": null,
       "grid_gap": null,
       "grid_row": null,
       "grid_template_areas": null,
       "grid_template_columns": null,
       "grid_template_rows": null,
       "height": null,
       "justify_content": null,
       "justify_items": null,
       "left": null,
       "margin": null,
       "max_height": null,
       "max_width": null,
       "min_height": null,
       "min_width": null,
       "object_fit": null,
       "object_position": null,
       "order": null,
       "overflow": null,
       "overflow_x": null,
       "overflow_y": null,
       "padding": null,
       "right": null,
       "top": null,
       "visibility": null,
       "width": null
      }
     },
     "31da6a3ea7dc4e8b83f2e835f0a3cbf0": {
      "model_module": "@jupyter-widgets/controls",
      "model_module_version": "1.5.0",
      "model_name": "DescriptionStyleModel",
      "state": {
       "_model_module": "@jupyter-widgets/controls",
       "_model_module_version": "1.5.0",
       "_model_name": "DescriptionStyleModel",
       "_view_count": null,
       "_view_module": "@jupyter-widgets/base",
       "_view_module_version": "1.2.0",
       "_view_name": "StyleView",
       "description_width": ""
      }
     },
     "358be4a2bf744fa589b0947f0da0ae48": {
      "model_module": "@jupyter-widgets/controls",
      "model_module_version": "1.5.0",
      "model_name": "ProgressStyleModel",
      "state": {
       "_model_module": "@jupyter-widgets/controls",
       "_model_module_version": "1.5.0",
       "_model_name": "ProgressStyleModel",
       "_view_count": null,
       "_view_module": "@jupyter-widgets/base",
       "_view_module_version": "1.2.0",
       "_view_name": "StyleView",
       "bar_color": null,
       "description_width": ""
      }
     },
     "36258a088e444f6eb723842ebbcd0566": {
      "model_module": "@jupyter-widgets/base",
      "model_module_version": "1.2.0",
      "model_name": "LayoutModel",
      "state": {
       "_model_module": "@jupyter-widgets/base",
       "_model_module_version": "1.2.0",
       "_model_name": "LayoutModel",
       "_view_count": null,
       "_view_module": "@jupyter-widgets/base",
       "_view_module_version": "1.2.0",
       "_view_name": "LayoutView",
       "align_content": null,
       "align_items": null,
       "align_self": null,
       "border": null,
       "bottom": null,
       "display": null,
       "flex": null,
       "flex_flow": null,
       "grid_area": null,
       "grid_auto_columns": null,
       "grid_auto_flow": null,
       "grid_auto_rows": null,
       "grid_column": null,
       "grid_gap": null,
       "grid_row": null,
       "grid_template_areas": null,
       "grid_template_columns": null,
       "grid_template_rows": null,
       "height": null,
       "justify_content": null,
       "justify_items": null,
       "left": null,
       "margin": null,
       "max_height": null,
       "max_width": null,
       "min_height": null,
       "min_width": null,
       "object_fit": null,
       "object_position": null,
       "order": null,
       "overflow": null,
       "overflow_x": null,
       "overflow_y": null,
       "padding": null,
       "right": null,
       "top": null,
       "visibility": null,
       "width": null
      }
     },
     "38d51a117f2d4a819dbbd4e8cd4e6972": {
      "model_module": "@jupyter-widgets/controls",
      "model_module_version": "1.5.0",
      "model_name": "HTMLModel",
      "state": {
       "_dom_classes": [],
       "_model_module": "@jupyter-widgets/controls",
       "_model_module_version": "1.5.0",
       "_model_name": "HTMLModel",
       "_view_count": null,
       "_view_module": "@jupyter-widgets/controls",
       "_view_module_version": "1.5.0",
       "_view_name": "HTMLView",
       "description": "",
       "description_tooltip": null,
       "layout": "IPY_MODEL_d5ace29ea7ea43fe8118ce1cd164927b",
       "placeholder": "​",
       "style": "IPY_MODEL_0f80d297ea2b410d958642077dff28ce",
       "value": "Downloading builder script: "
      }
     },
     "3bd68e7e28c3492290c71231a9dac1a1": {
      "model_module": "@jupyter-widgets/base",
      "model_module_version": "1.2.0",
      "model_name": "LayoutModel",
      "state": {
       "_model_module": "@jupyter-widgets/base",
       "_model_module_version": "1.2.0",
       "_model_name": "LayoutModel",
       "_view_count": null,
       "_view_module": "@jupyter-widgets/base",
       "_view_module_version": "1.2.0",
       "_view_name": "LayoutView",
       "align_content": null,
       "align_items": null,
       "align_self": null,
       "border": null,
       "bottom": null,
       "display": null,
       "flex": null,
       "flex_flow": null,
       "grid_area": null,
       "grid_auto_columns": null,
       "grid_auto_flow": null,
       "grid_auto_rows": null,
       "grid_column": null,
       "grid_gap": null,
       "grid_row": null,
       "grid_template_areas": null,
       "grid_template_columns": null,
       "grid_template_rows": null,
       "height": null,
       "justify_content": null,
       "justify_items": null,
       "left": null,
       "margin": null,
       "max_height": null,
       "max_width": null,
       "min_height": null,
       "min_width": null,
       "object_fit": null,
       "object_position": null,
       "order": null,
       "overflow": null,
       "overflow_x": null,
       "overflow_y": null,
       "padding": null,
       "right": null,
       "top": null,
       "visibility": null,
       "width": null
      }
     },
     "3c280ef3e32e45afa26c39914215f0b0": {
      "model_module": "@jupyter-widgets/controls",
      "model_module_version": "1.5.0",
      "model_name": "FloatProgressModel",
      "state": {
       "_dom_classes": [],
       "_model_module": "@jupyter-widgets/controls",
       "_model_module_version": "1.5.0",
       "_model_name": "FloatProgressModel",
       "_view_count": null,
       "_view_module": "@jupyter-widgets/controls",
       "_view_module_version": "1.5.0",
       "_view_name": "ProgressView",
       "bar_style": "success",
       "description": "",
       "description_tooltip": null,
       "layout": "IPY_MODEL_1e72e59aa4204ac8bca0f066ca993633",
       "max": 456318,
       "min": 0,
       "orientation": "horizontal",
       "style": "IPY_MODEL_2a73a84912e641c2a4702f52a58b5c8d",
       "value": 456318
      }
     },
     "3c9ad89ac9bf4bbabe0db821a80099af": {
      "model_module": "@jupyter-widgets/controls",
      "model_module_version": "1.5.0",
      "model_name": "DescriptionStyleModel",
      "state": {
       "_model_module": "@jupyter-widgets/controls",
       "_model_module_version": "1.5.0",
       "_model_name": "DescriptionStyleModel",
       "_view_count": null,
       "_view_module": "@jupyter-widgets/base",
       "_view_module_version": "1.2.0",
       "_view_name": "StyleView",
       "description_width": ""
      }
     },
     "3e53f14a543c4542bc5dda0df98e2fff": {
      "model_module": "@jupyter-widgets/base",
      "model_module_version": "1.2.0",
      "model_name": "LayoutModel",
      "state": {
       "_model_module": "@jupyter-widgets/base",
       "_model_module_version": "1.2.0",
       "_model_name": "LayoutModel",
       "_view_count": null,
       "_view_module": "@jupyter-widgets/base",
       "_view_module_version": "1.2.0",
       "_view_name": "LayoutView",
       "align_content": null,
       "align_items": null,
       "align_self": null,
       "border": null,
       "bottom": null,
       "display": null,
       "flex": null,
       "flex_flow": null,
       "grid_area": null,
       "grid_auto_columns": null,
       "grid_auto_flow": null,
       "grid_auto_rows": null,
       "grid_column": null,
       "grid_gap": null,
       "grid_row": null,
       "grid_template_areas": null,
       "grid_template_columns": null,
       "grid_template_rows": null,
       "height": null,
       "justify_content": null,
       "justify_items": null,
       "left": null,
       "margin": null,
       "max_height": null,
       "max_width": null,
       "min_height": null,
       "min_width": null,
       "object_fit": null,
       "object_position": null,
       "order": null,
       "overflow": null,
       "overflow_x": null,
       "overflow_y": null,
       "padding": null,
       "right": null,
       "top": null,
       "visibility": null,
       "width": null
      }
     },
     "419933fc8cf64d87902abe633c19a7e6": {
      "model_module": "@jupyter-widgets/controls",
      "model_module_version": "1.5.0",
      "model_name": "HBoxModel",
      "state": {
       "_dom_classes": [],
       "_model_module": "@jupyter-widgets/controls",
       "_model_module_version": "1.5.0",
       "_model_name": "HBoxModel",
       "_view_count": null,
       "_view_module": "@jupyter-widgets/controls",
       "_view_module_version": "1.5.0",
       "_view_name": "HBoxView",
       "box_style": "",
       "children": [
        "IPY_MODEL_91e9e6efd15a401abafdfde30d5bb3e7",
        "IPY_MODEL_54db5d2eb32e49dd99474a4c216f9bd6",
        "IPY_MODEL_f4af059bcc8c462489a0264564315685"
       ],
       "layout": "IPY_MODEL_e5945c2d90f84c228cdc084954137b36"
      }
     },
     "441ce8a8eae447bcb78299fee1e9362f": {
      "model_module": "@jupyter-widgets/controls",
      "model_module_version": "1.5.0",
      "model_name": "ProgressStyleModel",
      "state": {
       "_model_module": "@jupyter-widgets/controls",
       "_model_module_version": "1.5.0",
       "_model_name": "ProgressStyleModel",
       "_view_count": null,
       "_view_module": "@jupyter-widgets/base",
       "_view_module_version": "1.2.0",
       "_view_name": "StyleView",
       "bar_color": null,
       "description_width": ""
      }
     },
     "46e56f2214c148b8977018f0e1f3d300": {
      "model_module": "@jupyter-widgets/controls",
      "model_module_version": "1.5.0",
      "model_name": "ProgressStyleModel",
      "state": {
       "_model_module": "@jupyter-widgets/controls",
       "_model_module_version": "1.5.0",
       "_model_name": "ProgressStyleModel",
       "_view_count": null,
       "_view_module": "@jupyter-widgets/base",
       "_view_module_version": "1.2.0",
       "_view_name": "StyleView",
       "bar_color": null,
       "description_width": ""
      }
     },
     "48e5e8bb4cc0490e96c3ce7e8495df37": {
      "model_module": "@jupyter-widgets/controls",
      "model_module_version": "1.5.0",
      "model_name": "HBoxModel",
      "state": {
       "_dom_classes": [],
       "_model_module": "@jupyter-widgets/controls",
       "_model_module_version": "1.5.0",
       "_model_name": "HBoxModel",
       "_view_count": null,
       "_view_module": "@jupyter-widgets/controls",
       "_view_module_version": "1.5.0",
       "_view_name": "HBoxView",
       "box_style": "",
       "children": [
        "IPY_MODEL_7a540f2257744d2e837e2be76c6d6619",
        "IPY_MODEL_3c280ef3e32e45afa26c39914215f0b0",
        "IPY_MODEL_e28792a18a264cc8a80d43c74f95b5e0"
       ],
       "layout": "IPY_MODEL_97de8419edf84b1799987119f82ea13f"
      }
     },
     "54db5d2eb32e49dd99474a4c216f9bd6": {
      "model_module": "@jupyter-widgets/controls",
      "model_module_version": "1.5.0",
      "model_name": "FloatProgressModel",
      "state": {
       "_dom_classes": [],
       "_model_module": "@jupyter-widgets/controls",
       "_model_module_version": "1.5.0",
       "_model_name": "FloatProgressModel",
       "_view_count": null,
       "_view_module": "@jupyter-widgets/controls",
       "_view_module_version": "1.5.0",
       "_view_name": "ProgressView",
       "bar_style": "success",
       "description": "",
       "description_tooltip": null,
       "layout": "IPY_MODEL_271ff193e51c488ba3323c834577b583",
       "max": 898823,
       "min": 0,
       "orientation": "horizontal",
       "style": "IPY_MODEL_441ce8a8eae447bcb78299fee1e9362f",
       "value": 898823
      }
     },
     "57287b34ec4f44a3a529f5fba8d0ddb4": {
      "model_module": "@jupyter-widgets/base",
      "model_module_version": "1.2.0",
      "model_name": "LayoutModel",
      "state": {
       "_model_module": "@jupyter-widgets/base",
       "_model_module_version": "1.2.0",
       "_model_name": "LayoutModel",
       "_view_count": null,
       "_view_module": "@jupyter-widgets/base",
       "_view_module_version": "1.2.0",
       "_view_name": "LayoutView",
       "align_content": null,
       "align_items": null,
       "align_self": null,
       "border": null,
       "bottom": null,
       "display": null,
       "flex": null,
       "flex_flow": null,
       "grid_area": null,
       "grid_auto_columns": null,
       "grid_auto_flow": null,
       "grid_auto_rows": null,
       "grid_column": null,
       "grid_gap": null,
       "grid_row": null,
       "grid_template_areas": null,
       "grid_template_columns": null,
       "grid_template_rows": null,
       "height": null,
       "justify_content": null,
       "justify_items": null,
       "left": null,
       "margin": null,
       "max_height": null,
       "max_width": null,
       "min_height": null,
       "min_width": null,
       "object_fit": null,
       "object_position": null,
       "order": null,
       "overflow": null,
       "overflow_x": null,
       "overflow_y": null,
       "padding": null,
       "right": null,
       "top": null,
       "visibility": null,
       "width": null
      }
     },
     "589e65ae6342490fac681efad6248316": {
      "model_module": "@jupyter-widgets/base",
      "model_module_version": "1.2.0",
      "model_name": "LayoutModel",
      "state": {
       "_model_module": "@jupyter-widgets/base",
       "_model_module_version": "1.2.0",
       "_model_name": "LayoutModel",
       "_view_count": null,
       "_view_module": "@jupyter-widgets/base",
       "_view_module_version": "1.2.0",
       "_view_name": "LayoutView",
       "align_content": null,
       "align_items": null,
       "align_self": null,
       "border": null,
       "bottom": null,
       "display": null,
       "flex": null,
       "flex_flow": null,
       "grid_area": null,
       "grid_auto_columns": null,
       "grid_auto_flow": null,
       "grid_auto_rows": null,
       "grid_column": null,
       "grid_gap": null,
       "grid_row": null,
       "grid_template_areas": null,
       "grid_template_columns": null,
       "grid_template_rows": null,
       "height": null,
       "justify_content": null,
       "justify_items": null,
       "left": null,
       "margin": null,
       "max_height": null,
       "max_width": null,
       "min_height": null,
       "min_width": null,
       "object_fit": null,
       "object_position": null,
       "order": null,
       "overflow": null,
       "overflow_x": null,
       "overflow_y": null,
       "padding": null,
       "right": null,
       "top": null,
       "visibility": null,
       "width": null
      }
     },
     "5a372e56d56c465ab5a4d3ef1472dad7": {
      "model_module": "@jupyter-widgets/controls",
      "model_module_version": "1.5.0",
      "model_name": "FloatProgressModel",
      "state": {
       "_dom_classes": [],
       "_model_module": "@jupyter-widgets/controls",
       "_model_module_version": "1.5.0",
       "_model_name": "FloatProgressModel",
       "_view_count": null,
       "_view_module": "@jupyter-widgets/controls",
       "_view_module_version": "1.5.0",
       "_view_name": "ProgressView",
       "bar_style": "success",
       "description": "",
       "description_tooltip": null,
       "layout": "IPY_MODEL_aa099647580445c4a114fdcc56c9083e",
       "max": 480,
       "min": 0,
       "orientation": "horizontal",
       "style": "IPY_MODEL_719b42a432f64eb88d31adb25c2d936a",
       "value": 480
      }
     },
     "5bdd6dadbca34fd68f4c324a8d27b91c": {
      "model_module": "@jupyter-widgets/controls",
      "model_module_version": "1.5.0",
      "model_name": "HTMLModel",
      "state": {
       "_dom_classes": [],
       "_model_module": "@jupyter-widgets/controls",
       "_model_module_version": "1.5.0",
       "_model_name": "HTMLModel",
       "_view_count": null,
       "_view_module": "@jupyter-widgets/controls",
       "_view_module_version": "1.5.0",
       "_view_name": "HTMLView",
       "description": "",
       "description_tooltip": null,
       "layout": "IPY_MODEL_eee51176af5e4f04a0e08cf76a53926a",
       "placeholder": "​",
       "style": "IPY_MODEL_6d93817ee6324ace81153850b83ebf71",
       "value": " 331M/331M [00:01&lt;00:00, 221MB/s]"
      }
     },
     "5facae475a4b45c39d9e53911d967a16": {
      "model_module": "@jupyter-widgets/controls",
      "model_module_version": "1.5.0",
      "model_name": "FloatProgressModel",
      "state": {
       "_dom_classes": [],
       "_model_module": "@jupyter-widgets/controls",
       "_model_module_version": "1.5.0",
       "_model_name": "FloatProgressModel",
       "_view_count": null,
       "_view_module": "@jupyter-widgets/controls",
       "_view_module_version": "1.5.0",
       "_view_name": "ProgressView",
       "bar_style": "success",
       "description": "",
       "description_tooltip": null,
       "layout": "IPY_MODEL_776fb3cbf8724319aa6ed6d6c69b84ba",
       "max": 1715,
       "min": 0,
       "orientation": "horizontal",
       "style": "IPY_MODEL_46e56f2214c148b8977018f0e1f3d300",
       "value": 1715
      }
     },
     "60b5673e5c9f48668c826e0c1c0f6e01": {
      "model_module": "@jupyter-widgets/base",
      "model_module_version": "1.2.0",
      "model_name": "LayoutModel",
      "state": {
       "_model_module": "@jupyter-widgets/base",
       "_model_module_version": "1.2.0",
       "_model_name": "LayoutModel",
       "_view_count": null,
       "_view_module": "@jupyter-widgets/base",
       "_view_module_version": "1.2.0",
       "_view_name": "LayoutView",
       "align_content": null,
       "align_items": null,
       "align_self": null,
       "border": null,
       "bottom": null,
       "display": null,
       "flex": null,
       "flex_flow": null,
       "grid_area": null,
       "grid_auto_columns": null,
       "grid_auto_flow": null,
       "grid_auto_rows": null,
       "grid_column": null,
       "grid_gap": null,
       "grid_row": null,
       "grid_template_areas": null,
       "grid_template_columns": null,
       "grid_template_rows": null,
       "height": null,
       "justify_content": null,
       "justify_items": null,
       "left": null,
       "margin": null,
       "max_height": null,
       "max_width": null,
       "min_height": null,
       "min_width": null,
       "object_fit": null,
       "object_position": null,
       "order": null,
       "overflow": null,
       "overflow_x": null,
       "overflow_y": null,
       "padding": null,
       "right": null,
       "top": null,
       "visibility": null,
       "width": null
      }
     },
     "63421ada55424f4990791b53e874ed28": {
      "model_module": "@jupyter-widgets/base",
      "model_module_version": "1.2.0",
      "model_name": "LayoutModel",
      "state": {
       "_model_module": "@jupyter-widgets/base",
       "_model_module_version": "1.2.0",
       "_model_name": "LayoutModel",
       "_view_count": null,
       "_view_module": "@jupyter-widgets/base",
       "_view_module_version": "1.2.0",
       "_view_name": "LayoutView",
       "align_content": null,
       "align_items": null,
       "align_self": null,
       "border": null,
       "bottom": null,
       "display": null,
       "flex": null,
       "flex_flow": null,
       "grid_area": null,
       "grid_auto_columns": null,
       "grid_auto_flow": null,
       "grid_auto_rows": null,
       "grid_column": null,
       "grid_gap": null,
       "grid_row": null,
       "grid_template_areas": null,
       "grid_template_columns": null,
       "grid_template_rows": null,
       "height": null,
       "justify_content": null,
       "justify_items": null,
       "left": null,
       "margin": null,
       "max_height": null,
       "max_width": null,
       "min_height": null,
       "min_width": null,
       "object_fit": null,
       "object_position": null,
       "order": null,
       "overflow": null,
       "overflow_x": null,
       "overflow_y": null,
       "padding": null,
       "right": null,
       "top": null,
       "visibility": null,
       "width": null
      }
     },
     "6b33ae4051734156b37e902b46a7a3c4": {
      "model_module": "@jupyter-widgets/base",
      "model_module_version": "1.2.0",
      "model_name": "LayoutModel",
      "state": {
       "_model_module": "@jupyter-widgets/base",
       "_model_module_version": "1.2.0",
       "_model_name": "LayoutModel",
       "_view_count": null,
       "_view_module": "@jupyter-widgets/base",
       "_view_module_version": "1.2.0",
       "_view_name": "LayoutView",
       "align_content": null,
       "align_items": null,
       "align_self": null,
       "border": null,
       "bottom": null,
       "display": null,
       "flex": null,
       "flex_flow": null,
       "grid_area": null,
       "grid_auto_columns": null,
       "grid_auto_flow": null,
       "grid_auto_rows": null,
       "grid_column": null,
       "grid_gap": null,
       "grid_row": null,
       "grid_template_areas": null,
       "grid_template_columns": null,
       "grid_template_rows": null,
       "height": null,
       "justify_content": null,
       "justify_items": null,
       "left": null,
       "margin": null,
       "max_height": null,
       "max_width": null,
       "min_height": null,
       "min_width": null,
       "object_fit": null,
       "object_position": null,
       "order": null,
       "overflow": null,
       "overflow_x": null,
       "overflow_y": null,
       "padding": null,
       "right": null,
       "top": null,
       "visibility": null,
       "width": null
      }
     },
     "6d30e28a000e4c22854a40d97e114953": {
      "model_module": "@jupyter-widgets/controls",
      "model_module_version": "1.5.0",
      "model_name": "HTMLModel",
      "state": {
       "_dom_classes": [],
       "_model_module": "@jupyter-widgets/controls",
       "_model_module_version": "1.5.0",
       "_model_name": "HTMLModel",
       "_view_count": null,
       "_view_module": "@jupyter-widgets/controls",
       "_view_module_version": "1.5.0",
       "_view_name": "HTMLView",
       "description": "",
       "description_tooltip": null,
       "layout": "IPY_MODEL_3bd68e7e28c3492290c71231a9dac1a1",
       "placeholder": "​",
       "style": "IPY_MODEL_2598117720a24a84b41d53c7237e77c3",
       "value": " 1.36M/1.36M [00:00&lt;00:00, 11.7MB/s]"
      }
     },
     "6d93817ee6324ace81153850b83ebf71": {
      "model_module": "@jupyter-widgets/controls",
      "model_module_version": "1.5.0",
      "model_name": "DescriptionStyleModel",
      "state": {
       "_model_module": "@jupyter-widgets/controls",
       "_model_module_version": "1.5.0",
       "_model_name": "DescriptionStyleModel",
       "_view_count": null,
       "_view_module": "@jupyter-widgets/base",
       "_view_module_version": "1.2.0",
       "_view_name": "StyleView",
       "description_width": ""
      }
     },
     "6edbc5afa8fc4f58b8647582b9e0291c": {
      "model_module": "@jupyter-widgets/base",
      "model_module_version": "1.2.0",
      "model_name": "LayoutModel",
      "state": {
       "_model_module": "@jupyter-widgets/base",
       "_model_module_version": "1.2.0",
       "_model_name": "LayoutModel",
       "_view_count": null,
       "_view_module": "@jupyter-widgets/base",
       "_view_module_version": "1.2.0",
       "_view_name": "LayoutView",
       "align_content": null,
       "align_items": null,
       "align_self": null,
       "border": null,
       "bottom": null,
       "display": null,
       "flex": null,
       "flex_flow": null,
       "grid_area": null,
       "grid_auto_columns": null,
       "grid_auto_flow": null,
       "grid_auto_rows": null,
       "grid_column": null,
       "grid_gap": null,
       "grid_row": null,
       "grid_template_areas": null,
       "grid_template_columns": null,
       "grid_template_rows": null,
       "height": null,
       "justify_content": null,
       "justify_items": null,
       "left": null,
       "margin": null,
       "max_height": null,
       "max_width": null,
       "min_height": null,
       "min_width": null,
       "object_fit": null,
       "object_position": null,
       "order": null,
       "overflow": null,
       "overflow_x": null,
       "overflow_y": null,
       "padding": null,
       "right": null,
       "top": null,
       "visibility": null,
       "width": null
      }
     },
     "719b42a432f64eb88d31adb25c2d936a": {
      "model_module": "@jupyter-widgets/controls",
      "model_module_version": "1.5.0",
      "model_name": "ProgressStyleModel",
      "state": {
       "_model_module": "@jupyter-widgets/controls",
       "_model_module_version": "1.5.0",
       "_model_name": "ProgressStyleModel",
       "_view_count": null,
       "_view_module": "@jupyter-widgets/base",
       "_view_module_version": "1.2.0",
       "_view_name": "StyleView",
       "bar_color": null,
       "description_width": ""
      }
     },
     "738f58beb2d8489c9cc4d2ea1bad11de": {
      "model_module": "@jupyter-widgets/controls",
      "model_module_version": "1.5.0",
      "model_name": "HBoxModel",
      "state": {
       "_dom_classes": [],
       "_model_module": "@jupyter-widgets/controls",
       "_model_module_version": "1.5.0",
       "_model_name": "HBoxModel",
       "_view_count": null,
       "_view_module": "@jupyter-widgets/controls",
       "_view_module_version": "1.5.0",
       "_view_name": "HBoxView",
       "box_style": "",
       "children": [
        "IPY_MODEL_cbf4756b2eaf436891313b65371ca4a6",
        "IPY_MODEL_1b598d5a8a874c29a816e1c0762267cb",
        "IPY_MODEL_5bdd6dadbca34fd68f4c324a8d27b91c"
       ],
       "layout": "IPY_MODEL_3e53f14a543c4542bc5dda0df98e2fff"
      }
     },
     "755db871752b4e768684bcf5cd028047": {
      "model_module": "@jupyter-widgets/controls",
      "model_module_version": "1.5.0",
      "model_name": "HBoxModel",
      "state": {
       "_dom_classes": [],
       "_model_module": "@jupyter-widgets/controls",
       "_model_module_version": "1.5.0",
       "_model_name": "HBoxModel",
       "_view_count": null,
       "_view_module": "@jupyter-widgets/controls",
       "_view_module_version": "1.5.0",
       "_view_name": "HBoxView",
       "box_style": "",
       "children": [
        "IPY_MODEL_94acd7d614ef45c1903f2afe5bec70c8",
        "IPY_MODEL_fcae78fb66e54efd9e44f6bf991c3acb",
        "IPY_MODEL_6d30e28a000e4c22854a40d97e114953"
       ],
       "layout": "IPY_MODEL_315b1b8ef1624823a750a456358b631f"
      }
     },
     "776fb3cbf8724319aa6ed6d6c69b84ba": {
      "model_module": "@jupyter-widgets/base",
      "model_module_version": "1.2.0",
      "model_name": "LayoutModel",
      "state": {
       "_model_module": "@jupyter-widgets/base",
       "_model_module_version": "1.2.0",
       "_model_name": "LayoutModel",
       "_view_count": null,
       "_view_module": "@jupyter-widgets/base",
       "_view_module_version": "1.2.0",
       "_view_name": "LayoutView",
       "align_content": null,
       "align_items": null,
       "align_self": null,
       "border": null,
       "bottom": null,
       "display": null,
       "flex": null,
       "flex_flow": null,
       "grid_area": null,
       "grid_auto_columns": null,
       "grid_auto_flow": null,
       "grid_auto_rows": null,
       "grid_column": null,
       "grid_gap": null,
       "grid_row": null,
       "grid_template_areas": null,
       "grid_template_columns": null,
       "grid_template_rows": null,
       "height": null,
       "justify_content": null,
       "justify_items": null,
       "left": null,
       "margin": null,
       "max_height": null,
       "max_width": null,
       "min_height": null,
       "min_width": null,
       "object_fit": null,
       "object_position": null,
       "order": null,
       "overflow": null,
       "overflow_x": null,
       "overflow_y": null,
       "padding": null,
       "right": null,
       "top": null,
       "visibility": null,
       "width": null
      }
     },
     "79e9a7cf75d049aa977f15af249d43c6": {
      "model_module": "@jupyter-widgets/controls",
      "model_module_version": "1.5.0",
      "model_name": "HBoxModel",
      "state": {
       "_dom_classes": [],
       "_model_module": "@jupyter-widgets/controls",
       "_model_module_version": "1.5.0",
       "_model_name": "HBoxModel",
       "_view_count": null,
       "_view_module": "@jupyter-widgets/controls",
       "_view_module_version": "1.5.0",
       "_view_name": "HBoxView",
       "box_style": "",
       "children": [
        "IPY_MODEL_866d2f3b8d5a4490bab56e2897a963b3",
        "IPY_MODEL_5a372e56d56c465ab5a4d3ef1472dad7",
        "IPY_MODEL_8cf4142f53c44fdf83aabd72b8c88c54"
       ],
       "layout": "IPY_MODEL_064fc66bdf5141b487408816dbe4b380"
      }
     },
     "7a540f2257744d2e837e2be76c6d6619": {
      "model_module": "@jupyter-widgets/controls",
      "model_module_version": "1.5.0",
      "model_name": "HTMLModel",
      "state": {
       "_dom_classes": [],
       "_model_module": "@jupyter-widgets/controls",
       "_model_module_version": "1.5.0",
       "_model_name": "HTMLModel",
       "_view_count": null,
       "_view_module": "@jupyter-widgets/controls",
       "_view_module_version": "1.5.0",
       "_view_name": "HTMLView",
       "description": "",
       "description_tooltip": null,
       "layout": "IPY_MODEL_57287b34ec4f44a3a529f5fba8d0ddb4",
       "placeholder": "​",
       "style": "IPY_MODEL_d025a6b40d2c430ca6437b17e12e7190",
       "value": "Downloading (…)olve/main/merges.txt: 100%"
      }
     },
     "83de10a5416a455bb02749f86b97a811": {
      "model_module": "@jupyter-widgets/controls",
      "model_module_version": "1.5.0",
      "model_name": "DescriptionStyleModel",
      "state": {
       "_model_module": "@jupyter-widgets/controls",
       "_model_module_version": "1.5.0",
       "_model_name": "DescriptionStyleModel",
       "_view_count": null,
       "_view_module": "@jupyter-widgets/base",
       "_view_module_version": "1.2.0",
       "_view_name": "StyleView",
       "description_width": ""
      }
     },
     "866d2f3b8d5a4490bab56e2897a963b3": {
      "model_module": "@jupyter-widgets/controls",
      "model_module_version": "1.5.0",
      "model_name": "HTMLModel",
      "state": {
       "_dom_classes": [],
       "_model_module": "@jupyter-widgets/controls",
       "_model_module_version": "1.5.0",
       "_model_name": "HTMLModel",
       "_view_count": null,
       "_view_module": "@jupyter-widgets/controls",
       "_view_module_version": "1.5.0",
       "_view_name": "HTMLView",
       "description": "",
       "description_tooltip": null,
       "layout": "IPY_MODEL_e94651b5d02d4a9d82e26ad4c597db15",
       "placeholder": "​",
       "style": "IPY_MODEL_a75e05fd353b4c0ab3a73935f4210259",
       "value": "Downloading (…)lve/main/config.json: 100%"
      }
     },
     "86f6c32c01384f5a940fb1d37447ffb9": {
      "model_module": "@jupyter-widgets/controls",
      "model_module_version": "1.5.0",
      "model_name": "DescriptionStyleModel",
      "state": {
       "_model_module": "@jupyter-widgets/controls",
       "_model_module_version": "1.5.0",
       "_model_name": "DescriptionStyleModel",
       "_view_count": null,
       "_view_module": "@jupyter-widgets/base",
       "_view_module_version": "1.2.0",
       "_view_name": "StyleView",
       "description_width": ""
      }
     },
     "8bd7ec9bf13c40b58e2e7dad32f73153": {
      "model_module": "@jupyter-widgets/base",
      "model_module_version": "1.2.0",
      "model_name": "LayoutModel",
      "state": {
       "_model_module": "@jupyter-widgets/base",
       "_model_module_version": "1.2.0",
       "_model_name": "LayoutModel",
       "_view_count": null,
       "_view_module": "@jupyter-widgets/base",
       "_view_module_version": "1.2.0",
       "_view_name": "LayoutView",
       "align_content": null,
       "align_items": null,
       "align_self": null,
       "border": null,
       "bottom": null,
       "display": null,
       "flex": null,
       "flex_flow": null,
       "grid_area": null,
       "grid_auto_columns": null,
       "grid_auto_flow": null,
       "grid_auto_rows": null,
       "grid_column": null,
       "grid_gap": null,
       "grid_row": null,
       "grid_template_areas": null,
       "grid_template_columns": null,
       "grid_template_rows": null,
       "height": null,
       "justify_content": null,
       "justify_items": null,
       "left": null,
       "margin": null,
       "max_height": null,
       "max_width": null,
       "min_height": null,
       "min_width": null,
       "object_fit": null,
       "object_position": null,
       "order": null,
       "overflow": null,
       "overflow_x": null,
       "overflow_y": null,
       "padding": null,
       "right": null,
       "top": null,
       "visibility": null,
       "width": null
      }
     },
     "8cf4142f53c44fdf83aabd72b8c88c54": {
      "model_module": "@jupyter-widgets/controls",
      "model_module_version": "1.5.0",
      "model_name": "HTMLModel",
      "state": {
       "_dom_classes": [],
       "_model_module": "@jupyter-widgets/controls",
       "_model_module_version": "1.5.0",
       "_model_name": "HTMLModel",
       "_view_count": null,
       "_view_module": "@jupyter-widgets/controls",
       "_view_module_version": "1.5.0",
       "_view_name": "HTMLView",
       "description": "",
       "description_tooltip": null,
       "layout": "IPY_MODEL_99ce8e0aa0034c0bb3a7822662ed2538",
       "placeholder": "​",
       "style": "IPY_MODEL_c8559cbc7b074d59a1188b999170622f",
       "value": " 480/480 [00:00&lt;00:00, 30.2kB/s]"
      }
     },
     "8d89aed932eb4e84a979646fe5de5993": {
      "model_module": "@jupyter-widgets/controls",
      "model_module_version": "1.5.0",
      "model_name": "DescriptionStyleModel",
      "state": {
       "_model_module": "@jupyter-widgets/controls",
       "_model_module_version": "1.5.0",
       "_model_name": "DescriptionStyleModel",
       "_view_count": null,
       "_view_module": "@jupyter-widgets/base",
       "_view_module_version": "1.2.0",
       "_view_name": "StyleView",
       "description_width": ""
      }
     },
     "91e9e6efd15a401abafdfde30d5bb3e7": {
      "model_module": "@jupyter-widgets/controls",
      "model_module_version": "1.5.0",
      "model_name": "HTMLModel",
      "state": {
       "_dom_classes": [],
       "_model_module": "@jupyter-widgets/controls",
       "_model_module_version": "1.5.0",
       "_model_name": "HTMLModel",
       "_view_count": null,
       "_view_module": "@jupyter-widgets/controls",
       "_view_module_version": "1.5.0",
       "_view_name": "HTMLView",
       "description": "",
       "description_tooltip": null,
       "layout": "IPY_MODEL_6b33ae4051734156b37e902b46a7a3c4",
       "placeholder": "​",
       "style": "IPY_MODEL_83de10a5416a455bb02749f86b97a811",
       "value": "Downloading (…)olve/main/vocab.json: 100%"
      }
     },
     "94acd7d614ef45c1903f2afe5bec70c8": {
      "model_module": "@jupyter-widgets/controls",
      "model_module_version": "1.5.0",
      "model_name": "HTMLModel",
      "state": {
       "_dom_classes": [],
       "_model_module": "@jupyter-widgets/controls",
       "_model_module_version": "1.5.0",
       "_model_name": "HTMLModel",
       "_view_count": null,
       "_view_module": "@jupyter-widgets/controls",
       "_view_module_version": "1.5.0",
       "_view_name": "HTMLView",
       "description": "",
       "description_tooltip": null,
       "layout": "IPY_MODEL_dc37924b5728446c824c49bd8d9046b4",
       "placeholder": "​",
       "style": "IPY_MODEL_ce486a80fc0c4a3dbc30ac2f2de357ff",
       "value": "Downloading (…)/main/tokenizer.json: 100%"
      }
     },
     "97de8419edf84b1799987119f82ea13f": {
      "model_module": "@jupyter-widgets/base",
      "model_module_version": "1.2.0",
      "model_name": "LayoutModel",
      "state": {
       "_model_module": "@jupyter-widgets/base",
       "_model_module_version": "1.2.0",
       "_model_name": "LayoutModel",
       "_view_count": null,
       "_view_module": "@jupyter-widgets/base",
       "_view_module_version": "1.2.0",
       "_view_name": "LayoutView",
       "align_content": null,
       "align_items": null,
       "align_self": null,
       "border": null,
       "bottom": null,
       "display": null,
       "flex": null,
       "flex_flow": null,
       "grid_area": null,
       "grid_auto_columns": null,
       "grid_auto_flow": null,
       "grid_auto_rows": null,
       "grid_column": null,
       "grid_gap": null,
       "grid_row": null,
       "grid_template_areas": null,
       "grid_template_columns": null,
       "grid_template_rows": null,
       "height": null,
       "justify_content": null,
       "justify_items": null,
       "left": null,
       "margin": null,
       "max_height": null,
       "max_width": null,
       "min_height": null,
       "min_width": null,
       "object_fit": null,
       "object_position": null,
       "order": null,
       "overflow": null,
       "overflow_x": null,
       "overflow_y": null,
       "padding": null,
       "right": null,
       "top": null,
       "visibility": null,
       "width": null
      }
     },
     "99ce8e0aa0034c0bb3a7822662ed2538": {
      "model_module": "@jupyter-widgets/base",
      "model_module_version": "1.2.0",
      "model_name": "LayoutModel",
      "state": {
       "_model_module": "@jupyter-widgets/base",
       "_model_module_version": "1.2.0",
       "_model_name": "LayoutModel",
       "_view_count": null,
       "_view_module": "@jupyter-widgets/base",
       "_view_module_version": "1.2.0",
       "_view_name": "LayoutView",
       "align_content": null,
       "align_items": null,
       "align_self": null,
       "border": null,
       "bottom": null,
       "display": null,
       "flex": null,
       "flex_flow": null,
       "grid_area": null,
       "grid_auto_columns": null,
       "grid_auto_flow": null,
       "grid_auto_rows": null,
       "grid_column": null,
       "grid_gap": null,
       "grid_row": null,
       "grid_template_areas": null,
       "grid_template_columns": null,
       "grid_template_rows": null,
       "height": null,
       "justify_content": null,
       "justify_items": null,
       "left": null,
       "margin": null,
       "max_height": null,
       "max_width": null,
       "min_height": null,
       "min_width": null,
       "object_fit": null,
       "object_position": null,
       "order": null,
       "overflow": null,
       "overflow_x": null,
       "overflow_y": null,
       "padding": null,
       "right": null,
       "top": null,
       "visibility": null,
       "width": null
      }
     },
     "a75e05fd353b4c0ab3a73935f4210259": {
      "model_module": "@jupyter-widgets/controls",
      "model_module_version": "1.5.0",
      "model_name": "DescriptionStyleModel",
      "state": {
       "_model_module": "@jupyter-widgets/controls",
       "_model_module_version": "1.5.0",
       "_model_name": "DescriptionStyleModel",
       "_view_count": null,
       "_view_module": "@jupyter-widgets/base",
       "_view_module_version": "1.2.0",
       "_view_name": "StyleView",
       "description_width": ""
      }
     },
     "aa099647580445c4a114fdcc56c9083e": {
      "model_module": "@jupyter-widgets/base",
      "model_module_version": "1.2.0",
      "model_name": "LayoutModel",
      "state": {
       "_model_module": "@jupyter-widgets/base",
       "_model_module_version": "1.2.0",
       "_model_name": "LayoutModel",
       "_view_count": null,
       "_view_module": "@jupyter-widgets/base",
       "_view_module_version": "1.2.0",
       "_view_name": "LayoutView",
       "align_content": null,
       "align_items": null,
       "align_self": null,
       "border": null,
       "bottom": null,
       "display": null,
       "flex": null,
       "flex_flow": null,
       "grid_area": null,
       "grid_auto_columns": null,
       "grid_auto_flow": null,
       "grid_auto_rows": null,
       "grid_column": null,
       "grid_gap": null,
       "grid_row": null,
       "grid_template_areas": null,
       "grid_template_columns": null,
       "grid_template_rows": null,
       "height": null,
       "justify_content": null,
       "justify_items": null,
       "left": null,
       "margin": null,
       "max_height": null,
       "max_width": null,
       "min_height": null,
       "min_width": null,
       "object_fit": null,
       "object_position": null,
       "order": null,
       "overflow": null,
       "overflow_x": null,
       "overflow_y": null,
       "padding": null,
       "right": null,
       "top": null,
       "visibility": null,
       "width": null
      }
     },
     "ac8443744b054f0181d50d65f326768a": {
      "model_module": "@jupyter-widgets/controls",
      "model_module_version": "1.5.0",
      "model_name": "ProgressStyleModel",
      "state": {
       "_model_module": "@jupyter-widgets/controls",
       "_model_module_version": "1.5.0",
       "_model_name": "ProgressStyleModel",
       "_view_count": null,
       "_view_module": "@jupyter-widgets/base",
       "_view_module_version": "1.2.0",
       "_view_name": "StyleView",
       "bar_color": null,
       "description_width": ""
      }
     },
     "b3cee39d2c9f4205bfe3fe9dcb0b80e8": {
      "model_module": "@jupyter-widgets/controls",
      "model_module_version": "1.5.0",
      "model_name": "DescriptionStyleModel",
      "state": {
       "_model_module": "@jupyter-widgets/controls",
       "_model_module_version": "1.5.0",
       "_model_name": "DescriptionStyleModel",
       "_view_count": null,
       "_view_module": "@jupyter-widgets/base",
       "_view_module_version": "1.2.0",
       "_view_name": "StyleView",
       "description_width": ""
      }
     },
     "b7e42aeb4cb14b0a80985610eece3c42": {
      "model_module": "@jupyter-widgets/controls",
      "model_module_version": "1.5.0",
      "model_name": "HTMLModel",
      "state": {
       "_dom_classes": [],
       "_model_module": "@jupyter-widgets/controls",
       "_model_module_version": "1.5.0",
       "_model_name": "HTMLModel",
       "_view_count": null,
       "_view_module": "@jupyter-widgets/controls",
       "_view_module_version": "1.5.0",
       "_view_name": "HTMLView",
       "description": "",
       "description_tooltip": null,
       "layout": "IPY_MODEL_e33aaef55edd4ae5b7d28591c206bbcb",
       "placeholder": "​",
       "style": "IPY_MODEL_b3cee39d2c9f4205bfe3fe9dcb0b80e8",
       "value": " 3.31k/? [00:00&lt;00:00, 202kB/s]"
      }
     },
     "b84f689e9d2e492993abc4bb49dfdfe5": {
      "model_module": "@jupyter-widgets/controls",
      "model_module_version": "1.5.0",
      "model_name": "HBoxModel",
      "state": {
       "_dom_classes": [],
       "_model_module": "@jupyter-widgets/controls",
       "_model_module_version": "1.5.0",
       "_model_name": "HBoxModel",
       "_view_count": null,
       "_view_module": "@jupyter-widgets/controls",
       "_view_module_version": "1.5.0",
       "_view_name": "HBoxView",
       "box_style": "",
       "children": [
        "IPY_MODEL_cf19c22bc3fd40119f389b13851be53d",
        "IPY_MODEL_e6e63c6214f24b5294d60fe1922eebf3",
        "IPY_MODEL_b7e42aeb4cb14b0a80985610eece3c42"
       ],
       "layout": "IPY_MODEL_0ec42db4b9394032b8752b810edfac7a"
      }
     },
     "c8559cbc7b074d59a1188b999170622f": {
      "model_module": "@jupyter-widgets/controls",
      "model_module_version": "1.5.0",
      "model_name": "DescriptionStyleModel",
      "state": {
       "_model_module": "@jupyter-widgets/controls",
       "_model_module_version": "1.5.0",
       "_model_name": "DescriptionStyleModel",
       "_view_count": null,
       "_view_module": "@jupyter-widgets/base",
       "_view_module_version": "1.2.0",
       "_view_name": "StyleView",
       "description_width": ""
      }
     },
     "cbf4756b2eaf436891313b65371ca4a6": {
      "model_module": "@jupyter-widgets/controls",
      "model_module_version": "1.5.0",
      "model_name": "HTMLModel",
      "state": {
       "_dom_classes": [],
       "_model_module": "@jupyter-widgets/controls",
       "_model_module_version": "1.5.0",
       "_model_name": "HTMLModel",
       "_view_count": null,
       "_view_module": "@jupyter-widgets/controls",
       "_view_module_version": "1.5.0",
       "_view_name": "HTMLView",
       "description": "",
       "description_tooltip": null,
       "layout": "IPY_MODEL_36258a088e444f6eb723842ebbcd0566",
       "placeholder": "​",
       "style": "IPY_MODEL_1fe2c92447ad48518e7a016945e8f87f",
       "value": "Downloading model.safetensors: 100%"
      }
     },
     "ce486a80fc0c4a3dbc30ac2f2de357ff": {
      "model_module": "@jupyter-widgets/controls",
      "model_module_version": "1.5.0",
      "model_name": "DescriptionStyleModel",
      "state": {
       "_model_module": "@jupyter-widgets/controls",
       "_model_module_version": "1.5.0",
       "_model_name": "DescriptionStyleModel",
       "_view_count": null,
       "_view_module": "@jupyter-widgets/base",
       "_view_module_version": "1.2.0",
       "_view_name": "StyleView",
       "description_width": ""
      }
     },
     "cf19c22bc3fd40119f389b13851be53d": {
      "model_module": "@jupyter-widgets/controls",
      "model_module_version": "1.5.0",
      "model_name": "HTMLModel",
      "state": {
       "_dom_classes": [],
       "_model_module": "@jupyter-widgets/controls",
       "_model_module_version": "1.5.0",
       "_model_name": "HTMLModel",
       "_view_count": null,
       "_view_module": "@jupyter-widgets/controls",
       "_view_module_version": "1.5.0",
       "_view_name": "HTMLView",
       "description": "",
       "description_tooltip": null,
       "layout": "IPY_MODEL_f6fe8663d9f54298b604ae89fba23c9b",
       "placeholder": "​",
       "style": "IPY_MODEL_8d89aed932eb4e84a979646fe5de5993",
       "value": "Downloading extra modules: "
      }
     },
     "d025a6b40d2c430ca6437b17e12e7190": {
      "model_module": "@jupyter-widgets/controls",
      "model_module_version": "1.5.0",
      "model_name": "DescriptionStyleModel",
      "state": {
       "_model_module": "@jupyter-widgets/controls",
       "_model_module_version": "1.5.0",
       "_model_name": "DescriptionStyleModel",
       "_view_count": null,
       "_view_module": "@jupyter-widgets/base",
       "_view_module_version": "1.2.0",
       "_view_name": "StyleView",
       "description_width": ""
      }
     },
     "d5ace29ea7ea43fe8118ce1cd164927b": {
      "model_module": "@jupyter-widgets/base",
      "model_module_version": "1.2.0",
      "model_name": "LayoutModel",
      "state": {
       "_model_module": "@jupyter-widgets/base",
       "_model_module_version": "1.2.0",
       "_model_name": "LayoutModel",
       "_view_count": null,
       "_view_module": "@jupyter-widgets/base",
       "_view_module_version": "1.2.0",
       "_view_name": "LayoutView",
       "align_content": null,
       "align_items": null,
       "align_self": null,
       "border": null,
       "bottom": null,
       "display": null,
       "flex": null,
       "flex_flow": null,
       "grid_area": null,
       "grid_auto_columns": null,
       "grid_auto_flow": null,
       "grid_auto_rows": null,
       "grid_column": null,
       "grid_gap": null,
       "grid_row": null,
       "grid_template_areas": null,
       "grid_template_columns": null,
       "grid_template_rows": null,
       "height": null,
       "justify_content": null,
       "justify_items": null,
       "left": null,
       "margin": null,
       "max_height": null,
       "max_width": null,
       "min_height": null,
       "min_width": null,
       "object_fit": null,
       "object_position": null,
       "order": null,
       "overflow": null,
       "overflow_x": null,
       "overflow_y": null,
       "padding": null,
       "right": null,
       "top": null,
       "visibility": null,
       "width": null
      }
     },
     "dc37924b5728446c824c49bd8d9046b4": {
      "model_module": "@jupyter-widgets/base",
      "model_module_version": "1.2.0",
      "model_name": "LayoutModel",
      "state": {
       "_model_module": "@jupyter-widgets/base",
       "_model_module_version": "1.2.0",
       "_model_name": "LayoutModel",
       "_view_count": null,
       "_view_module": "@jupyter-widgets/base",
       "_view_module_version": "1.2.0",
       "_view_name": "LayoutView",
       "align_content": null,
       "align_items": null,
       "align_self": null,
       "border": null,
       "bottom": null,
       "display": null,
       "flex": null,
       "flex_flow": null,
       "grid_area": null,
       "grid_auto_columns": null,
       "grid_auto_flow": null,
       "grid_auto_rows": null,
       "grid_column": null,
       "grid_gap": null,
       "grid_row": null,
       "grid_template_areas": null,
       "grid_template_columns": null,
       "grid_template_rows": null,
       "height": null,
       "justify_content": null,
       "justify_items": null,
       "left": null,
       "margin": null,
       "max_height": null,
       "max_width": null,
       "min_height": null,
       "min_width": null,
       "object_fit": null,
       "object_position": null,
       "order": null,
       "overflow": null,
       "overflow_x": null,
       "overflow_y": null,
       "padding": null,
       "right": null,
       "top": null,
       "visibility": null,
       "width": null
      }
     },
     "e28792a18a264cc8a80d43c74f95b5e0": {
      "model_module": "@jupyter-widgets/controls",
      "model_module_version": "1.5.0",
      "model_name": "HTMLModel",
      "state": {
       "_dom_classes": [],
       "_model_module": "@jupyter-widgets/controls",
       "_model_module_version": "1.5.0",
       "_model_name": "HTMLModel",
       "_view_count": null,
       "_view_module": "@jupyter-widgets/controls",
       "_view_module_version": "1.5.0",
       "_view_name": "HTMLView",
       "description": "",
       "description_tooltip": null,
       "layout": "IPY_MODEL_214fa30b76764d419634ffc7c4d53bd4",
       "placeholder": "​",
       "style": "IPY_MODEL_86f6c32c01384f5a940fb1d37447ffb9",
       "value": " 456k/456k [00:00&lt;00:00, 6.93MB/s]"
      }
     },
     "e33aaef55edd4ae5b7d28591c206bbcb": {
      "model_module": "@jupyter-widgets/base",
      "model_module_version": "1.2.0",
      "model_name": "LayoutModel",
      "state": {
       "_model_module": "@jupyter-widgets/base",
       "_model_module_version": "1.2.0",
       "_model_name": "LayoutModel",
       "_view_count": null,
       "_view_module": "@jupyter-widgets/base",
       "_view_module_version": "1.2.0",
       "_view_name": "LayoutView",
       "align_content": null,
       "align_items": null,
       "align_self": null,
       "border": null,
       "bottom": null,
       "display": null,
       "flex": null,
       "flex_flow": null,
       "grid_area": null,
       "grid_auto_columns": null,
       "grid_auto_flow": null,
       "grid_auto_rows": null,
       "grid_column": null,
       "grid_gap": null,
       "grid_row": null,
       "grid_template_areas": null,
       "grid_template_columns": null,
       "grid_template_rows": null,
       "height": null,
       "justify_content": null,
       "justify_items": null,
       "left": null,
       "margin": null,
       "max_height": null,
       "max_width": null,
       "min_height": null,
       "min_width": null,
       "object_fit": null,
       "object_position": null,
       "order": null,
       "overflow": null,
       "overflow_x": null,
       "overflow_y": null,
       "padding": null,
       "right": null,
       "top": null,
       "visibility": null,
       "width": null
      }
     },
     "e5945c2d90f84c228cdc084954137b36": {
      "model_module": "@jupyter-widgets/base",
      "model_module_version": "1.2.0",
      "model_name": "LayoutModel",
      "state": {
       "_model_module": "@jupyter-widgets/base",
       "_model_module_version": "1.2.0",
       "_model_name": "LayoutModel",
       "_view_count": null,
       "_view_module": "@jupyter-widgets/base",
       "_view_module_version": "1.2.0",
       "_view_name": "LayoutView",
       "align_content": null,
       "align_items": null,
       "align_self": null,
       "border": null,
       "bottom": null,
       "display": null,
       "flex": null,
       "flex_flow": null,
       "grid_area": null,
       "grid_auto_columns": null,
       "grid_auto_flow": null,
       "grid_auto_rows": null,
       "grid_column": null,
       "grid_gap": null,
       "grid_row": null,
       "grid_template_areas": null,
       "grid_template_columns": null,
       "grid_template_rows": null,
       "height": null,
       "justify_content": null,
       "justify_items": null,
       "left": null,
       "margin": null,
       "max_height": null,
       "max_width": null,
       "min_height": null,
       "min_width": null,
       "object_fit": null,
       "object_position": null,
       "order": null,
       "overflow": null,
       "overflow_x": null,
       "overflow_y": null,
       "padding": null,
       "right": null,
       "top": null,
       "visibility": null,
       "width": null
      }
     },
     "e6e63c6214f24b5294d60fe1922eebf3": {
      "model_module": "@jupyter-widgets/controls",
      "model_module_version": "1.5.0",
      "model_name": "FloatProgressModel",
      "state": {
       "_dom_classes": [],
       "_model_module": "@jupyter-widgets/controls",
       "_model_module_version": "1.5.0",
       "_model_name": "FloatProgressModel",
       "_view_count": null,
       "_view_module": "@jupyter-widgets/controls",
       "_view_module_version": "1.5.0",
       "_view_name": "ProgressView",
       "bar_style": "success",
       "description": "",
       "description_tooltip": null,
       "layout": "IPY_MODEL_16150ec5c75b4f1f80518d6415cc02b0",
       "max": 1119,
       "min": 0,
       "orientation": "horizontal",
       "style": "IPY_MODEL_358be4a2bf744fa589b0947f0da0ae48",
       "value": 1119
      }
     },
     "e94651b5d02d4a9d82e26ad4c597db15": {
      "model_module": "@jupyter-widgets/base",
      "model_module_version": "1.2.0",
      "model_name": "LayoutModel",
      "state": {
       "_model_module": "@jupyter-widgets/base",
       "_model_module_version": "1.2.0",
       "_model_name": "LayoutModel",
       "_view_count": null,
       "_view_module": "@jupyter-widgets/base",
       "_view_module_version": "1.2.0",
       "_view_name": "LayoutView",
       "align_content": null,
       "align_items": null,
       "align_self": null,
       "border": null,
       "bottom": null,
       "display": null,
       "flex": null,
       "flex_flow": null,
       "grid_area": null,
       "grid_auto_columns": null,
       "grid_auto_flow": null,
       "grid_auto_rows": null,
       "grid_column": null,
       "grid_gap": null,
       "grid_row": null,
       "grid_template_areas": null,
       "grid_template_columns": null,
       "grid_template_rows": null,
       "height": null,
       "justify_content": null,
       "justify_items": null,
       "left": null,
       "margin": null,
       "max_height": null,
       "max_width": null,
       "min_height": null,
       "min_width": null,
       "object_fit": null,
       "object_position": null,
       "order": null,
       "overflow": null,
       "overflow_x": null,
       "overflow_y": null,
       "padding": null,
       "right": null,
       "top": null,
       "visibility": null,
       "width": null
      }
     },
     "ee91ff28641e4999a57765738b86b1a1": {
      "model_module": "@jupyter-widgets/controls",
      "model_module_version": "1.5.0",
      "model_name": "ProgressStyleModel",
      "state": {
       "_model_module": "@jupyter-widgets/controls",
       "_model_module_version": "1.5.0",
       "_model_name": "ProgressStyleModel",
       "_view_count": null,
       "_view_module": "@jupyter-widgets/base",
       "_view_module_version": "1.2.0",
       "_view_name": "StyleView",
       "bar_color": null,
       "description_width": ""
      }
     },
     "eee51176af5e4f04a0e08cf76a53926a": {
      "model_module": "@jupyter-widgets/base",
      "model_module_version": "1.2.0",
      "model_name": "LayoutModel",
      "state": {
       "_model_module": "@jupyter-widgets/base",
       "_model_module_version": "1.2.0",
       "_model_name": "LayoutModel",
       "_view_count": null,
       "_view_module": "@jupyter-widgets/base",
       "_view_module_version": "1.2.0",
       "_view_name": "LayoutView",
       "align_content": null,
       "align_items": null,
       "align_self": null,
       "border": null,
       "bottom": null,
       "display": null,
       "flex": null,
       "flex_flow": null,
       "grid_area": null,
       "grid_auto_columns": null,
       "grid_auto_flow": null,
       "grid_auto_rows": null,
       "grid_column": null,
       "grid_gap": null,
       "grid_row": null,
       "grid_template_areas": null,
       "grid_template_columns": null,
       "grid_template_rows": null,
       "height": null,
       "justify_content": null,
       "justify_items": null,
       "left": null,
       "margin": null,
       "max_height": null,
       "max_width": null,
       "min_height": null,
       "min_width": null,
       "object_fit": null,
       "object_position": null,
       "order": null,
       "overflow": null,
       "overflow_x": null,
       "overflow_y": null,
       "padding": null,
       "right": null,
       "top": null,
       "visibility": null,
       "width": null
      }
     },
     "f4af059bcc8c462489a0264564315685": {
      "model_module": "@jupyter-widgets/controls",
      "model_module_version": "1.5.0",
      "model_name": "HTMLModel",
      "state": {
       "_dom_classes": [],
       "_model_module": "@jupyter-widgets/controls",
       "_model_module_version": "1.5.0",
       "_model_name": "HTMLModel",
       "_view_count": null,
       "_view_module": "@jupyter-widgets/controls",
       "_view_module_version": "1.5.0",
       "_view_name": "HTMLView",
       "description": "",
       "description_tooltip": null,
       "layout": "IPY_MODEL_8bd7ec9bf13c40b58e2e7dad32f73153",
       "placeholder": "​",
       "style": "IPY_MODEL_3c9ad89ac9bf4bbabe0db821a80099af",
       "value": " 899k/899k [00:00&lt;00:00, 9.56MB/s]"
      }
     },
     "f6fe8663d9f54298b604ae89fba23c9b": {
      "model_module": "@jupyter-widgets/base",
      "model_module_version": "1.2.0",
      "model_name": "LayoutModel",
      "state": {
       "_model_module": "@jupyter-widgets/base",
       "_model_module_version": "1.2.0",
       "_model_name": "LayoutModel",
       "_view_count": null,
       "_view_module": "@jupyter-widgets/base",
       "_view_module_version": "1.2.0",
       "_view_name": "LayoutView",
       "align_content": null,
       "align_items": null,
       "align_self": null,
       "border": null,
       "bottom": null,
       "display": null,
       "flex": null,
       "flex_flow": null,
       "grid_area": null,
       "grid_auto_columns": null,
       "grid_auto_flow": null,
       "grid_auto_rows": null,
       "grid_column": null,
       "grid_gap": null,
       "grid_row": null,
       "grid_template_areas": null,
       "grid_template_columns": null,
       "grid_template_rows": null,
       "height": null,
       "justify_content": null,
       "justify_items": null,
       "left": null,
       "margin": null,
       "max_height": null,
       "max_width": null,
       "min_height": null,
       "min_width": null,
       "object_fit": null,
       "object_position": null,
       "order": null,
       "overflow": null,
       "overflow_x": null,
       "overflow_y": null,
       "padding": null,
       "right": null,
       "top": null,
       "visibility": null,
       "width": null
      }
     },
     "fcae78fb66e54efd9e44f6bf991c3acb": {
      "model_module": "@jupyter-widgets/controls",
      "model_module_version": "1.5.0",
      "model_name": "FloatProgressModel",
      "state": {
       "_dom_classes": [],
       "_model_module": "@jupyter-widgets/controls",
       "_model_module_version": "1.5.0",
       "_model_name": "FloatProgressModel",
       "_view_count": null,
       "_view_module": "@jupyter-widgets/controls",
       "_view_module_version": "1.5.0",
       "_view_name": "ProgressView",
       "bar_style": "success",
       "description": "",
       "description_tooltip": null,
       "layout": "IPY_MODEL_589e65ae6342490fac681efad6248316",
       "max": 1355863,
       "min": 0,
       "orientation": "horizontal",
       "style": "IPY_MODEL_ac8443744b054f0181d50d65f326768a",
       "value": 1355863
      }
     },
     "fe49c37f887141d79375052f481a2a44": {
      "model_module": "@jupyter-widgets/controls",
      "model_module_version": "1.5.0",
      "model_name": "HTMLModel",
      "state": {
       "_dom_classes": [],
       "_model_module": "@jupyter-widgets/controls",
       "_model_module_version": "1.5.0",
       "_model_name": "HTMLModel",
       "_view_count": null,
       "_view_module": "@jupyter-widgets/controls",
       "_view_module_version": "1.5.0",
       "_view_name": "HTMLView",
       "description": "",
       "description_tooltip": null,
       "layout": "IPY_MODEL_6edbc5afa8fc4f58b8647582b9e0291c",
       "placeholder": "​",
       "style": "IPY_MODEL_31da6a3ea7dc4e8b83f2e835f0a3cbf0",
       "value": " 4.50k/? [00:00&lt;00:00, 210kB/s]"
      }
     }
    },
    "version_major": 2,
    "version_minor": 0
   }
  }
 },
 "nbformat": 4,
 "nbformat_minor": 5
}
