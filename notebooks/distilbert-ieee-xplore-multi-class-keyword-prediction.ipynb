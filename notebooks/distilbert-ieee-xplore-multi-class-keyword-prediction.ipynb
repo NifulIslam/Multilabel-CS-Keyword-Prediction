{
 "cells": [
  {
   "cell_type": "markdown",
   "id": "ca4acc9f",
   "metadata": {
    "papermill": {
     "duration": 0.007939,
     "end_time": "2023-08-11T11:45:17.988042",
     "exception": false,
     "start_time": "2023-08-11T11:45:17.980103",
     "status": "completed"
    },
    "tags": []
   },
   "source": [
    "# EDA and Preprocessing"
   ]
  },
  {
   "cell_type": "code",
   "execution_count": 1,
   "id": "6f84d881",
   "metadata": {
    "_cell_guid": "b1076dfc-b9ad-4769-8c92-a6c4dae69d19",
    "_uuid": "8f2839f25d086af736a60e9eeb907d3b93b6e0e5",
    "execution": {
     "iopub.execute_input": "2023-08-11T11:45:18.005134Z",
     "iopub.status.busy": "2023-08-11T11:45:18.004139Z",
     "iopub.status.idle": "2023-08-11T11:45:22.460661Z",
     "shell.execute_reply": "2023-08-11T11:45:22.459579Z"
    },
    "papermill": {
     "duration": 4.467647,
     "end_time": "2023-08-11T11:45:22.463087",
     "exception": false,
     "start_time": "2023-08-11T11:45:17.995440",
     "status": "completed"
    },
    "tags": []
   },
   "outputs": [
    {
     "name": "stderr",
     "output_type": "stream",
     "text": [
      "/tmp/ipykernel_23/2807701938.py:5: DtypeWarning: Columns (2,3) have mixed types. Specify dtype option on import or set low_memory=False.\n",
      "  data=pd.read_csv('/kaggle/input/ieee-xplore-paper-details/papers.csv')\n"
     ]
    },
    {
     "data": {
      "text/html": [
       "<div>\n",
       "<style scoped>\n",
       "    .dataframe tbody tr th:only-of-type {\n",
       "        vertical-align: middle;\n",
       "    }\n",
       "\n",
       "    .dataframe tbody tr th {\n",
       "        vertical-align: top;\n",
       "    }\n",
       "\n",
       "    .dataframe thead th {\n",
       "        text-align: right;\n",
       "    }\n",
       "</style>\n",
       "<table border=\"1\" class=\"dataframe\">\n",
       "  <thead>\n",
       "    <tr style=\"text-align: right;\">\n",
       "      <th></th>\n",
       "      <th>keywords</th>\n",
       "      <th>text</th>\n",
       "    </tr>\n",
       "  </thead>\n",
       "  <tbody>\n",
       "    <tr>\n",
       "      <th>0</th>\n",
       "      <td>[Training, Degradation, Complexity theory, Ima...</td>\n",
       "      <td>Deep Residual Learning for Image RecognitionDe...</td>\n",
       "    </tr>\n",
       "    <tr>\n",
       "      <th>1</th>\n",
       "      <td>[Genetic algorithms, Sorting, Computational co...</td>\n",
       "      <td>A fast and elitist multiobjective genetic algo...</td>\n",
       "    </tr>\n",
       "    <tr>\n",
       "      <th>2</th>\n",
       "      <td>[Particle swarm optimization, Birds, Education...</td>\n",
       "      <td>Particle swarm optimizationA concept for the o...</td>\n",
       "    </tr>\n",
       "    <tr>\n",
       "      <th>3</th>\n",
       "      <td>[Computer architecture, Convolutional codes, S...</td>\n",
       "      <td>Going deeper with convolutionsWe propose a dee...</td>\n",
       "    </tr>\n",
       "    <tr>\n",
       "      <th>4</th>\n",
       "      <td>[Computer architecture, Microprocessors, Objec...</td>\n",
       "      <td>You Only Look Once: Unified, Real-Time Object ...</td>\n",
       "    </tr>\n",
       "    <tr>\n",
       "      <th>...</th>\n",
       "      <td>...</td>\n",
       "      <td>...</td>\n",
       "    </tr>\n",
       "    <tr>\n",
       "      <th>51679</th>\n",
       "      <td>[Microgrids, Batteries, Energy management, Opt...</td>\n",
       "      <td>Optimal Energy Management for a Residential Mi...</td>\n",
       "    </tr>\n",
       "    <tr>\n",
       "      <th>51680</th>\n",
       "      <td>[Programmable control, Adaptive control, Itera...</td>\n",
       "      <td>An adaptive iterative learning control algorit...</td>\n",
       "    </tr>\n",
       "    <tr>\n",
       "      <th>51681</th>\n",
       "      <td>[Fuzzy sets, Fuzzy systems, Power system model...</td>\n",
       "      <td>Compact and transparent fuzzy models and class...</td>\n",
       "    </tr>\n",
       "    <tr>\n",
       "      <th>51682</th>\n",
       "      <td>[Mobile handsets, Resource management, Servers...</td>\n",
       "      <td>Smart Resource Allocation for Mobile Edge Comp...</td>\n",
       "    </tr>\n",
       "    <tr>\n",
       "      <th>51683</th>\n",
       "      <td>[Face, Image recognition, Feature extraction, ...</td>\n",
       "      <td>Quality Aware Network for Set to Set Recogniti...</td>\n",
       "    </tr>\n",
       "  </tbody>\n",
       "</table>\n",
       "<p>51684 rows × 2 columns</p>\n",
       "</div>"
      ],
      "text/plain": [
       "                                                keywords  \\\n",
       "0      [Training, Degradation, Complexity theory, Ima...   \n",
       "1      [Genetic algorithms, Sorting, Computational co...   \n",
       "2      [Particle swarm optimization, Birds, Education...   \n",
       "3      [Computer architecture, Convolutional codes, S...   \n",
       "4      [Computer architecture, Microprocessors, Objec...   \n",
       "...                                                  ...   \n",
       "51679  [Microgrids, Batteries, Energy management, Opt...   \n",
       "51680  [Programmable control, Adaptive control, Itera...   \n",
       "51681  [Fuzzy sets, Fuzzy systems, Power system model...   \n",
       "51682  [Mobile handsets, Resource management, Servers...   \n",
       "51683  [Face, Image recognition, Feature extraction, ...   \n",
       "\n",
       "                                                    text  \n",
       "0      Deep Residual Learning for Image RecognitionDe...  \n",
       "1      A fast and elitist multiobjective genetic algo...  \n",
       "2      Particle swarm optimizationA concept for the o...  \n",
       "3      Going deeper with convolutionsWe propose a dee...  \n",
       "4      You Only Look Once: Unified, Real-Time Object ...  \n",
       "...                                                  ...  \n",
       "51679  Optimal Energy Management for a Residential Mi...  \n",
       "51680  An adaptive iterative learning control algorit...  \n",
       "51681  Compact and transparent fuzzy models and class...  \n",
       "51682  Smart Resource Allocation for Mobile Edge Comp...  \n",
       "51683  Quality Aware Network for Set to Set Recogniti...  \n",
       "\n",
       "[51684 rows x 2 columns]"
      ]
     },
     "execution_count": 1,
     "metadata": {},
     "output_type": "execute_result"
    }
   ],
   "source": [
    "import numpy as np \n",
    "import pandas as pd\n",
    "import os\n",
    "import ast\n",
    "data=pd.read_csv('/kaggle/input/ieee-xplore-paper-details/papers.csv')\n",
    "data=data.dropna().reset_index(drop=True)\n",
    "data=data.drop('link',axis=1)\n",
    "data['text']=data.apply(lambda row: row['Title'] + row['abstract'], axis = 1)\n",
    "data=data.drop('Title',axis=1)\n",
    "data=data.drop('abstract',axis=1)\n",
    "data['keywords']=data.apply(lambda row: ast.literal_eval(row['keywords']), axis = 1)\n",
    "data"
   ]
  },
  {
   "cell_type": "code",
   "execution_count": 2,
   "id": "c532771e",
   "metadata": {
    "execution": {
     "iopub.execute_input": "2023-08-11T11:45:22.480884Z",
     "iopub.status.busy": "2023-08-11T11:45:22.480329Z",
     "iopub.status.idle": "2023-08-11T11:45:22.612890Z",
     "shell.execute_reply": "2023-08-11T11:45:22.611625Z"
    },
    "papermill": {
     "duration": 0.143546,
     "end_time": "2023-08-11T11:45:22.614934",
     "exception": false,
     "start_time": "2023-08-11T11:45:22.471388",
     "status": "completed"
    },
    "tags": []
   },
   "outputs": [
    {
     "name": "stdout",
     "output_type": "stream",
     "text": [
      "3008\n"
     ]
    }
   ],
   "source": [
    "keyword_count={}\n",
    "for i in data['keywords']:\n",
    "    for keyword in i:\n",
    "        try:\n",
    "            keyword_count[keyword]+=1\n",
    "        except:\n",
    "            keyword_count[keyword]=1\n",
    "print(len(keyword_count.keys()))"
   ]
  },
  {
   "cell_type": "code",
   "execution_count": 3,
   "id": "21f1647c",
   "metadata": {
    "execution": {
     "iopub.execute_input": "2023-08-11T11:45:22.631696Z",
     "iopub.status.busy": "2023-08-11T11:45:22.631411Z",
     "iopub.status.idle": "2023-08-11T11:45:22.974617Z",
     "shell.execute_reply": "2023-08-11T11:45:22.973588Z"
    },
    "papermill": {
     "duration": 0.35421,
     "end_time": "2023-08-11T11:45:22.976902",
     "exception": false,
     "start_time": "2023-08-11T11:45:22.622692",
     "status": "completed"
    },
    "tags": []
   },
   "outputs": [
    {
     "data": {
      "text/plain": [
       "Text(0.5, 1.0, 'Frequency of Instance Occurrences')"
      ]
     },
     "execution_count": 3,
     "metadata": {},
     "output_type": "execute_result"
    },
    {
     "data": {
      "image/png": "[encoded data removed]",
      "text/plain": [
       "<Figure size 640x480 with 1 Axes>"
      ]
     },
     "metadata": {},
     "output_type": "display_data"
    }
   ],
   "source": [
    "from matplotlib import pyplot as plt\n",
    "from collections import Counter\n",
    "import collections\n",
    "distribution=Counter(list(keyword_count.values()))\n",
    "sorted_count=sorted(distribution.items())\n",
    "sorted_count= [i[1] for i in sorted_count]\n",
    "plt.plot(sorted_count)\n",
    "plt.xlabel('Instances')\n",
    "plt.ylabel('Repetition')\n",
    "plt.title('Frequency of Instance Occurrences')\n"
   ]
  },
  {
   "cell_type": "code",
   "execution_count": 4,
   "id": "3f8c2fb5",
   "metadata": {
    "execution": {
     "iopub.execute_input": "2023-08-11T11:45:22.996133Z",
     "iopub.status.busy": "2023-08-11T11:45:22.995062Z",
     "iopub.status.idle": "2023-08-11T11:45:23.003208Z",
     "shell.execute_reply": "2023-08-11T11:45:23.002170Z"
    },
    "papermill": {
     "duration": 0.020375,
     "end_time": "2023-08-11T11:45:23.005768",
     "exception": false,
     "start_time": "2023-08-11T11:45:22.985393",
     "status": "completed"
    },
    "tags": []
   },
   "outputs": [
    {
     "data": {
      "text/plain": [
       "510"
      ]
     },
     "execution_count": 4,
     "metadata": {},
     "output_type": "execute_result"
    }
   ],
   "source": [
    "threshold = 20\n",
    "common_keywords = [key for key, value in keyword_count.items() if value > threshold]\n",
    "len(common_keywords)"
   ]
  },
  {
   "cell_type": "code",
   "execution_count": 5,
   "id": "666c2a3d",
   "metadata": {
    "execution": {
     "iopub.execute_input": "2023-08-11T11:45:23.024220Z",
     "iopub.status.busy": "2023-08-11T11:45:23.023348Z",
     "iopub.status.idle": "2023-08-11T11:45:23.034389Z",
     "shell.execute_reply": "2023-08-11T11:45:23.033456Z"
    },
    "papermill": {
     "duration": 0.023282,
     "end_time": "2023-08-11T11:45:23.037396",
     "exception": false,
     "start_time": "2023-08-11T11:45:23.014114",
     "status": "completed"
    },
    "tags": []
   },
   "outputs": [
    {
     "name": "stdout",
     "output_type": "stream",
     "text": [
      "['Training', 'Degradation', 'Complexity theory', 'Image recognition', 'Neural networks', 'Visualization', 'Image segmentation', 'Genetic algorithms', 'Computational complexity', 'Evolutionary computation', 'Computational modeling', 'Testing', 'Decision making', 'Constraint optimization', 'Particle swarm optimization', 'Birds', 'Educational institutions', 'Humans', 'Optimization methods', 'Artificial neural networks']\n"
     ]
    }
   ],
   "source": [
    "print(common_keywords[:20])"
   ]
  },
  {
   "cell_type": "code",
   "execution_count": 6,
   "id": "496ad383",
   "metadata": {
    "execution": {
     "iopub.execute_input": "2023-08-11T11:45:23.058834Z",
     "iopub.status.busy": "2023-08-11T11:45:23.058540Z",
     "iopub.status.idle": "2023-08-11T11:45:23.065390Z",
     "shell.execute_reply": "2023-08-11T11:45:23.064523Z"
    },
    "papermill": {
     "duration": 0.018517,
     "end_time": "2023-08-11T11:45:23.067520",
     "exception": false,
     "start_time": "2023-08-11T11:45:23.049003",
     "status": "completed"
    },
    "tags": []
   },
   "outputs": [],
   "source": [
    "import json\n",
    "ohe_map={}\n",
    "for i,keyword in enumerate(common_keywords):\n",
    "    ohe_map[i]=keyword\n",
    "with open(\"keys_encoded.json\", \"w\") as fp:\n",
    "  json.dump(ohe_map, fp)"
   ]
  },
  {
   "cell_type": "code",
   "execution_count": 7,
   "id": "9873ba16",
   "metadata": {
    "execution": {
     "iopub.execute_input": "2023-08-11T11:45:23.086834Z",
     "iopub.status.busy": "2023-08-11T11:45:23.086334Z",
     "iopub.status.idle": "2023-08-11T11:45:23.392789Z",
     "shell.execute_reply": "2023-08-11T11:45:23.391812Z"
    },
    "papermill": {
     "duration": 0.318708,
     "end_time": "2023-08-11T11:45:23.395159",
     "exception": false,
     "start_time": "2023-08-11T11:45:23.076451",
     "status": "completed"
    },
    "tags": []
   },
   "outputs": [],
   "source": [
    "keywords=[]\n",
    "common_keywords= set(common_keywords)\n",
    "refined_keys=[]\n",
    "for i in data['keywords']:\n",
    "    key_i=[]\n",
    "    for key in i:\n",
    "        if(key in common_keywords):\n",
    "            key_i.append(key)\n",
    "    refined_keys.append(key_i)\n"
   ]
  },
  {
   "cell_type": "code",
   "execution_count": 8,
   "id": "e69de6f2",
   "metadata": {
    "execution": {
     "iopub.execute_input": "2023-08-11T11:45:23.413651Z",
     "iopub.status.busy": "2023-08-11T11:45:23.413333Z",
     "iopub.status.idle": "2023-08-11T11:45:23.420386Z",
     "shell.execute_reply": "2023-08-11T11:45:23.419399Z"
    },
    "papermill": {
     "duration": 0.018659,
     "end_time": "2023-08-11T11:45:23.422546",
     "exception": false,
     "start_time": "2023-08-11T11:45:23.403887",
     "status": "completed"
    },
    "tags": []
   },
   "outputs": [
    {
     "name": "stdout",
     "output_type": "stream",
     "text": [
      "[['Training', 'Degradation', 'Complexity theory', 'Image recognition', 'Neural networks', 'Visualization', 'Image segmentation'], ['Genetic algorithms', 'Computational complexity', 'Evolutionary computation', 'Computational modeling', 'Testing', 'Decision making', 'Constraint optimization'], ['Particle swarm optimization', 'Birds', 'Educational institutions', 'Testing', 'Humans', 'Genetic algorithms', 'Optimization methods', 'Artificial neural networks', 'Performance evaluation'], ['Computer architecture', 'Convolutional codes', 'Sparse matrices', 'Neural networks', 'Visualization', 'Object detection', 'Computer vision'], ['Computer architecture', 'Microprocessors', 'Object detection', 'Training', 'Real-time systems', 'Neural networks', 'Pipelines']]\n"
     ]
    }
   ],
   "source": [
    "print(refined_keys[:5])"
   ]
  },
  {
   "cell_type": "code",
   "execution_count": 9,
   "id": "a082b522",
   "metadata": {
    "execution": {
     "iopub.execute_input": "2023-08-11T11:45:23.441309Z",
     "iopub.status.busy": "2023-08-11T11:45:23.441045Z",
     "iopub.status.idle": "2023-08-11T11:45:23.451515Z",
     "shell.execute_reply": "2023-08-11T11:45:23.450642Z"
    },
    "papermill": {
     "duration": 0.022029,
     "end_time": "2023-08-11T11:45:23.453454",
     "exception": false,
     "start_time": "2023-08-11T11:45:23.431425",
     "status": "completed"
    },
    "tags": []
   },
   "outputs": [
    {
     "data": {
      "text/plain": [
       "10"
      ]
     },
     "execution_count": 9,
     "metadata": {},
     "output_type": "execute_result"
    }
   ],
   "source": [
    "max([len(k) for k in refined_keys]) # height number of common keywords present in a paper"
   ]
  },
  {
   "cell_type": "code",
   "execution_count": 10,
   "id": "7125b2d6",
   "metadata": {
    "execution": {
     "iopub.execute_input": "2023-08-11T11:45:23.472582Z",
     "iopub.status.busy": "2023-08-11T11:45:23.471771Z",
     "iopub.status.idle": "2023-08-11T11:45:33.527351Z",
     "shell.execute_reply": "2023-08-11T11:45:33.526308Z"
    },
    "papermill": {
     "duration": 10.067781,
     "end_time": "2023-08-11T11:45:33.529998",
     "exception": false,
     "start_time": "2023-08-11T11:45:23.462217",
     "status": "completed"
    },
    "tags": []
   },
   "outputs": [],
   "source": [
    "no_match=[] #papers having no common keywords\n",
    "ohe_refined=[]\n",
    "for i, keys in enumerate(refined_keys):\n",
    "    found_one=False\n",
    "    ohe=[]\n",
    "    for val, key in ohe_map.items():\n",
    "        if(key in keys):\n",
    "            found_one=True\n",
    "            ohe.append(1)\n",
    "        else:\n",
    "            ohe.append(0)\n",
    "    ohe_refined.append(ohe)\n",
    "    if(not found_one):\n",
    "        no_match.append(i)    "
   ]
  },
  {
   "cell_type": "code",
   "execution_count": 11,
   "id": "527797b9",
   "metadata": {
    "execution": {
     "iopub.execute_input": "2023-08-11T11:45:33.551180Z",
     "iopub.status.busy": "2023-08-11T11:45:33.550514Z",
     "iopub.status.idle": "2023-08-11T11:45:33.557622Z",
     "shell.execute_reply": "2023-08-11T11:45:33.556605Z"
    },
    "papermill": {
     "duration": 0.019783,
     "end_time": "2023-08-11T11:45:33.559774",
     "exception": false,
     "start_time": "2023-08-11T11:45:33.539991",
     "status": "completed"
    },
    "tags": []
   },
   "outputs": [
    {
     "data": {
      "text/plain": [
       "22"
      ]
     },
     "execution_count": 11,
     "metadata": {},
     "output_type": "execute_result"
    }
   ],
   "source": [
    "len(no_match) "
   ]
  },
  {
   "cell_type": "code",
   "execution_count": 12,
   "id": "d50332a2",
   "metadata": {
    "execution": {
     "iopub.execute_input": "2023-08-11T11:45:33.578825Z",
     "iopub.status.busy": "2023-08-11T11:45:33.578500Z",
     "iopub.status.idle": "2023-08-11T11:45:33.632282Z",
     "shell.execute_reply": "2023-08-11T11:45:33.631316Z"
    },
    "papermill": {
     "duration": 0.066123,
     "end_time": "2023-08-11T11:45:33.634558",
     "exception": false,
     "start_time": "2023-08-11T11:45:33.568435",
     "status": "completed"
    },
    "tags": []
   },
   "outputs": [
    {
     "data": {
      "text/html": [
       "<div>\n",
       "<style scoped>\n",
       "    .dataframe tbody tr th:only-of-type {\n",
       "        vertical-align: middle;\n",
       "    }\n",
       "\n",
       "    .dataframe tbody tr th {\n",
       "        vertical-align: top;\n",
       "    }\n",
       "\n",
       "    .dataframe thead th {\n",
       "        text-align: right;\n",
       "    }\n",
       "</style>\n",
       "<table border=\"1\" class=\"dataframe\">\n",
       "  <thead>\n",
       "    <tr style=\"text-align: right;\">\n",
       "      <th></th>\n",
       "      <th>keywords</th>\n",
       "      <th>text</th>\n",
       "      <th>keywords_ohe</th>\n",
       "    </tr>\n",
       "  </thead>\n",
       "  <tbody>\n",
       "    <tr>\n",
       "      <th>0</th>\n",
       "      <td>[Training, Degradation, Complexity theory, Ima...</td>\n",
       "      <td>Deep Residual Learning for Image RecognitionDe...</td>\n",
       "      <td>[1, 1, 1, 1, 1, 1, 1, 0, 0, 0, 0, 0, 0, 0, 0, ...</td>\n",
       "    </tr>\n",
       "    <tr>\n",
       "      <th>1</th>\n",
       "      <td>[Genetic algorithms, Computational complexity,...</td>\n",
       "      <td>A fast and elitist multiobjective genetic algo...</td>\n",
       "      <td>[0, 0, 0, 0, 0, 0, 0, 1, 1, 1, 1, 1, 1, 1, 0, ...</td>\n",
       "    </tr>\n",
       "    <tr>\n",
       "      <th>2</th>\n",
       "      <td>[Particle swarm optimization, Birds, Education...</td>\n",
       "      <td>Particle swarm optimizationA concept for the o...</td>\n",
       "      <td>[0, 0, 0, 0, 0, 0, 0, 1, 0, 0, 0, 1, 0, 0, 1, ...</td>\n",
       "    </tr>\n",
       "    <tr>\n",
       "      <th>3</th>\n",
       "      <td>[Computer architecture, Convolutional codes, S...</td>\n",
       "      <td>Going deeper with convolutionsWe propose a dee...</td>\n",
       "      <td>[0, 0, 0, 0, 1, 1, 0, 0, 0, 0, 0, 0, 0, 0, 0, ...</td>\n",
       "    </tr>\n",
       "    <tr>\n",
       "      <th>4</th>\n",
       "      <td>[Computer architecture, Microprocessors, Objec...</td>\n",
       "      <td>You Only Look Once: Unified, Real-Time Object ...</td>\n",
       "      <td>[1, 0, 0, 0, 1, 0, 0, 0, 0, 0, 0, 0, 0, 0, 0, ...</td>\n",
       "    </tr>\n",
       "    <tr>\n",
       "      <th>...</th>\n",
       "      <td>...</td>\n",
       "      <td>...</td>\n",
       "      <td>...</td>\n",
       "    </tr>\n",
       "    <tr>\n",
       "      <th>51679</th>\n",
       "      <td>[Microgrids, Batteries, Energy management, Opt...</td>\n",
       "      <td>Optimal Energy Management for a Residential Mi...</td>\n",
       "      <td>[0, 0, 0, 0, 0, 0, 0, 0, 0, 0, 0, 0, 0, 0, 0, ...</td>\n",
       "    </tr>\n",
       "    <tr>\n",
       "      <th>51680</th>\n",
       "      <td>[Programmable control, Adaptive control, Itera...</td>\n",
       "      <td>An adaptive iterative learning control algorit...</td>\n",
       "      <td>[0, 0, 0, 0, 0, 0, 0, 0, 0, 0, 0, 0, 0, 0, 0, ...</td>\n",
       "    </tr>\n",
       "    <tr>\n",
       "      <th>51681</th>\n",
       "      <td>[Fuzzy sets, Fuzzy systems, Power system model...</td>\n",
       "      <td>Compact and transparent fuzzy models and class...</td>\n",
       "      <td>[0, 0, 0, 0, 0, 0, 0, 1, 0, 0, 0, 0, 0, 1, 0, ...</td>\n",
       "    </tr>\n",
       "    <tr>\n",
       "      <th>51682</th>\n",
       "      <td>[Mobile handsets, Resource management, Servers...</td>\n",
       "      <td>Smart Resource Allocation for Mobile Edge Comp...</td>\n",
       "      <td>[0, 0, 0, 0, 0, 0, 0, 0, 0, 0, 0, 0, 0, 0, 0, ...</td>\n",
       "    </tr>\n",
       "    <tr>\n",
       "      <th>51683</th>\n",
       "      <td>[Face, Image recognition, Feature extraction, ...</td>\n",
       "      <td>Quality Aware Network for Set to Set Recogniti...</td>\n",
       "      <td>[1, 0, 0, 1, 1, 0, 0, 0, 0, 0, 0, 0, 0, 0, 0, ...</td>\n",
       "    </tr>\n",
       "  </tbody>\n",
       "</table>\n",
       "<p>51684 rows × 3 columns</p>\n",
       "</div>"
      ],
      "text/plain": [
       "                                                keywords  \\\n",
       "0      [Training, Degradation, Complexity theory, Ima...   \n",
       "1      [Genetic algorithms, Computational complexity,...   \n",
       "2      [Particle swarm optimization, Birds, Education...   \n",
       "3      [Computer architecture, Convolutional codes, S...   \n",
       "4      [Computer architecture, Microprocessors, Objec...   \n",
       "...                                                  ...   \n",
       "51679  [Microgrids, Batteries, Energy management, Opt...   \n",
       "51680  [Programmable control, Adaptive control, Itera...   \n",
       "51681  [Fuzzy sets, Fuzzy systems, Power system model...   \n",
       "51682  [Mobile handsets, Resource management, Servers...   \n",
       "51683  [Face, Image recognition, Feature extraction, ...   \n",
       "\n",
       "                                                    text  \\\n",
       "0      Deep Residual Learning for Image RecognitionDe...   \n",
       "1      A fast and elitist multiobjective genetic algo...   \n",
       "2      Particle swarm optimizationA concept for the o...   \n",
       "3      Going deeper with convolutionsWe propose a dee...   \n",
       "4      You Only Look Once: Unified, Real-Time Object ...   \n",
       "...                                                  ...   \n",
       "51679  Optimal Energy Management for a Residential Mi...   \n",
       "51680  An adaptive iterative learning control algorit...   \n",
       "51681  Compact and transparent fuzzy models and class...   \n",
       "51682  Smart Resource Allocation for Mobile Edge Comp...   \n",
       "51683  Quality Aware Network for Set to Set Recogniti...   \n",
       "\n",
       "                                            keywords_ohe  \n",
       "0      [1, 1, 1, 1, 1, 1, 1, 0, 0, 0, 0, 0, 0, 0, 0, ...  \n",
       "1      [0, 0, 0, 0, 0, 0, 0, 1, 1, 1, 1, 1, 1, 1, 0, ...  \n",
       "2      [0, 0, 0, 0, 0, 0, 0, 1, 0, 0, 0, 1, 0, 0, 1, ...  \n",
       "3      [0, 0, 0, 0, 1, 1, 0, 0, 0, 0, 0, 0, 0, 0, 0, ...  \n",
       "4      [1, 0, 0, 0, 1, 0, 0, 0, 0, 0, 0, 0, 0, 0, 0, ...  \n",
       "...                                                  ...  \n",
       "51679  [0, 0, 0, 0, 0, 0, 0, 0, 0, 0, 0, 0, 0, 0, 0, ...  \n",
       "51680  [0, 0, 0, 0, 0, 0, 0, 0, 0, 0, 0, 0, 0, 0, 0, ...  \n",
       "51681  [0, 0, 0, 0, 0, 0, 0, 1, 0, 0, 0, 0, 0, 1, 0, ...  \n",
       "51682  [0, 0, 0, 0, 0, 0, 0, 0, 0, 0, 0, 0, 0, 0, 0, ...  \n",
       "51683  [1, 0, 0, 1, 1, 0, 0, 0, 0, 0, 0, 0, 0, 0, 0, ...  \n",
       "\n",
       "[51684 rows x 3 columns]"
      ]
     },
     "execution_count": 12,
     "metadata": {},
     "output_type": "execute_result"
    }
   ],
   "source": [
    "data['keywords_ohe']=ohe_refined\n",
    "data['keywords']=refined_keys\n",
    "data"
   ]
  },
  {
   "cell_type": "code",
   "execution_count": 13,
   "id": "a7648d97",
   "metadata": {
    "execution": {
     "iopub.execute_input": "2023-08-11T11:45:33.655881Z",
     "iopub.status.busy": "2023-08-11T11:45:33.654432Z",
     "iopub.status.idle": "2023-08-11T11:45:33.662424Z",
     "shell.execute_reply": "2023-08-11T11:45:33.661571Z"
    },
    "papermill": {
     "duration": 0.020445,
     "end_time": "2023-08-11T11:45:33.664647",
     "exception": false,
     "start_time": "2023-08-11T11:45:33.644202",
     "status": "completed"
    },
    "tags": []
   },
   "outputs": [
    {
     "data": {
      "text/plain": [
       "[]"
      ]
     },
     "execution_count": 13,
     "metadata": {},
     "output_type": "execute_result"
    }
   ],
   "source": [
    "data.iloc[no_match[0]].keywords #making sure no_match has 0 refined keywords"
   ]
  },
  {
   "cell_type": "code",
   "execution_count": 14,
   "id": "a2e439e7",
   "metadata": {
    "execution": {
     "iopub.execute_input": "2023-08-11T11:45:33.684451Z",
     "iopub.status.busy": "2023-08-11T11:45:33.684173Z",
     "iopub.status.idle": "2023-08-11T11:45:33.695835Z",
     "shell.execute_reply": "2023-08-11T11:45:33.694893Z"
    },
    "papermill": {
     "duration": 0.024054,
     "end_time": "2023-08-11T11:45:33.698249",
     "exception": false,
     "start_time": "2023-08-11T11:45:33.674195",
     "status": "completed"
    },
    "tags": []
   },
   "outputs": [],
   "source": [
    "data=data.drop(no_match)"
   ]
  },
  {
   "cell_type": "code",
   "execution_count": 15,
   "id": "e4509b5c",
   "metadata": {
    "execution": {
     "iopub.execute_input": "2023-08-11T11:45:33.718688Z",
     "iopub.status.busy": "2023-08-11T11:45:33.718392Z",
     "iopub.status.idle": "2023-08-11T11:45:33.746908Z",
     "shell.execute_reply": "2023-08-11T11:45:33.745737Z"
    },
    "papermill": {
     "duration": 0.042128,
     "end_time": "2023-08-11T11:45:33.749875",
     "exception": false,
     "start_time": "2023-08-11T11:45:33.707747",
     "status": "completed"
    },
    "tags": []
   },
   "outputs": [
    {
     "data": {
      "text/html": [
       "<div>\n",
       "<style scoped>\n",
       "    .dataframe tbody tr th:only-of-type {\n",
       "        vertical-align: middle;\n",
       "    }\n",
       "\n",
       "    .dataframe tbody tr th {\n",
       "        vertical-align: top;\n",
       "    }\n",
       "\n",
       "    .dataframe thead th {\n",
       "        text-align: right;\n",
       "    }\n",
       "</style>\n",
       "<table border=\"1\" class=\"dataframe\">\n",
       "  <thead>\n",
       "    <tr style=\"text-align: right;\">\n",
       "      <th></th>\n",
       "      <th>keywords</th>\n",
       "      <th>text</th>\n",
       "      <th>keywords_ohe</th>\n",
       "    </tr>\n",
       "  </thead>\n",
       "  <tbody>\n",
       "    <tr>\n",
       "      <th>0</th>\n",
       "      <td>[Training, Degradation, Complexity theory, Ima...</td>\n",
       "      <td>Deep Residual Learning for Image RecognitionDe...</td>\n",
       "      <td>[1, 1, 1, 1, 1, 1, 1, 0, 0, 0, 0, 0, 0, 0, 0, ...</td>\n",
       "    </tr>\n",
       "    <tr>\n",
       "      <th>1</th>\n",
       "      <td>[Genetic algorithms, Computational complexity,...</td>\n",
       "      <td>A fast and elitist multiobjective genetic algo...</td>\n",
       "      <td>[0, 0, 0, 0, 0, 0, 0, 1, 1, 1, 1, 1, 1, 1, 0, ...</td>\n",
       "    </tr>\n",
       "    <tr>\n",
       "      <th>2</th>\n",
       "      <td>[Particle swarm optimization, Birds, Education...</td>\n",
       "      <td>Particle swarm optimizationA concept for the o...</td>\n",
       "      <td>[0, 0, 0, 0, 0, 0, 0, 1, 0, 0, 0, 1, 0, 0, 1, ...</td>\n",
       "    </tr>\n",
       "    <tr>\n",
       "      <th>3</th>\n",
       "      <td>[Computer architecture, Convolutional codes, S...</td>\n",
       "      <td>Going deeper with convolutionsWe propose a dee...</td>\n",
       "      <td>[0, 0, 0, 0, 1, 1, 0, 0, 0, 0, 0, 0, 0, 0, 0, ...</td>\n",
       "    </tr>\n",
       "    <tr>\n",
       "      <th>4</th>\n",
       "      <td>[Computer architecture, Microprocessors, Objec...</td>\n",
       "      <td>You Only Look Once: Unified, Real-Time Object ...</td>\n",
       "      <td>[1, 0, 0, 0, 1, 0, 0, 0, 0, 0, 0, 0, 0, 0, 0, ...</td>\n",
       "    </tr>\n",
       "    <tr>\n",
       "      <th>...</th>\n",
       "      <td>...</td>\n",
       "      <td>...</td>\n",
       "      <td>...</td>\n",
       "    </tr>\n",
       "    <tr>\n",
       "      <th>51679</th>\n",
       "      <td>[Microgrids, Batteries, Energy management, Opt...</td>\n",
       "      <td>Optimal Energy Management for a Residential Mi...</td>\n",
       "      <td>[0, 0, 0, 0, 0, 0, 0, 0, 0, 0, 0, 0, 0, 0, 0, ...</td>\n",
       "    </tr>\n",
       "    <tr>\n",
       "      <th>51680</th>\n",
       "      <td>[Programmable control, Adaptive control, Itera...</td>\n",
       "      <td>An adaptive iterative learning control algorit...</td>\n",
       "      <td>[0, 0, 0, 0, 0, 0, 0, 0, 0, 0, 0, 0, 0, 0, 0, ...</td>\n",
       "    </tr>\n",
       "    <tr>\n",
       "      <th>51681</th>\n",
       "      <td>[Fuzzy sets, Fuzzy systems, Power system model...</td>\n",
       "      <td>Compact and transparent fuzzy models and class...</td>\n",
       "      <td>[0, 0, 0, 0, 0, 0, 0, 1, 0, 0, 0, 0, 0, 1, 0, ...</td>\n",
       "    </tr>\n",
       "    <tr>\n",
       "      <th>51682</th>\n",
       "      <td>[Mobile handsets, Resource management, Servers...</td>\n",
       "      <td>Smart Resource Allocation for Mobile Edge Comp...</td>\n",
       "      <td>[0, 0, 0, 0, 0, 0, 0, 0, 0, 0, 0, 0, 0, 0, 0, ...</td>\n",
       "    </tr>\n",
       "    <tr>\n",
       "      <th>51683</th>\n",
       "      <td>[Face, Image recognition, Feature extraction, ...</td>\n",
       "      <td>Quality Aware Network for Set to Set Recogniti...</td>\n",
       "      <td>[1, 0, 0, 1, 1, 0, 0, 0, 0, 0, 0, 0, 0, 0, 0, ...</td>\n",
       "    </tr>\n",
       "  </tbody>\n",
       "</table>\n",
       "<p>51662 rows × 3 columns</p>\n",
       "</div>"
      ],
      "text/plain": [
       "                                                keywords  \\\n",
       "0      [Training, Degradation, Complexity theory, Ima...   \n",
       "1      [Genetic algorithms, Computational complexity,...   \n",
       "2      [Particle swarm optimization, Birds, Education...   \n",
       "3      [Computer architecture, Convolutional codes, S...   \n",
       "4      [Computer architecture, Microprocessors, Objec...   \n",
       "...                                                  ...   \n",
       "51679  [Microgrids, Batteries, Energy management, Opt...   \n",
       "51680  [Programmable control, Adaptive control, Itera...   \n",
       "51681  [Fuzzy sets, Fuzzy systems, Power system model...   \n",
       "51682  [Mobile handsets, Resource management, Servers...   \n",
       "51683  [Face, Image recognition, Feature extraction, ...   \n",
       "\n",
       "                                                    text  \\\n",
       "0      Deep Residual Learning for Image RecognitionDe...   \n",
       "1      A fast and elitist multiobjective genetic algo...   \n",
       "2      Particle swarm optimizationA concept for the o...   \n",
       "3      Going deeper with convolutionsWe propose a dee...   \n",
       "4      You Only Look Once: Unified, Real-Time Object ...   \n",
       "...                                                  ...   \n",
       "51679  Optimal Energy Management for a Residential Mi...   \n",
       "51680  An adaptive iterative learning control algorit...   \n",
       "51681  Compact and transparent fuzzy models and class...   \n",
       "51682  Smart Resource Allocation for Mobile Edge Comp...   \n",
       "51683  Quality Aware Network for Set to Set Recogniti...   \n",
       "\n",
       "                                            keywords_ohe  \n",
       "0      [1, 1, 1, 1, 1, 1, 1, 0, 0, 0, 0, 0, 0, 0, 0, ...  \n",
       "1      [0, 0, 0, 0, 0, 0, 0, 1, 1, 1, 1, 1, 1, 1, 0, ...  \n",
       "2      [0, 0, 0, 0, 0, 0, 0, 1, 0, 0, 0, 1, 0, 0, 1, ...  \n",
       "3      [0, 0, 0, 0, 1, 1, 0, 0, 0, 0, 0, 0, 0, 0, 0, ...  \n",
       "4      [1, 0, 0, 0, 1, 0, 0, 0, 0, 0, 0, 0, 0, 0, 0, ...  \n",
       "...                                                  ...  \n",
       "51679  [0, 0, 0, 0, 0, 0, 0, 0, 0, 0, 0, 0, 0, 0, 0, ...  \n",
       "51680  [0, 0, 0, 0, 0, 0, 0, 0, 0, 0, 0, 0, 0, 0, 0, ...  \n",
       "51681  [0, 0, 0, 0, 0, 0, 0, 1, 0, 0, 0, 0, 0, 1, 0, ...  \n",
       "51682  [0, 0, 0, 0, 0, 0, 0, 0, 0, 0, 0, 0, 0, 0, 0, ...  \n",
       "51683  [1, 0, 0, 1, 1, 0, 0, 0, 0, 0, 0, 0, 0, 0, 0, ...  \n",
       "\n",
       "[51662 rows x 3 columns]"
      ]
     },
     "execution_count": 15,
     "metadata": {},
     "output_type": "execute_result"
    }
   ],
   "source": [
    "data"
   ]
  },
  {
   "cell_type": "code",
   "execution_count": 16,
   "id": "868ab31a",
   "metadata": {
    "execution": {
     "iopub.execute_input": "2023-08-11T11:45:33.772305Z",
     "iopub.status.busy": "2023-08-11T11:45:33.771607Z",
     "iopub.status.idle": "2023-08-11T11:45:36.634323Z",
     "shell.execute_reply": "2023-08-11T11:45:36.633307Z"
    },
    "papermill": {
     "duration": 2.875693,
     "end_time": "2023-08-11T11:45:36.636724",
     "exception": false,
     "start_time": "2023-08-11T11:45:33.761031",
     "status": "completed"
    },
    "tags": []
   },
   "outputs": [
    {
     "name": "stdout",
     "output_type": "stream",
     "text": [
      "211\n",
      "2138\n",
      "1167.515833688204\n"
     ]
    }
   ],
   "source": [
    "text_size=[]\n",
    "for i in range(len(data[\"text\"])):\n",
    "    text_size.append(len(data.iloc[i]['text']))\n",
    "print(min(text_size)) #minimumn length of abstract+title\n",
    "print(max(text_size))\n",
    "print(sum(text_size)/len(text_size)) #average"
   ]
  },
  {
   "cell_type": "code",
   "execution_count": 17,
   "id": "c8625744",
   "metadata": {
    "execution": {
     "iopub.execute_input": "2023-08-11T11:45:36.659384Z",
     "iopub.status.busy": "2023-08-11T11:45:36.657943Z",
     "iopub.status.idle": "2023-08-11T11:45:37.010903Z",
     "shell.execute_reply": "2023-08-11T11:45:37.009981Z"
    },
    "papermill": {
     "duration": 0.366175,
     "end_time": "2023-08-11T11:45:37.013006",
     "exception": false,
     "start_time": "2023-08-11T11:45:36.646831",
     "status": "completed"
    },
    "tags": []
   },
   "outputs": [
    {
     "data": {
      "text/plain": [
       "Text(0.5, 1.0, 'Size of sequence')"
      ]
     },
     "execution_count": 17,
     "metadata": {},
     "output_type": "execute_result"
    },
    {
     "data": {
      "image/png": "[encoded data removed]",
      "text/plain": [
       "<Figure size 640x480 with 1 Axes>"
      ]
     },
     "metadata": {},
     "output_type": "display_data"
    }
   ],
   "source": [
    "distribution=Counter(list(text_size))\n",
    "sorted_count=sorted(distribution.items())\n",
    "sorted_count= [i[1] for i in sorted_count]\n",
    "plt.plot(sorted_count)\n",
    "plt.xlabel('Sequence Length')\n",
    "plt.ylabel('Count')\n",
    "plt.title('Size of sequence')"
   ]
  },
  {
   "cell_type": "markdown",
   "id": "0a0f5274",
   "metadata": {
    "papermill": {
     "duration": 0.010092,
     "end_time": "2023-08-11T11:45:37.033739",
     "exception": false,
     "start_time": "2023-08-11T11:45:37.023647",
     "status": "completed"
    },
    "tags": []
   },
   "source": [
    "# Classification"
   ]
  },
  {
   "cell_type": "code",
   "execution_count": 18,
   "id": "97b64136",
   "metadata": {
    "execution": {
     "iopub.execute_input": "2023-08-11T11:45:37.057005Z",
     "iopub.status.busy": "2023-08-11T11:45:37.056014Z",
     "iopub.status.idle": "2023-08-11T11:47:39.937578Z",
     "shell.execute_reply": "2023-08-11T11:47:39.936126Z"
    },
    "papermill": {
     "duration": 122.897012,
     "end_time": "2023-08-11T11:47:39.941525",
     "exception": false,
     "start_time": "2023-08-11T11:45:37.044513",
     "status": "completed"
    },
    "tags": []
   },
   "outputs": [
    {
     "name": "stdout",
     "output_type": "stream",
     "text": [
      "\u001b[31mERROR: pip's dependency resolver does not currently take into account all the packages that are installed. This behaviour is the source of the following dependency conflicts.\r\n",
      "torchdata 0.6.0 requires torch==2.0.0, but you have torch 1.13.1 which is incompatible.\u001b[0m\u001b[31m\r\n",
      "\u001b[0m"
     ]
    }
   ],
   "source": [
    "! pip install -q transformers[sentencepiece] fastbook fastai ohmeow-blurr nbdev"
   ]
  },
  {
   "cell_type": "code",
   "execution_count": 19,
   "id": "17227c26",
   "metadata": {
    "execution": {
     "iopub.execute_input": "2023-08-11T11:47:39.985807Z",
     "iopub.status.busy": "2023-08-11T11:47:39.985213Z",
     "iopub.status.idle": "2023-08-11T11:47:59.658023Z",
     "shell.execute_reply": "2023-08-11T11:47:59.657015Z"
    },
    "papermill": {
     "duration": 19.698221,
     "end_time": "2023-08-11T11:47:59.660644",
     "exception": false,
     "start_time": "2023-08-11T11:47:39.962423",
     "status": "completed"
    },
    "tags": []
   },
   "outputs": [
    {
     "name": "stderr",
     "output_type": "stream",
     "text": [
      "/opt/conda/lib/python3.10/site-packages/scipy/__init__.py:146: UserWarning: A NumPy version >=1.16.5 and <1.23.0 is required for this version of SciPy (detected version 1.23.5\n",
      "  warnings.warn(f\"A NumPy version >={np_minversion} and <{np_maxversion}\"\n",
      "/opt/conda/lib/python3.10/site-packages/tensorflow_io/python/ops/__init__.py:98: UserWarning: unable to load libtensorflow_io_plugins.so: unable to open file: libtensorflow_io_plugins.so, from paths: ['/opt/conda/lib/python3.10/site-packages/tensorflow_io/python/ops/libtensorflow_io_plugins.so']\n",
      "caused by: ['/opt/conda/lib/python3.10/site-packages/tensorflow_io/python/ops/libtensorflow_io_plugins.so: undefined symbol: _ZN3tsl6StatusC1EN10tensorflow5error4CodeESt17basic_string_viewIcSt11char_traitsIcEENS_14SourceLocationE']\n",
      "  warnings.warn(f\"unable to load libtensorflow_io_plugins.so: {e}\")\n",
      "/opt/conda/lib/python3.10/site-packages/tensorflow_io/python/ops/__init__.py:104: UserWarning: file system plugins are not loaded: unable to open file: libtensorflow_io.so, from paths: ['/opt/conda/lib/python3.10/site-packages/tensorflow_io/python/ops/libtensorflow_io.so']\n",
      "caused by: ['/opt/conda/lib/python3.10/site-packages/tensorflow_io/python/ops/libtensorflow_io.so: undefined symbol: _ZTVN10tensorflow13GcsFileSystemE']\n",
      "  warnings.warn(f\"file system plugins are not loaded: {e}\")\n"
     ]
    },
    {
     "data": {
      "application/vnd.jupyter.widget-view+json": {
       "model_id": "ce163b6bb9ba4a22bda07d1306762bdd",
       "version_major": 2,
       "version_minor": 0
      },
      "text/plain": [
       "Downloading builder script:   0%|          | 0.00/1.72k [00:00<?, ?B/s]"
      ]
     },
     "metadata": {},
     "output_type": "display_data"
    },
    {
     "data": {
      "application/vnd.jupyter.widget-view+json": {
       "model_id": "0cb200e6a7344a74afa4cc43bbd3850e",
       "version_major": 2,
       "version_minor": 0
      },
      "text/plain": [
       "Downloading extra modules:   0%|          | 0.00/1.12k [00:00<?, ?B/s]"
      ]
     },
     "metadata": {},
     "output_type": "display_data"
    },
    {
     "data": {
      "application/vnd.jupyter.widget-view+json": {
       "model_id": "9e991436426043559ddc0813eb44121e",
       "version_major": 2,
       "version_minor": 0
      },
      "text/plain": [
       "Downloading (…)lve/main/config.json:   0%|          | 0.00/483 [00:00<?, ?B/s]"
      ]
     },
     "metadata": {},
     "output_type": "display_data"
    },
    {
     "data": {
      "application/vnd.jupyter.widget-view+json": {
       "model_id": "4d91081f79724cf9b6cdfeb0bdc7d0a2",
       "version_major": 2,
       "version_minor": 0
      },
      "text/plain": [
       "Downloading (…)okenizer_config.json:   0%|          | 0.00/28.0 [00:00<?, ?B/s]"
      ]
     },
     "metadata": {},
     "output_type": "display_data"
    },
    {
     "data": {
      "application/vnd.jupyter.widget-view+json": {
       "model_id": "681f68dc575e47e6a02ae5b91d991f57",
       "version_major": 2,
       "version_minor": 0
      },
      "text/plain": [
       "Downloading (…)solve/main/vocab.txt:   0%|          | 0.00/232k [00:00<?, ?B/s]"
      ]
     },
     "metadata": {},
     "output_type": "display_data"
    },
    {
     "data": {
      "application/vnd.jupyter.widget-view+json": {
       "model_id": "896a240d244e48cdb8ba6e44c4c5cbaf",
       "version_major": 2,
       "version_minor": 0
      },
      "text/plain": [
       "Downloading (…)/main/tokenizer.json:   0%|          | 0.00/466k [00:00<?, ?B/s]"
      ]
     },
     "metadata": {},
     "output_type": "display_data"
    },
    {
     "data": {
      "application/vnd.jupyter.widget-view+json": {
       "model_id": "482f68a2a39e4e63b2f008a2c6de534b",
       "version_major": 2,
       "version_minor": 0
      },
      "text/plain": [
       "Downloading model.safetensors:   0%|          | 0.00/268M [00:00<?, ?B/s]"
      ]
     },
     "metadata": {},
     "output_type": "display_data"
    }
   ],
   "source": [
    "from transformers import AutoTokenizer, AutoModelForSequenceClassification, AutoConfig\n",
    "from sklearn.model_selection import train_test_split\n",
    "from fastai.text.all import *\n",
    "from blurr.text.data.all import *\n",
    "from blurr.text.modeling.all import *\n",
    "\n",
    "model_name = \"distilbert-base-uncased\"\n",
    "model_cls = AutoModelForSequenceClassification\n",
    "config = AutoConfig.from_pretrained(model_name, num_labels = len(common_keywords))\n",
    "\n",
    "\n",
    "hf_arch, hf_config, hf_tokenizer, hf_model = get_hf_objects(model_name, model_cls=model_cls, config=config,)\n",
    "hf_model.config.problem_type = \"multi_label_classification\"\n"
   ]
  },
  {
   "cell_type": "code",
   "execution_count": 20,
   "id": "9574e620",
   "metadata": {
    "execution": {
     "iopub.execute_input": "2023-08-11T11:47:59.690571Z",
     "iopub.status.busy": "2023-08-11T11:47:59.689774Z",
     "iopub.status.idle": "2023-08-11T11:47:59.704122Z",
     "shell.execute_reply": "2023-08-11T11:47:59.703270Z"
    },
    "papermill": {
     "duration": 0.031017,
     "end_time": "2023-08-11T11:47:59.706107",
     "exception": false,
     "start_time": "2023-08-11T11:47:59.675090",
     "status": "completed"
    },
    "tags": []
   },
   "outputs": [],
   "source": [
    "blocks = (TextBlock(hf_arch, hf_config, hf_tokenizer, hf_model), MultiCategoryBlock(encoded=True,vocab=list(ohe_map.values())))\n",
    "dblock = DataBlock(blocks=blocks, get_x=ColReader('text'), get_y=ColReader('keywords_ohe'), splitter=RandomSplitter(valid_pct=0.1, seed=42))"
   ]
  },
  {
   "cell_type": "code",
   "execution_count": 21,
   "id": "72e38ac2",
   "metadata": {
    "execution": {
     "iopub.execute_input": "2023-08-11T11:47:59.733026Z",
     "iopub.status.busy": "2023-08-11T11:47:59.732381Z",
     "iopub.status.idle": "2023-08-11T11:49:33.188322Z",
     "shell.execute_reply": "2023-08-11T11:49:33.187293Z"
    },
    "papermill": {
     "duration": 93.473122,
     "end_time": "2023-08-11T11:49:33.190936",
     "exception": false,
     "start_time": "2023-08-11T11:47:59.717814",
     "status": "completed"
    },
    "tags": []
   },
   "outputs": [],
   "source": [
    "dls = dblock.dataloaders(data, bs=32)\n",
    "torch.save(dls, \"dataloader-multilable-keyword.pkl\")"
   ]
  },
  {
   "cell_type": "code",
   "execution_count": 22,
   "id": "8c56bd39",
   "metadata": {
    "execution": {
     "iopub.execute_input": "2023-08-11T11:49:33.217748Z",
     "iopub.status.busy": "2023-08-11T11:49:33.215961Z",
     "iopub.status.idle": "2023-08-11T11:49:33.320145Z",
     "shell.execute_reply": "2023-08-11T11:49:33.318392Z"
    },
    "papermill": {
     "duration": 0.121287,
     "end_time": "2023-08-11T11:49:33.324389",
     "exception": false,
     "start_time": "2023-08-11T11:49:33.203102",
     "status": "completed"
    },
    "tags": []
   },
   "outputs": [],
   "source": [
    "model = BaseModelWrapper(hf_model)\n",
    " \n",
    "acc_05 = partial(accuracy_multi, thresh=0.5)\n",
    "\n",
    "learner = Learner(dls, \n",
    "                  model,\n",
    "                  opt_func=partial(OptimWrapper, opt=torch.optim.AdamW),\n",
    "                  loss_func=BCEWithLogitsLossFlat(),\n",
    "                  metrics=[acc_05],\n",
    "                  cbs=[BaseModelCallback],\n",
    "                  splitter=blurr_splitter\n",
    "                  ).to_fp16()"
   ]
  },
  {
   "cell_type": "code",
   "execution_count": 23,
   "id": "b77a220d",
   "metadata": {
    "execution": {
     "iopub.execute_input": "2023-08-11T11:49:33.387666Z",
     "iopub.status.busy": "2023-08-11T11:49:33.387339Z",
     "iopub.status.idle": "2023-08-11T11:49:33.401392Z",
     "shell.execute_reply": "2023-08-11T11:49:33.400343Z"
    },
    "papermill": {
     "duration": 0.028905,
     "end_time": "2023-08-11T11:49:33.403808",
     "exception": false,
     "start_time": "2023-08-11T11:49:33.374903",
     "status": "completed"
    },
    "tags": []
   },
   "outputs": [],
   "source": [
    "learner.freeze()"
   ]
  },
  {
   "cell_type": "code",
   "execution_count": 24,
   "id": "bd7ad542",
   "metadata": {
    "execution": {
     "iopub.execute_input": "2023-08-11T11:49:33.431573Z",
     "iopub.status.busy": "2023-08-11T11:49:33.431277Z",
     "iopub.status.idle": "2023-08-11T12:15:18.004066Z",
     "shell.execute_reply": "2023-08-11T12:15:18.002916Z"
    },
    "papermill": {
     "duration": 1544.588477,
     "end_time": "2023-08-11T12:15:18.006388",
     "exception": false,
     "start_time": "2023-08-11T11:49:33.417911",
     "status": "completed"
    },
    "tags": []
   },
   "outputs": [
    {
     "data": {
      "text/html": [
       "\n",
       "<style>\n",
       "    /* Turns off some styling */\n",
       "    progress {\n",
       "        /* gets rid of default border in Firefox and Opera. */\n",
       "        border: none;\n",
       "        /* Needs to be in here for Safari polyfill so background images work as expected. */\n",
       "        background-size: auto;\n",
       "    }\n",
       "    progress:not([value]), progress:not([value])::-webkit-progress-bar {\n",
       "        background: repeating-linear-gradient(45deg, #7e7e7e, #7e7e7e 10px, #5c5c5c 10px, #5c5c5c 20px);\n",
       "    }\n",
       "    .progress-bar-interrupted, .progress-bar-interrupted::-webkit-progress-bar {\n",
       "        background: #F44336;\n",
       "    }\n",
       "</style>\n"
      ],
      "text/plain": [
       "<IPython.core.display.HTML object>"
      ]
     },
     "metadata": {},
     "output_type": "display_data"
    },
    {
     "data": {
      "text/html": [
       "<table border=\"1\" class=\"dataframe\">\n",
       "  <thead>\n",
       "    <tr style=\"text-align: left;\">\n",
       "      <th>epoch</th>\n",
       "      <th>train_loss</th>\n",
       "      <th>valid_loss</th>\n",
       "      <th>accuracy_multi</th>\n",
       "      <th>time</th>\n",
       "    </tr>\n",
       "  </thead>\n",
       "  <tbody>\n",
       "    <tr>\n",
       "      <td>0</td>\n",
       "      <td>0.012201</td>\n",
       "      <td>0.009143</td>\n",
       "      <td>0.998740</td>\n",
       "      <td>05:07</td>\n",
       "    </tr>\n",
       "    <tr>\n",
       "      <td>1</td>\n",
       "      <td>0.006793</td>\n",
       "      <td>0.005818</td>\n",
       "      <td>0.998741</td>\n",
       "      <td>05:10</td>\n",
       "    </tr>\n",
       "    <tr>\n",
       "      <td>2</td>\n",
       "      <td>0.006252</td>\n",
       "      <td>0.005280</td>\n",
       "      <td>0.998767</td>\n",
       "      <td>05:09</td>\n",
       "    </tr>\n",
       "    <tr>\n",
       "      <td>3</td>\n",
       "      <td>0.005382</td>\n",
       "      <td>0.005037</td>\n",
       "      <td>0.998771</td>\n",
       "      <td>05:09</td>\n",
       "    </tr>\n",
       "    <tr>\n",
       "      <td>4</td>\n",
       "      <td>0.005306</td>\n",
       "      <td>0.004990</td>\n",
       "      <td>0.998778</td>\n",
       "      <td>05:08</td>\n",
       "    </tr>\n",
       "  </tbody>\n",
       "</table>"
      ],
      "text/plain": [
       "<IPython.core.display.HTML object>"
      ]
     },
     "metadata": {},
     "output_type": "display_data"
    },
    {
     "name": "stdout",
     "output_type": "stream",
     "text": [
      "huggingface/tokenizers: The current process just got forked, after parallelism has already been used. Disabling parallelism to avoid deadlocks...\n",
      "To disable this warning, you can either:\n",
      "\t- Avoid using `tokenizers` before the fork if possible\n",
      "\t- Explicitly set the environment variable TOKENIZERS_PARALLELISM=(true | false)\n",
      "huggingface/tokenizers: The current process just got forked, after parallelism has already been used. Disabling parallelism to avoid deadlocks...\n",
      "To disable this warning, you can either:\n",
      "\t- Avoid using `tokenizers` before the fork if possible\n",
      "\t- Explicitly set the environment variable TOKENIZERS_PARALLELISM=(true | false)\n",
      "huggingface/tokenizers: The current process just got forked, after parallelism has already been used. Disabling parallelism to avoid deadlocks...\n",
      "To disable this warning, you can either:\n",
      "\t- Avoid using `tokenizers` before the fork if possible\n",
      "\t- Explicitly set the environment variable TOKENIZERS_PARALLELISM=(true | false)\n",
      "huggingface/tokenizers: The current process just got forked, after parallelism has already been used. Disabling parallelism to avoid deadlocks...\n",
      "To disable this warning, you can either:\n",
      "\t- Avoid using `tokenizers` before the fork if possible\n",
      "\t- Explicitly set the environment variable TOKENIZERS_PARALLELISM=(true | false)\n",
      "huggingface/tokenizers: The current process just got forked, after parallelism has already been used. Disabling parallelism to avoid deadlocks...\n",
      "To disable this warning, you can either:\n",
      "\t- Avoid using `tokenizers` before the fork if possible\n",
      "\t- Explicitly set the environment variable TOKENIZERS_PARALLELISM=(true | false)\n",
      "huggingface/tokenizers: The current process just got forked, after parallelism has already been used. Disabling parallelism to avoid deadlocks...\n",
      "To disable this warning, you can either:\n",
      "\t- Avoid using `tokenizers` before the fork if possible\n",
      "\t- Explicitly set the environment variable TOKENIZERS_PARALLELISM=(true | false)\n",
      "huggingface/tokenizers: The current process just got forked, after parallelism has already been used. Disabling parallelism to avoid deadlocks...\n",
      "To disable this warning, you can either:\n",
      "\t- Avoid using `tokenizers` before the fork if possible\n",
      "\t- Explicitly set the environment variable TOKENIZERS_PARALLELISM=(true | false)\n",
      "huggingface/tokenizers: The current process just got forked, after parallelism has already been used. Disabling parallelism to avoid deadlocks...\n",
      "To disable this warning, you can either:\n",
      "\t- Avoid using `tokenizers` before the fork if possible\n",
      "\t- Explicitly set the environment variable TOKENIZERS_PARALLELISM=(true | false)\n",
      "huggingface/tokenizers: The current process just got forked, after parallelism has already been used. Disabling parallelism to avoid deadlocks...\n",
      "To disable this warning, you can either:\n",
      "\t- Avoid using `tokenizers` before the fork if possible\n",
      "\t- Explicitly set the environment variable TOKENIZERS_PARALLELISM=(true | false)\n",
      "huggingface/tokenizers: The current process just got forked, after parallelism has already been used. Disabling parallelism to avoid deadlocks...\n",
      "To disable this warning, you can either:\n",
      "\t- Avoid using `tokenizers` before the fork if possible\n",
      "\t- Explicitly set the environment variable TOKENIZERS_PARALLELISM=(true | false)\n",
      "To disable this warning, you can either:\n",
      "\t- Avoid using `tokenizers` before the fork if possible\n",
      "\t- Explicitly set the environment variable TOKENIZERS_PARALLELISM=(true | false)\n",
      "huggingface/tokenizers: The current process just got forked, after parallelism has already been used. Disabling parallelism to avoid deadlocks...\n",
      "To disable this warning, you can either:\n",
      "\t- Avoid using `tokenizers` before the fork if possible\n",
      "\t- Explicitly set the environment variable TOKENIZERS_PARALLELISM=(true | false)\n",
      "huggingface/tokenizers: The current process just got forked, after parallelism has already been used. Disabling parallelism to avoid deadlocks...\n",
      "To disable this warning, you can either:\n",
      "\t- Avoid using `tokenizers` before the fork if possible\n",
      "\t- Explicitly set the environment variable TOKENIZERS_PARALLELISM=(true | false)\n",
      "huggingface/tokenizers: The current process just got forked, after parallelism has already been used. Disabling parallelism to avoid deadlocks...\n",
      "To disable this warning, you can either:\n",
      "\t- Avoid using `tokenizers` before the fork if possible\n",
      "\t- Explicitly set the environment variable TOKENIZERS_PARALLELISM=(true | false)\n",
      "huggingface/tokenizers: The current process just got forked, after parallelism has already been used. Disabling parallelism to avoid deadlocks...\n",
      "To disable this warning, you can either:\n",
      "\t- Avoid using `tokenizers` before the fork if possible\n",
      "\t- Explicitly set the environment variable TOKENIZERS_PARALLELISM=(true | false)\n",
      "To disable this warning, you can either:\n",
      "\t- Avoid using `tokenizers` before the fork if possible\n",
      "\t- Explicitly set the environment variable TOKENIZERS_PARALLELISM=(true | false)\n",
      "huggingface/tokenizers: The current process just got forked, after parallelism has already been used. Disabling parallelism to avoid deadlocks...\n",
      "To disable this warning, you can either:\n",
      "\t- Avoid using `tokenizers` before the fork if possible\n",
      "\t- Explicitly set the environment variable TOKENIZERS_PARALLELISM=(true | false)\n",
      "huggingface/tokenizers: The current process just got forked, after parallelism has already been used. Disabling parallelism to avoid deadlocks...\n",
      "To disable this warning, you can either:\n",
      "\t- Avoid using `tokenizers` before the fork if possible\n",
      "\t- Explicitly set the environment variable TOKENIZERS_PARALLELISM=(true | false)\n",
      "To disable this warning, you can either:\n",
      "\t- Avoid using `tokenizers` before the fork if possible\n",
      "\t- Explicitly set the environment variable TOKENIZERS_PARALLELISM=(true | false)\n",
      "huggingface/tokenizers: The current process just got forked, after parallelism has already been used. Disabling parallelism to avoid deadlocks...\n",
      "To disable this warning, you can either:\n",
      "\t- Avoid using `tokenizers` before the fork if possible\n",
      "\t- Explicitly set the environment variable TOKENIZERS_PARALLELISM=(true | false)\n",
      "huggingface/tokenizers: The current process just got forked, after parallelism has already been used. Disabling parallelism to avoid deadlocks...\n",
      "To disable this warning, you can either:\n",
      "\t- Avoid using `tokenizers` before the fork if possible\n",
      "\t- Explicitly set the environment variable TOKENIZERS_PARALLELISM=(true | false)\n",
      "To disable this warning, you can either:\n",
      "\t- Avoid using `tokenizers` before the fork if possible\n",
      "\t- Explicitly set the environment variable TOKENIZERS_PARALLELISM=(true | false)\n",
      "huggingface/tokenizers: The current process just got forked, after parallelism has already been used. Disabling parallelism to avoid deadlocks...\n",
      "To disable this warning, you can either:\n",
      "\t- Avoid using `tokenizers` before the fork if possible\n",
      "\t- Explicitly set the environment variable TOKENIZERS_PARALLELISM=(true | false)\n",
      "huggingface/tokenizers: The current process just got forked, after parallelism has already been used. Disabling parallelism to avoid deadlocks...\n",
      "To disable this warning, you can either:\n",
      "\t- Avoid using `tokenizers` before the fork if possible\n",
      "\t- Explicitly set the environment variable TOKENIZERS_PARALLELISM=(true | false)\n"
     ]
    }
   ],
   "source": [
    "learner.fit_one_cycle(5,0.001)"
   ]
  },
  {
   "cell_type": "code",
   "execution_count": 25,
   "id": "51cfeb5e",
   "metadata": {
    "execution": {
     "iopub.execute_input": "2023-08-11T12:15:18.037905Z",
     "iopub.status.busy": "2023-08-11T12:15:18.037553Z",
     "iopub.status.idle": "2023-08-11T12:15:19.178832Z",
     "shell.execute_reply": "2023-08-11T12:15:19.177771Z"
    },
    "papermill": {
     "duration": 1.16019,
     "end_time": "2023-08-11T12:15:19.181348",
     "exception": false,
     "start_time": "2023-08-11T12:15:18.021158",
     "status": "completed"
    },
    "tags": []
   },
   "outputs": [],
   "source": [
    "learner.save(\"key-predict-sv-distilbert\")\n",
    "learner.export(\"keyword-predictor-distilbert.pkl\")"
   ]
  }
 ],
 "metadata": {
  "kernelspec": {
   "display_name": "Python 3",
   "language": "python",
   "name": "python3"
  },
  "language_info": {
   "codemirror_mode": {
    "name": "ipython",
    "version": 3
   },
   "file_extension": ".py",
   "mimetype": "text/x-python",
   "name": "python",
   "nbconvert_exporter": "python",
   "pygments_lexer": "ipython3",
   "version": "3.10.12"
  },
  "papermill": {
   "default_parameters": {},
   "duration": 1814.894208,
   "end_time": "2023-08-11T12:15:22.023202",
   "environment_variables": {},
   "exception": null,
   "input_path": "__notebook__.ipynb",
   "output_path": "__notebook__.ipynb",
   "parameters": {},
   "start_time": "2023-08-11T11:45:07.128994",
   "version": "2.4.0"
  },
  "widgets": {
   "application/vnd.jupyter.widget-state+json": {
    "state": {
     "015601f72ab04fa9b033c822b1e25038": {
      "model_module": "@jupyter-widgets/base",
      "model_module_version": "1.2.0",
      "model_name": "LayoutModel",
      "state": {
       "_model_module": "@jupyter-widgets/base",
       "_model_module_version": "1.2.0",
       "_model_name": "LayoutModel",
       "_view_count": null,
       "_view_module": "@jupyter-widgets/base",
       "_view_module_version": "1.2.0",
       "_view_name": "LayoutView",
       "align_content": null,
       "align_items": null,
       "align_self": null,
       "border": null,
       "bottom": null,
       "display": null,
       "flex": null,
       "flex_flow": null,
       "grid_area": null,
       "grid_auto_columns": null,
       "grid_auto_flow": null,
       "grid_auto_rows": null,
       "grid_column": null,
       "grid_gap": null,
       "grid_row": null,
       "grid_template_areas": null,
       "grid_template_columns": null,
       "grid_template_rows": null,
       "height": null,
       "justify_content": null,
       "justify_items": null,
       "left": null,
       "margin": null,
       "max_height": null,
       "max_width": null,
       "min_height": null,
       "min_width": null,
       "object_fit": null,
       "object_position": null,
       "order": null,
       "overflow": null,
       "overflow_x": null,
       "overflow_y": null,
       "padding": null,
       "right": null,
       "top": null,
       "visibility": null,
       "width": null
      }
     },
     "03fa7cee70114037938fdbcc4a2e75b0": {
      "model_module": "@jupyter-widgets/base",
      "model_module_version": "1.2.0",
      "model_name": "LayoutModel",
      "state": {
       "_model_module": "@jupyter-widgets/base",
       "_model_module_version": "1.2.0",
       "_model_name": "LayoutModel",
       "_view_count": null,
       "_view_module": "@jupyter-widgets/base",
       "_view_module_version": "1.2.0",
       "_view_name": "LayoutView",
       "align_content": null,
       "align_items": null,
       "align_self": null,
       "border": null,
       "bottom": null,
       "display": null,
       "flex": null,
       "flex_flow": null,
       "grid_area": null,
       "grid_auto_columns": null,
       "grid_auto_flow": null,
       "grid_auto_rows": null,
       "grid_column": null,
       "grid_gap": null,
       "grid_row": null,
       "grid_template_areas": null,
       "grid_template_columns": null,
       "grid_template_rows": null,
       "height": null,
       "justify_content": null,
       "justify_items": null,
       "left": null,
       "margin": null,
       "max_height": null,
       "max_width": null,
       "min_height": null,
       "min_width": null,
       "object_fit": null,
       "object_position": null,
       "order": null,
       "overflow": null,
       "overflow_x": null,
       "overflow_y": null,
       "padding": null,
       "right": null,
       "top": null,
       "visibility": null,
       "width": null
      }
     },
     "04cfb5b0d9734e35ae1469a7e69d59a3": {
      "model_module": "@jupyter-widgets/controls",
      "model_module_version": "1.5.0",
      "model_name": "ProgressStyleModel",
      "state": {
       "_model_module": "@jupyter-widgets/controls",
       "_model_module_version": "1.5.0",
       "_model_name": "ProgressStyleModel",
       "_view_count": null,
       "_view_module": "@jupyter-widgets/base",
       "_view_module_version": "1.2.0",
       "_view_name": "StyleView",
       "bar_color": null,
       "description_width": ""
      }
     },
     "0cb200e6a7344a74afa4cc43bbd3850e": {
      "model_module": "@jupyter-widgets/controls",
      "model_module_version": "1.5.0",
      "model_name": "HBoxModel",
      "state": {
       "_dom_classes": [],
       "_model_module": "@jupyter-widgets/controls",
       "_model_module_version": "1.5.0",
       "_model_name": "HBoxModel",
       "_view_count": null,
       "_view_module": "@jupyter-widgets/controls",
       "_view_module_version": "1.5.0",
       "_view_name": "HBoxView",
       "box_style": "",
       "children": [
        "IPY_MODEL_0dfc57166616494bad8801ac0c5f690e",
        "IPY_MODEL_5c048d9d8e4f4aeab69da19181047747",
        "IPY_MODEL_5d3c7eebdeed421f8a81a7d9f8e04be6"
       ],
       "layout": "IPY_MODEL_fef6206c7c494e5aaa3fef48c3870ce6"
      }
     },
     "0dfc57166616494bad8801ac0c5f690e": {
      "model_module": "@jupyter-widgets/controls",
      "model_module_version": "1.5.0",
      "model_name": "HTMLModel",
      "state": {
       "_dom_classes": [],
       "_model_module": "@jupyter-widgets/controls",
       "_model_module_version": "1.5.0",
       "_model_name": "HTMLModel",
       "_view_count": null,
       "_view_module": "@jupyter-widgets/controls",
       "_view_module_version": "1.5.0",
       "_view_name": "HTMLView",
       "description": "",
       "description_tooltip": null,
       "layout": "IPY_MODEL_f3d8610df13a475f838a736649135311",
       "placeholder": "​",
       "style": "IPY_MODEL_3d64ac6047e848e293d09037630269fe",
       "value": "Downloading extra modules: "
      }
     },
     "0eca7e3360714e80bb8b39e73f3ae88c": {
      "model_module": "@jupyter-widgets/base",
      "model_module_version": "1.2.0",
      "model_name": "LayoutModel",
      "state": {
       "_model_module": "@jupyter-widgets/base",
       "_model_module_version": "1.2.0",
       "_model_name": "LayoutModel",
       "_view_count": null,
       "_view_module": "@jupyter-widgets/base",
       "_view_module_version": "1.2.0",
       "_view_name": "LayoutView",
       "align_content": null,
       "align_items": null,
       "align_self": null,
       "border": null,
       "bottom": null,
       "display": null,
       "flex": null,
       "flex_flow": null,
       "grid_area": null,
       "grid_auto_columns": null,
       "grid_auto_flow": null,
       "grid_auto_rows": null,
       "grid_column": null,
       "grid_gap": null,
       "grid_row": null,
       "grid_template_areas": null,
       "grid_template_columns": null,
       "grid_template_rows": null,
       "height": null,
       "justify_content": null,
       "justify_items": null,
       "left": null,
       "margin": null,
       "max_height": null,
       "max_width": null,
       "min_height": null,
       "min_width": null,
       "object_fit": null,
       "object_position": null,
       "order": null,
       "overflow": null,
       "overflow_x": null,
       "overflow_y": null,
       "padding": null,
       "right": null,
       "top": null,
       "visibility": null,
       "width": null
      }
     },
     "10d448bbe577412e844da575ede7529f": {
      "model_module": "@jupyter-widgets/controls",
      "model_module_version": "1.5.0",
      "model_name": "HTMLModel",
      "state": {
       "_dom_classes": [],
       "_model_module": "@jupyter-widgets/controls",
       "_model_module_version": "1.5.0",
       "_model_name": "HTMLModel",
       "_view_count": null,
       "_view_module": "@jupyter-widgets/controls",
       "_view_module_version": "1.5.0",
       "_view_name": "HTMLView",
       "description": "",
       "description_tooltip": null,
       "layout": "IPY_MODEL_03fa7cee70114037938fdbcc4a2e75b0",
       "placeholder": "​",
       "style": "IPY_MODEL_4bad9388717542c492d3402371f45bd3",
       "value": "Downloading (…)okenizer_config.json: 100%"
      }
     },
     "11dcf02b5e8048eb9c8880faf2611d7d": {
      "model_module": "@jupyter-widgets/controls",
      "model_module_version": "1.5.0",
      "model_name": "HTMLModel",
      "state": {
       "_dom_classes": [],
       "_model_module": "@jupyter-widgets/controls",
       "_model_module_version": "1.5.0",
       "_model_name": "HTMLModel",
       "_view_count": null,
       "_view_module": "@jupyter-widgets/controls",
       "_view_module_version": "1.5.0",
       "_view_name": "HTMLView",
       "description": "",
       "description_tooltip": null,
       "layout": "IPY_MODEL_fe348136ec1b4f78a199ba63dfbb39dd",
       "placeholder": "​",
       "style": "IPY_MODEL_3755c224a4ea41868bff301027f0b9e5",
       "value": "Downloading model.safetensors: 100%"
      }
     },
     "178462120e764fa9b6d6b7c2b7bcaa67": {
      "model_module": "@jupyter-widgets/controls",
      "model_module_version": "1.5.0",
      "model_name": "ProgressStyleModel",
      "state": {
       "_model_module": "@jupyter-widgets/controls",
       "_model_module_version": "1.5.0",
       "_model_name": "ProgressStyleModel",
       "_view_count": null,
       "_view_module": "@jupyter-widgets/base",
       "_view_module_version": "1.2.0",
       "_view_name": "StyleView",
       "bar_color": null,
       "description_width": ""
      }
     },
     "1a3f451ed82a4f34b376c408535ccc33": {
      "model_module": "@jupyter-widgets/controls",
      "model_module_version": "1.5.0",
      "model_name": "HTMLModel",
      "state": {
       "_dom_classes": [],
       "_model_module": "@jupyter-widgets/controls",
       "_model_module_version": "1.5.0",
       "_model_name": "HTMLModel",
       "_view_count": null,
       "_view_module": "@jupyter-widgets/controls",
       "_view_module_version": "1.5.0",
       "_view_name": "HTMLView",
       "description": "",
       "description_tooltip": null,
       "layout": "IPY_MODEL_daf2766278aa4bcdb0a1ca3d409bfcc3",
       "placeholder": "​",
       "style": "IPY_MODEL_cb9152f94add467da7a5efc952cd8d1e",
       "value": "Downloading (…)solve/main/vocab.txt: 100%"
      }
     },
     "1aca386dd0ed4a5eb5b7b3aefab0d728": {
      "model_module": "@jupyter-widgets/base",
      "model_module_version": "1.2.0",
      "model_name": "LayoutModel",
      "state": {
       "_model_module": "@jupyter-widgets/base",
       "_model_module_version": "1.2.0",
       "_model_name": "LayoutModel",
       "_view_count": null,
       "_view_module": "@jupyter-widgets/base",
       "_view_module_version": "1.2.0",
       "_view_name": "LayoutView",
       "align_content": null,
       "align_items": null,
       "align_self": null,
       "border": null,
       "bottom": null,
       "display": null,
       "flex": null,
       "flex_flow": null,
       "grid_area": null,
       "grid_auto_columns": null,
       "grid_auto_flow": null,
       "grid_auto_rows": null,
       "grid_column": null,
       "grid_gap": null,
       "grid_row": null,
       "grid_template_areas": null,
       "grid_template_columns": null,
       "grid_template_rows": null,
       "height": null,
       "justify_content": null,
       "justify_items": null,
       "left": null,
       "margin": null,
       "max_height": null,
       "max_width": null,
       "min_height": null,
       "min_width": null,
       "object_fit": null,
       "object_position": null,
       "order": null,
       "overflow": null,
       "overflow_x": null,
       "overflow_y": null,
       "padding": null,
       "right": null,
       "top": null,
       "visibility": null,
       "width": null
      }
     },
     "203cc643a52447e4a2d8ea6d87d747c2": {
      "model_module": "@jupyter-widgets/controls",
      "model_module_version": "1.5.0",
      "model_name": "ProgressStyleModel",
      "state": {
       "_model_module": "@jupyter-widgets/controls",
       "_model_module_version": "1.5.0",
       "_model_name": "ProgressStyleModel",
       "_view_count": null,
       "_view_module": "@jupyter-widgets/base",
       "_view_module_version": "1.2.0",
       "_view_name": "StyleView",
       "bar_color": null,
       "description_width": ""
      }
     },
     "20bd5296228a4ac39b55898a97bb3cde": {
      "model_module": "@jupyter-widgets/controls",
      "model_module_version": "1.5.0",
      "model_name": "DescriptionStyleModel",
      "state": {
       "_model_module": "@jupyter-widgets/controls",
       "_model_module_version": "1.5.0",
       "_model_name": "DescriptionStyleModel",
       "_view_count": null,
       "_view_module": "@jupyter-widgets/base",
       "_view_module_version": "1.2.0",
       "_view_name": "StyleView",
       "description_width": ""
      }
     },
     "21c901c20f584d7098a4c1574d8b1581": {
      "model_module": "@jupyter-widgets/base",
      "model_module_version": "1.2.0",
      "model_name": "LayoutModel",
      "state": {
       "_model_module": "@jupyter-widgets/base",
       "_model_module_version": "1.2.0",
       "_model_name": "LayoutModel",
       "_view_count": null,
       "_view_module": "@jupyter-widgets/base",
       "_view_module_version": "1.2.0",
       "_view_name": "LayoutView",
       "align_content": null,
       "align_items": null,
       "align_self": null,
       "border": null,
       "bottom": null,
       "display": null,
       "flex": null,
       "flex_flow": null,
       "grid_area": null,
       "grid_auto_columns": null,
       "grid_auto_flow": null,
       "grid_auto_rows": null,
       "grid_column": null,
       "grid_gap": null,
       "grid_row": null,
       "grid_template_areas": null,
       "grid_template_columns": null,
       "grid_template_rows": null,
       "height": null,
       "justify_content": null,
       "justify_items": null,
       "left": null,
       "margin": null,
       "max_height": null,
       "max_width": null,
       "min_height": null,
       "min_width": null,
       "object_fit": null,
       "object_position": null,
       "order": null,
       "overflow": null,
       "overflow_x": null,
       "overflow_y": null,
       "padding": null,
       "right": null,
       "top": null,
       "visibility": null,
       "width": null
      }
     },
     "255db22f573e498bac256ca131c5359b": {
      "model_module": "@jupyter-widgets/base",
      "model_module_version": "1.2.0",
      "model_name": "LayoutModel",
      "state": {
       "_model_module": "@jupyter-widgets/base",
       "_model_module_version": "1.2.0",
       "_model_name": "LayoutModel",
       "_view_count": null,
       "_view_module": "@jupyter-widgets/base",
       "_view_module_version": "1.2.0",
       "_view_name": "LayoutView",
       "align_content": null,
       "align_items": null,
       "align_self": null,
       "border": null,
       "bottom": null,
       "display": null,
       "flex": null,
       "flex_flow": null,
       "grid_area": null,
       "grid_auto_columns": null,
       "grid_auto_flow": null,
       "grid_auto_rows": null,
       "grid_column": null,
       "grid_gap": null,
       "grid_row": null,
       "grid_template_areas": null,
       "grid_template_columns": null,
       "grid_template_rows": null,
       "height": null,
       "justify_content": null,
       "justify_items": null,
       "left": null,
       "margin": null,
       "max_height": null,
       "max_width": null,
       "min_height": null,
       "min_width": null,
       "object_fit": null,
       "object_position": null,
       "order": null,
       "overflow": null,
       "overflow_x": null,
       "overflow_y": null,
       "padding": null,
       "right": null,
       "top": null,
       "visibility": null,
       "width": null
      }
     },
     "2634217b661e4efaad0e278593242121": {
      "model_module": "@jupyter-widgets/base",
      "model_module_version": "1.2.0",
      "model_name": "LayoutModel",
      "state": {
       "_model_module": "@jupyter-widgets/base",
       "_model_module_version": "1.2.0",
       "_model_name": "LayoutModel",
       "_view_count": null,
       "_view_module": "@jupyter-widgets/base",
       "_view_module_version": "1.2.0",
       "_view_name": "LayoutView",
       "align_content": null,
       "align_items": null,
       "align_self": null,
       "border": null,
       "bottom": null,
       "display": null,
       "flex": null,
       "flex_flow": null,
       "grid_area": null,
       "grid_auto_columns": null,
       "grid_auto_flow": null,
       "grid_auto_rows": null,
       "grid_column": null,
       "grid_gap": null,
       "grid_row": null,
       "grid_template_areas": null,
       "grid_template_columns": null,
       "grid_template_rows": null,
       "height": null,
       "justify_content": null,
       "justify_items": null,
       "left": null,
       "margin": null,
       "max_height": null,
       "max_width": null,
       "min_height": null,
       "min_width": null,
       "object_fit": null,
       "object_position": null,
       "order": null,
       "overflow": null,
       "overflow_x": null,
       "overflow_y": null,
       "padding": null,
       "right": null,
       "top": null,
       "visibility": null,
       "width": null
      }
     },
     "2ca4db871d3540819a16f5c698968098": {
      "model_module": "@jupyter-widgets/controls",
      "model_module_version": "1.5.0",
      "model_name": "DescriptionStyleModel",
      "state": {
       "_model_module": "@jupyter-widgets/controls",
       "_model_module_version": "1.5.0",
       "_model_name": "DescriptionStyleModel",
       "_view_count": null,
       "_view_module": "@jupyter-widgets/base",
       "_view_module_version": "1.2.0",
       "_view_name": "StyleView",
       "description_width": ""
      }
     },
     "3755c224a4ea41868bff301027f0b9e5": {
      "model_module": "@jupyter-widgets/controls",
      "model_module_version": "1.5.0",
      "model_name": "DescriptionStyleModel",
      "state": {
       "_model_module": "@jupyter-widgets/controls",
       "_model_module_version": "1.5.0",
       "_model_name": "DescriptionStyleModel",
       "_view_count": null,
       "_view_module": "@jupyter-widgets/base",
       "_view_module_version": "1.2.0",
       "_view_name": "StyleView",
       "description_width": ""
      }
     },
     "390dd2cc732445d889f6eef420166b3d": {
      "model_module": "@jupyter-widgets/controls",
      "model_module_version": "1.5.0",
      "model_name": "HTMLModel",
      "state": {
       "_dom_classes": [],
       "_model_module": "@jupyter-widgets/controls",
       "_model_module_version": "1.5.0",
       "_model_name": "HTMLModel",
       "_view_count": null,
       "_view_module": "@jupyter-widgets/controls",
       "_view_module_version": "1.5.0",
       "_view_name": "HTMLView",
       "description": "",
       "description_tooltip": null,
       "layout": "IPY_MODEL_c41f430c615a4faea21f1e4c52ac4511",
       "placeholder": "​",
       "style": "IPY_MODEL_afb21652e67341cf8c6b3d6ebc22c3cf",
       "value": " 4.50k/? [00:00&lt;00:00, 206kB/s]"
      }
     },
     "3d64ac6047e848e293d09037630269fe": {
      "model_module": "@jupyter-widgets/controls",
      "model_module_version": "1.5.0",
      "model_name": "DescriptionStyleModel",
      "state": {
       "_model_module": "@jupyter-widgets/controls",
       "_model_module_version": "1.5.0",
       "_model_name": "DescriptionStyleModel",
       "_view_count": null,
       "_view_module": "@jupyter-widgets/base",
       "_view_module_version": "1.2.0",
       "_view_name": "StyleView",
       "description_width": ""
      }
     },
     "401fcece24d2411c91c636f1ccdc2c34": {
      "model_module": "@jupyter-widgets/base",
      "model_module_version": "1.2.0",
      "model_name": "LayoutModel",
      "state": {
       "_model_module": "@jupyter-widgets/base",
       "_model_module_version": "1.2.0",
       "_model_name": "LayoutModel",
       "_view_count": null,
       "_view_module": "@jupyter-widgets/base",
       "_view_module_version": "1.2.0",
       "_view_name": "LayoutView",
       "align_content": null,
       "align_items": null,
       "align_self": null,
       "border": null,
       "bottom": null,
       "display": null,
       "flex": null,
       "flex_flow": null,
       "grid_area": null,
       "grid_auto_columns": null,
       "grid_auto_flow": null,
       "grid_auto_rows": null,
       "grid_column": null,
       "grid_gap": null,
       "grid_row": null,
       "grid_template_areas": null,
       "grid_template_columns": null,
       "grid_template_rows": null,
       "height": null,
       "justify_content": null,
       "justify_items": null,
       "left": null,
       "margin": null,
       "max_height": null,
       "max_width": null,
       "min_height": null,
       "min_width": null,
       "object_fit": null,
       "object_position": null,
       "order": null,
       "overflow": null,
       "overflow_x": null,
       "overflow_y": null,
       "padding": null,
       "right": null,
       "top": null,
       "visibility": null,
       "width": null
      }
     },
     "482f68a2a39e4e63b2f008a2c6de534b": {
      "model_module": "@jupyter-widgets/controls",
      "model_module_version": "1.5.0",
      "model_name": "HBoxModel",
      "state": {
       "_dom_classes": [],
       "_model_module": "@jupyter-widgets/controls",
       "_model_module_version": "1.5.0",
       "_model_name": "HBoxModel",
       "_view_count": null,
       "_view_module": "@jupyter-widgets/controls",
       "_view_module_version": "1.5.0",
       "_view_name": "HBoxView",
       "box_style": "",
       "children": [
        "IPY_MODEL_11dcf02b5e8048eb9c8880faf2611d7d",
        "IPY_MODEL_dafbc28c096a44729b7111ca617aca41",
        "IPY_MODEL_8bd7b30806d54a09979f1876fad54a83"
       ],
       "layout": "IPY_MODEL_1aca386dd0ed4a5eb5b7b3aefab0d728"
      }
     },
     "49290c378c2448c080e883eb11494407": {
      "model_module": "@jupyter-widgets/controls",
      "model_module_version": "1.5.0",
      "model_name": "DescriptionStyleModel",
      "state": {
       "_model_module": "@jupyter-widgets/controls",
       "_model_module_version": "1.5.0",
       "_model_name": "DescriptionStyleModel",
       "_view_count": null,
       "_view_module": "@jupyter-widgets/base",
       "_view_module_version": "1.2.0",
       "_view_name": "StyleView",
       "description_width": ""
      }
     },
     "4bad9388717542c492d3402371f45bd3": {
      "model_module": "@jupyter-widgets/controls",
      "model_module_version": "1.5.0",
      "model_name": "DescriptionStyleModel",
      "state": {
       "_model_module": "@jupyter-widgets/controls",
       "_model_module_version": "1.5.0",
       "_model_name": "DescriptionStyleModel",
       "_view_count": null,
       "_view_module": "@jupyter-widgets/base",
       "_view_module_version": "1.2.0",
       "_view_name": "StyleView",
       "description_width": ""
      }
     },
     "4d91081f79724cf9b6cdfeb0bdc7d0a2": {
      "model_module": "@jupyter-widgets/controls",
      "model_module_version": "1.5.0",
      "model_name": "HBoxModel",
      "state": {
       "_dom_classes": [],
       "_model_module": "@jupyter-widgets/controls",
       "_model_module_version": "1.5.0",
       "_model_name": "HBoxModel",
       "_view_count": null,
       "_view_module": "@jupyter-widgets/controls",
       "_view_module_version": "1.5.0",
       "_view_name": "HBoxView",
       "box_style": "",
       "children": [
        "IPY_MODEL_10d448bbe577412e844da575ede7529f",
        "IPY_MODEL_bbc4048093dd4edb949712e296d85a6e",
        "IPY_MODEL_81ee3266730d4666a85a1d889bfef1c2"
       ],
       "layout": "IPY_MODEL_5583ec01ac074e3fa69fbd3d114ceee6"
      }
     },
     "4d9987da3b964c4f9353b1b2b52f4df2": {
      "model_module": "@jupyter-widgets/base",
      "model_module_version": "1.2.0",
      "model_name": "LayoutModel",
      "state": {
       "_model_module": "@jupyter-widgets/base",
       "_model_module_version": "1.2.0",
       "_model_name": "LayoutModel",
       "_view_count": null,
       "_view_module": "@jupyter-widgets/base",
       "_view_module_version": "1.2.0",
       "_view_name": "LayoutView",
       "align_content": null,
       "align_items": null,
       "align_self": null,
       "border": null,
       "bottom": null,
       "display": null,
       "flex": null,
       "flex_flow": null,
       "grid_area": null,
       "grid_auto_columns": null,
       "grid_auto_flow": null,
       "grid_auto_rows": null,
       "grid_column": null,
       "grid_gap": null,
       "grid_row": null,
       "grid_template_areas": null,
       "grid_template_columns": null,
       "grid_template_rows": null,
       "height": null,
       "justify_content": null,
       "justify_items": null,
       "left": null,
       "margin": null,
       "max_height": null,
       "max_width": null,
       "min_height": null,
       "min_width": null,
       "object_fit": null,
       "object_position": null,
       "order": null,
       "overflow": null,
       "overflow_x": null,
       "overflow_y": null,
       "padding": null,
       "right": null,
       "top": null,
       "visibility": null,
       "width": null
      }
     },
     "4f53a34d2c2844b0a2c3081e2116b312": {
      "model_module": "@jupyter-widgets/controls",
      "model_module_version": "1.5.0",
      "model_name": "ProgressStyleModel",
      "state": {
       "_model_module": "@jupyter-widgets/controls",
       "_model_module_version": "1.5.0",
       "_model_name": "ProgressStyleModel",
       "_view_count": null,
       "_view_module": "@jupyter-widgets/base",
       "_view_module_version": "1.2.0",
       "_view_name": "StyleView",
       "bar_color": null,
       "description_width": ""
      }
     },
     "4fda5b4d3b924052a6be7bc90c0f5e9a": {
      "model_module": "@jupyter-widgets/controls",
      "model_module_version": "1.5.0",
      "model_name": "HTMLModel",
      "state": {
       "_dom_classes": [],
       "_model_module": "@jupyter-widgets/controls",
       "_model_module_version": "1.5.0",
       "_model_name": "HTMLModel",
       "_view_count": null,
       "_view_module": "@jupyter-widgets/controls",
       "_view_module_version": "1.5.0",
       "_view_name": "HTMLView",
       "description": "",
       "description_tooltip": null,
       "layout": "IPY_MODEL_21c901c20f584d7098a4c1574d8b1581",
       "placeholder": "​",
       "style": "IPY_MODEL_b0c0184394f5463c843829eae52db44d",
       "value": "Downloading (…)lve/main/config.json: 100%"
      }
     },
     "513f99184d354499bd70b4d2276bcc08": {
      "model_module": "@jupyter-widgets/base",
      "model_module_version": "1.2.0",
      "model_name": "LayoutModel",
      "state": {
       "_model_module": "@jupyter-widgets/base",
       "_model_module_version": "1.2.0",
       "_model_name": "LayoutModel",
       "_view_count": null,
       "_view_module": "@jupyter-widgets/base",
       "_view_module_version": "1.2.0",
       "_view_name": "LayoutView",
       "align_content": null,
       "align_items": null,
       "align_self": null,
       "border": null,
       "bottom": null,
       "display": null,
       "flex": null,
       "flex_flow": null,
       "grid_area": null,
       "grid_auto_columns": null,
       "grid_auto_flow": null,
       "grid_auto_rows": null,
       "grid_column": null,
       "grid_gap": null,
       "grid_row": null,
       "grid_template_areas": null,
       "grid_template_columns": null,
       "grid_template_rows": null,
       "height": null,
       "justify_content": null,
       "justify_items": null,
       "left": null,
       "margin": null,
       "max_height": null,
       "max_width": null,
       "min_height": null,
       "min_width": null,
       "object_fit": null,
       "object_position": null,
       "order": null,
       "overflow": null,
       "overflow_x": null,
       "overflow_y": null,
       "padding": null,
       "right": null,
       "top": null,
       "visibility": null,
       "width": null
      }
     },
     "54b47e450d874eb8b43042849e514d7b": {
      "model_module": "@jupyter-widgets/controls",
      "model_module_version": "1.5.0",
      "model_name": "HTMLModel",
      "state": {
       "_dom_classes": [],
       "_model_module": "@jupyter-widgets/controls",
       "_model_module_version": "1.5.0",
       "_model_name": "HTMLModel",
       "_view_count": null,
       "_view_module": "@jupyter-widgets/controls",
       "_view_module_version": "1.5.0",
       "_view_name": "HTMLView",
       "description": "",
       "description_tooltip": null,
       "layout": "IPY_MODEL_dbbe80e0640d410eb4fd5602636ebb79",
       "placeholder": "​",
       "style": "IPY_MODEL_20bd5296228a4ac39b55898a97bb3cde",
       "value": "Downloading (…)/main/tokenizer.json: 100%"
      }
     },
     "5583ec01ac074e3fa69fbd3d114ceee6": {
      "model_module": "@jupyter-widgets/base",
      "model_module_version": "1.2.0",
      "model_name": "LayoutModel",
      "state": {
       "_model_module": "@jupyter-widgets/base",
       "_model_module_version": "1.2.0",
       "_model_name": "LayoutModel",
       "_view_count": null,
       "_view_module": "@jupyter-widgets/base",
       "_view_module_version": "1.2.0",
       "_view_name": "LayoutView",
       "align_content": null,
       "align_items": null,
       "align_self": null,
       "border": null,
       "bottom": null,
       "display": null,
       "flex": null,
       "flex_flow": null,
       "grid_area": null,
       "grid_auto_columns": null,
       "grid_auto_flow": null,
       "grid_auto_rows": null,
       "grid_column": null,
       "grid_gap": null,
       "grid_row": null,
       "grid_template_areas": null,
       "grid_template_columns": null,
       "grid_template_rows": null,
       "height": null,
       "justify_content": null,
       "justify_items": null,
       "left": null,
       "margin": null,
       "max_height": null,
       "max_width": null,
       "min_height": null,
       "min_width": null,
       "object_fit": null,
       "object_position": null,
       "order": null,
       "overflow": null,
       "overflow_x": null,
       "overflow_y": null,
       "padding": null,
       "right": null,
       "top": null,
       "visibility": null,
       "width": null
      }
     },
     "55d1dc2d99224857a2b33e287b36bb66": {
      "model_module": "@jupyter-widgets/controls",
      "model_module_version": "1.5.0",
      "model_name": "FloatProgressModel",
      "state": {
       "_dom_classes": [],
       "_model_module": "@jupyter-widgets/controls",
       "_model_module_version": "1.5.0",
       "_model_name": "FloatProgressModel",
       "_view_count": null,
       "_view_module": "@jupyter-widgets/controls",
       "_view_module_version": "1.5.0",
       "_view_name": "ProgressView",
       "bar_style": "success",
       "description": "",
       "description_tooltip": null,
       "layout": "IPY_MODEL_ae43b55763d34f6da6cbe1a6aaa64fc6",
       "max": 231508,
       "min": 0,
       "orientation": "horizontal",
       "style": "IPY_MODEL_203cc643a52447e4a2d8ea6d87d747c2",
       "value": 231508
      }
     },
     "5974d5f3447046fc87cd0b4a31c5a31f": {
      "model_module": "@jupyter-widgets/controls",
      "model_module_version": "1.5.0",
      "model_name": "HTMLModel",
      "state": {
       "_dom_classes": [],
       "_model_module": "@jupyter-widgets/controls",
       "_model_module_version": "1.5.0",
       "_model_name": "HTMLModel",
       "_view_count": null,
       "_view_module": "@jupyter-widgets/controls",
       "_view_module_version": "1.5.0",
       "_view_name": "HTMLView",
       "description": "",
       "description_tooltip": null,
       "layout": "IPY_MODEL_c372c4a382124a3087daf1a918c48355",
       "placeholder": "​",
       "style": "IPY_MODEL_2ca4db871d3540819a16f5c698968098",
       "value": " 483/483 [00:00&lt;00:00, 33.9kB/s]"
      }
     },
     "5c048d9d8e4f4aeab69da19181047747": {
      "model_module": "@jupyter-widgets/controls",
      "model_module_version": "1.5.0",
      "model_name": "FloatProgressModel",
      "state": {
       "_dom_classes": [],
       "_model_module": "@jupyter-widgets/controls",
       "_model_module_version": "1.5.0",
       "_model_name": "FloatProgressModel",
       "_view_count": null,
       "_view_module": "@jupyter-widgets/controls",
       "_view_module_version": "1.5.0",
       "_view_name": "ProgressView",
       "bar_style": "success",
       "description": "",
       "description_tooltip": null,
       "layout": "IPY_MODEL_7c4de655e66f4716a0176f3472337c53",
       "max": 1119,
       "min": 0,
       "orientation": "horizontal",
       "style": "IPY_MODEL_4f53a34d2c2844b0a2c3081e2116b312",
       "value": 1119
      }
     },
     "5d3c7eebdeed421f8a81a7d9f8e04be6": {
      "model_module": "@jupyter-widgets/controls",
      "model_module_version": "1.5.0",
      "model_name": "HTMLModel",
      "state": {
       "_dom_classes": [],
       "_model_module": "@jupyter-widgets/controls",
       "_model_module_version": "1.5.0",
       "_model_name": "HTMLModel",
       "_view_count": null,
       "_view_module": "@jupyter-widgets/controls",
       "_view_module_version": "1.5.0",
       "_view_name": "HTMLView",
       "description": "",
       "description_tooltip": null,
       "layout": "IPY_MODEL_4d9987da3b964c4f9353b1b2b52f4df2",
       "placeholder": "​",
       "style": "IPY_MODEL_e7f0d97000334a90b4eef5c41bf06eb7",
       "value": " 3.31k/? [00:00&lt;00:00, 165kB/s]"
      }
     },
     "623c065579f345beb3d25b310e9ff5f7": {
      "model_module": "@jupyter-widgets/controls",
      "model_module_version": "1.5.0",
      "model_name": "DescriptionStyleModel",
      "state": {
       "_model_module": "@jupyter-widgets/controls",
       "_model_module_version": "1.5.0",
       "_model_name": "DescriptionStyleModel",
       "_view_count": null,
       "_view_module": "@jupyter-widgets/base",
       "_view_module_version": "1.2.0",
       "_view_name": "StyleView",
       "description_width": ""
      }
     },
     "681f68dc575e47e6a02ae5b91d991f57": {
      "model_module": "@jupyter-widgets/controls",
      "model_module_version": "1.5.0",
      "model_name": "HBoxModel",
      "state": {
       "_dom_classes": [],
       "_model_module": "@jupyter-widgets/controls",
       "_model_module_version": "1.5.0",
       "_model_name": "HBoxModel",
       "_view_count": null,
       "_view_module": "@jupyter-widgets/controls",
       "_view_module_version": "1.5.0",
       "_view_name": "HBoxView",
       "box_style": "",
       "children": [
        "IPY_MODEL_1a3f451ed82a4f34b376c408535ccc33",
        "IPY_MODEL_55d1dc2d99224857a2b33e287b36bb66",
        "IPY_MODEL_b84e11d303e9446db78f8f7896df0c79"
       ],
       "layout": "IPY_MODEL_84d575f005cc475f94dc73eef1743306"
      }
     },
     "6c5d5d7e882646138575655705ef177f": {
      "model_module": "@jupyter-widgets/controls",
      "model_module_version": "1.5.0",
      "model_name": "HTMLModel",
      "state": {
       "_dom_classes": [],
       "_model_module": "@jupyter-widgets/controls",
       "_model_module_version": "1.5.0",
       "_model_name": "HTMLModel",
       "_view_count": null,
       "_view_module": "@jupyter-widgets/controls",
       "_view_module_version": "1.5.0",
       "_view_name": "HTMLView",
       "description": "",
       "description_tooltip": null,
       "layout": "IPY_MODEL_401fcece24d2411c91c636f1ccdc2c34",
       "placeholder": "​",
       "style": "IPY_MODEL_623c065579f345beb3d25b310e9ff5f7",
       "value": "Downloading builder script: "
      }
     },
     "76bcd193074e4aaba337303f5a4cd254": {
      "model_module": "@jupyter-widgets/base",
      "model_module_version": "1.2.0",
      "model_name": "LayoutModel",
      "state": {
       "_model_module": "@jupyter-widgets/base",
       "_model_module_version": "1.2.0",
       "_model_name": "LayoutModel",
       "_view_count": null,
       "_view_module": "@jupyter-widgets/base",
       "_view_module_version": "1.2.0",
       "_view_name": "LayoutView",
       "align_content": null,
       "align_items": null,
       "align_self": null,
       "border": null,
       "bottom": null,
       "display": null,
       "flex": null,
       "flex_flow": null,
       "grid_area": null,
       "grid_auto_columns": null,
       "grid_auto_flow": null,
       "grid_auto_rows": null,
       "grid_column": null,
       "grid_gap": null,
       "grid_row": null,
       "grid_template_areas": null,
       "grid_template_columns": null,
       "grid_template_rows": null,
       "height": null,
       "justify_content": null,
       "justify_items": null,
       "left": null,
       "margin": null,
       "max_height": null,
       "max_width": null,
       "min_height": null,
       "min_width": null,
       "object_fit": null,
       "object_position": null,
       "order": null,
       "overflow": null,
       "overflow_x": null,
       "overflow_y": null,
       "padding": null,
       "right": null,
       "top": null,
       "visibility": null,
       "width": null
      }
     },
     "78955881a8b24cab9ec66010178890a8": {
      "model_module": "@jupyter-widgets/controls",
      "model_module_version": "1.5.0",
      "model_name": "ProgressStyleModel",
      "state": {
       "_model_module": "@jupyter-widgets/controls",
       "_model_module_version": "1.5.0",
       "_model_name": "ProgressStyleModel",
       "_view_count": null,
       "_view_module": "@jupyter-widgets/base",
       "_view_module_version": "1.2.0",
       "_view_name": "StyleView",
       "bar_color": null,
       "description_width": ""
      }
     },
     "7c4de655e66f4716a0176f3472337c53": {
      "model_module": "@jupyter-widgets/base",
      "model_module_version": "1.2.0",
      "model_name": "LayoutModel",
      "state": {
       "_model_module": "@jupyter-widgets/base",
       "_model_module_version": "1.2.0",
       "_model_name": "LayoutModel",
       "_view_count": null,
       "_view_module": "@jupyter-widgets/base",
       "_view_module_version": "1.2.0",
       "_view_name": "LayoutView",
       "align_content": null,
       "align_items": null,
       "align_self": null,
       "border": null,
       "bottom": null,
       "display": null,
       "flex": null,
       "flex_flow": null,
       "grid_area": null,
       "grid_auto_columns": null,
       "grid_auto_flow": null,
       "grid_auto_rows": null,
       "grid_column": null,
       "grid_gap": null,
       "grid_row": null,
       "grid_template_areas": null,
       "grid_template_columns": null,
       "grid_template_rows": null,
       "height": null,
       "justify_content": null,
       "justify_items": null,
       "left": null,
       "margin": null,
       "max_height": null,
       "max_width": null,
       "min_height": null,
       "min_width": null,
       "object_fit": null,
       "object_position": null,
       "order": null,
       "overflow": null,
       "overflow_x": null,
       "overflow_y": null,
       "padding": null,
       "right": null,
       "top": null,
       "visibility": null,
       "width": null
      }
     },
     "7e4fe47b9be04b9bbdec2ad271d9ed0c": {
      "model_module": "@jupyter-widgets/controls",
      "model_module_version": "1.5.0",
      "model_name": "ProgressStyleModel",
      "state": {
       "_model_module": "@jupyter-widgets/controls",
       "_model_module_version": "1.5.0",
       "_model_name": "ProgressStyleModel",
       "_view_count": null,
       "_view_module": "@jupyter-widgets/base",
       "_view_module_version": "1.2.0",
       "_view_name": "StyleView",
       "bar_color": null,
       "description_width": ""
      }
     },
     "7ff5d97b88ae403b81e63dae8942e9fb": {
      "model_module": "@jupyter-widgets/controls",
      "model_module_version": "1.5.0",
      "model_name": "FloatProgressModel",
      "state": {
       "_dom_classes": [],
       "_model_module": "@jupyter-widgets/controls",
       "_model_module_version": "1.5.0",
       "_model_name": "FloatProgressModel",
       "_view_count": null,
       "_view_module": "@jupyter-widgets/controls",
       "_view_module_version": "1.5.0",
       "_view_name": "ProgressView",
       "bar_style": "success",
       "description": "",
       "description_tooltip": null,
       "layout": "IPY_MODEL_c367774b1e084e25bfe335f098ee7478",
       "max": 466062,
       "min": 0,
       "orientation": "horizontal",
       "style": "IPY_MODEL_178462120e764fa9b6d6b7c2b7bcaa67",
       "value": 466062
      }
     },
     "81ee3266730d4666a85a1d889bfef1c2": {
      "model_module": "@jupyter-widgets/controls",
      "model_module_version": "1.5.0",
      "model_name": "HTMLModel",
      "state": {
       "_dom_classes": [],
       "_model_module": "@jupyter-widgets/controls",
       "_model_module_version": "1.5.0",
       "_model_name": "HTMLModel",
       "_view_count": null,
       "_view_module": "@jupyter-widgets/controls",
       "_view_module_version": "1.5.0",
       "_view_name": "HTMLView",
       "description": "",
       "description_tooltip": null,
       "layout": "IPY_MODEL_f3a79efc97594e4e9b5c506265719f2d",
       "placeholder": "​",
       "style": "IPY_MODEL_96d482bdef3041c1b167b016ea363106",
       "value": " 28.0/28.0 [00:00&lt;00:00, 1.96kB/s]"
      }
     },
     "84d575f005cc475f94dc73eef1743306": {
      "model_module": "@jupyter-widgets/base",
      "model_module_version": "1.2.0",
      "model_name": "LayoutModel",
      "state": {
       "_model_module": "@jupyter-widgets/base",
       "_model_module_version": "1.2.0",
       "_model_name": "LayoutModel",
       "_view_count": null,
       "_view_module": "@jupyter-widgets/base",
       "_view_module_version": "1.2.0",
       "_view_name": "LayoutView",
       "align_content": null,
       "align_items": null,
       "align_self": null,
       "border": null,
       "bottom": null,
       "display": null,
       "flex": null,
       "flex_flow": null,
       "grid_area": null,
       "grid_auto_columns": null,
       "grid_auto_flow": null,
       "grid_auto_rows": null,
       "grid_column": null,
       "grid_gap": null,
       "grid_row": null,
       "grid_template_areas": null,
       "grid_template_columns": null,
       "grid_template_rows": null,
       "height": null,
       "justify_content": null,
       "justify_items": null,
       "left": null,
       "margin": null,
       "max_height": null,
       "max_width": null,
       "min_height": null,
       "min_width": null,
       "object_fit": null,
       "object_position": null,
       "order": null,
       "overflow": null,
       "overflow_x": null,
       "overflow_y": null,
       "padding": null,
       "right": null,
       "top": null,
       "visibility": null,
       "width": null
      }
     },
     "896a240d244e48cdb8ba6e44c4c5cbaf": {
      "model_module": "@jupyter-widgets/controls",
      "model_module_version": "1.5.0",
      "model_name": "HBoxModel",
      "state": {
       "_dom_classes": [],
       "_model_module": "@jupyter-widgets/controls",
       "_model_module_version": "1.5.0",
       "_model_name": "HBoxModel",
       "_view_count": null,
       "_view_module": "@jupyter-widgets/controls",
       "_view_module_version": "1.5.0",
       "_view_name": "HBoxView",
       "box_style": "",
       "children": [
        "IPY_MODEL_54b47e450d874eb8b43042849e514d7b",
        "IPY_MODEL_7ff5d97b88ae403b81e63dae8942e9fb",
        "IPY_MODEL_e38e358470cd42eb9e44baa4677e6ab4"
       ],
       "layout": "IPY_MODEL_dfe9692cecb04354a79011925354b83c"
      }
     },
     "8bd7b30806d54a09979f1876fad54a83": {
      "model_module": "@jupyter-widgets/controls",
      "model_module_version": "1.5.0",
      "model_name": "HTMLModel",
      "state": {
       "_dom_classes": [],
       "_model_module": "@jupyter-widgets/controls",
       "_model_module_version": "1.5.0",
       "_model_name": "HTMLModel",
       "_view_count": null,
       "_view_module": "@jupyter-widgets/controls",
       "_view_module_version": "1.5.0",
       "_view_name": "HTMLView",
       "description": "",
       "description_tooltip": null,
       "layout": "IPY_MODEL_513f99184d354499bd70b4d2276bcc08",
       "placeholder": "​",
       "style": "IPY_MODEL_49290c378c2448c080e883eb11494407",
       "value": " 268M/268M [00:01&lt;00:00, 220MB/s]"
      }
     },
     "96d482bdef3041c1b167b016ea363106": {
      "model_module": "@jupyter-widgets/controls",
      "model_module_version": "1.5.0",
      "model_name": "DescriptionStyleModel",
      "state": {
       "_model_module": "@jupyter-widgets/controls",
       "_model_module_version": "1.5.0",
       "_model_name": "DescriptionStyleModel",
       "_view_count": null,
       "_view_module": "@jupyter-widgets/base",
       "_view_module_version": "1.2.0",
       "_view_name": "StyleView",
       "description_width": ""
      }
     },
     "9e991436426043559ddc0813eb44121e": {
      "model_module": "@jupyter-widgets/controls",
      "model_module_version": "1.5.0",
      "model_name": "HBoxModel",
      "state": {
       "_dom_classes": [],
       "_model_module": "@jupyter-widgets/controls",
       "_model_module_version": "1.5.0",
       "_model_name": "HBoxModel",
       "_view_count": null,
       "_view_module": "@jupyter-widgets/controls",
       "_view_module_version": "1.5.0",
       "_view_name": "HBoxView",
       "box_style": "",
       "children": [
        "IPY_MODEL_4fda5b4d3b924052a6be7bc90c0f5e9a",
        "IPY_MODEL_a6a3f2101176407ebb515670a62f9bd3",
        "IPY_MODEL_5974d5f3447046fc87cd0b4a31c5a31f"
       ],
       "layout": "IPY_MODEL_76bcd193074e4aaba337303f5a4cd254"
      }
     },
     "a6a3f2101176407ebb515670a62f9bd3": {
      "model_module": "@jupyter-widgets/controls",
      "model_module_version": "1.5.0",
      "model_name": "FloatProgressModel",
      "state": {
       "_dom_classes": [],
       "_model_module": "@jupyter-widgets/controls",
       "_model_module_version": "1.5.0",
       "_model_name": "FloatProgressModel",
       "_view_count": null,
       "_view_module": "@jupyter-widgets/controls",
       "_view_module_version": "1.5.0",
       "_view_name": "ProgressView",
       "bar_style": "success",
       "description": "",
       "description_tooltip": null,
       "layout": "IPY_MODEL_b341ebe174e340abb01f4491426cb3cb",
       "max": 483,
       "min": 0,
       "orientation": "horizontal",
       "style": "IPY_MODEL_7e4fe47b9be04b9bbdec2ad271d9ed0c",
       "value": 483
      }
     },
     "ae43b55763d34f6da6cbe1a6aaa64fc6": {
      "model_module": "@jupyter-widgets/base",
      "model_module_version": "1.2.0",
      "model_name": "LayoutModel",
      "state": {
       "_model_module": "@jupyter-widgets/base",
       "_model_module_version": "1.2.0",
       "_model_name": "LayoutModel",
       "_view_count": null,
       "_view_module": "@jupyter-widgets/base",
       "_view_module_version": "1.2.0",
       "_view_name": "LayoutView",
       "align_content": null,
       "align_items": null,
       "align_self": null,
       "border": null,
       "bottom": null,
       "display": null,
       "flex": null,
       "flex_flow": null,
       "grid_area": null,
       "grid_auto_columns": null,
       "grid_auto_flow": null,
       "grid_auto_rows": null,
       "grid_column": null,
       "grid_gap": null,
       "grid_row": null,
       "grid_template_areas": null,
       "grid_template_columns": null,
       "grid_template_rows": null,
       "height": null,
       "justify_content": null,
       "justify_items": null,
       "left": null,
       "margin": null,
       "max_height": null,
       "max_width": null,
       "min_height": null,
       "min_width": null,
       "object_fit": null,
       "object_position": null,
       "order": null,
       "overflow": null,
       "overflow_x": null,
       "overflow_y": null,
       "padding": null,
       "right": null,
       "top": null,
       "visibility": null,
       "width": null
      }
     },
     "afb21652e67341cf8c6b3d6ebc22c3cf": {
      "model_module": "@jupyter-widgets/controls",
      "model_module_version": "1.5.0",
      "model_name": "DescriptionStyleModel",
      "state": {
       "_model_module": "@jupyter-widgets/controls",
       "_model_module_version": "1.5.0",
       "_model_name": "DescriptionStyleModel",
       "_view_count": null,
       "_view_module": "@jupyter-widgets/base",
       "_view_module_version": "1.2.0",
       "_view_name": "StyleView",
       "description_width": ""
      }
     },
     "b0c0184394f5463c843829eae52db44d": {
      "model_module": "@jupyter-widgets/controls",
      "model_module_version": "1.5.0",
      "model_name": "DescriptionStyleModel",
      "state": {
       "_model_module": "@jupyter-widgets/controls",
       "_model_module_version": "1.5.0",
       "_model_name": "DescriptionStyleModel",
       "_view_count": null,
       "_view_module": "@jupyter-widgets/base",
       "_view_module_version": "1.2.0",
       "_view_name": "StyleView",
       "description_width": ""
      }
     },
     "b341ebe174e340abb01f4491426cb3cb": {
      "model_module": "@jupyter-widgets/base",
      "model_module_version": "1.2.0",
      "model_name": "LayoutModel",
      "state": {
       "_model_module": "@jupyter-widgets/base",
       "_model_module_version": "1.2.0",
       "_model_name": "LayoutModel",
       "_view_count": null,
       "_view_module": "@jupyter-widgets/base",
       "_view_module_version": "1.2.0",
       "_view_name": "LayoutView",
       "align_content": null,
       "align_items": null,
       "align_self": null,
       "border": null,
       "bottom": null,
       "display": null,
       "flex": null,
       "flex_flow": null,
       "grid_area": null,
       "grid_auto_columns": null,
       "grid_auto_flow": null,
       "grid_auto_rows": null,
       "grid_column": null,
       "grid_gap": null,
       "grid_row": null,
       "grid_template_areas": null,
       "grid_template_columns": null,
       "grid_template_rows": null,
       "height": null,
       "justify_content": null,
       "justify_items": null,
       "left": null,
       "margin": null,
       "max_height": null,
       "max_width": null,
       "min_height": null,
       "min_width": null,
       "object_fit": null,
       "object_position": null,
       "order": null,
       "overflow": null,
       "overflow_x": null,
       "overflow_y": null,
       "padding": null,
       "right": null,
       "top": null,
       "visibility": null,
       "width": null
      }
     },
     "b594647655b74fa7a7862b1d18d764eb": {
      "model_module": "@jupyter-widgets/base",
      "model_module_version": "1.2.0",
      "model_name": "LayoutModel",
      "state": {
       "_model_module": "@jupyter-widgets/base",
       "_model_module_version": "1.2.0",
       "_model_name": "LayoutModel",
       "_view_count": null,
       "_view_module": "@jupyter-widgets/base",
       "_view_module_version": "1.2.0",
       "_view_name": "LayoutView",
       "align_content": null,
       "align_items": null,
       "align_self": null,
       "border": null,
       "bottom": null,
       "display": null,
       "flex": null,
       "flex_flow": null,
       "grid_area": null,
       "grid_auto_columns": null,
       "grid_auto_flow": null,
       "grid_auto_rows": null,
       "grid_column": null,
       "grid_gap": null,
       "grid_row": null,
       "grid_template_areas": null,
       "grid_template_columns": null,
       "grid_template_rows": null,
       "height": null,
       "justify_content": null,
       "justify_items": null,
       "left": null,
       "margin": null,
       "max_height": null,
       "max_width": null,
       "min_height": null,
       "min_width": null,
       "object_fit": null,
       "object_position": null,
       "order": null,
       "overflow": null,
       "overflow_x": null,
       "overflow_y": null,
       "padding": null,
       "right": null,
       "top": null,
       "visibility": null,
       "width": null
      }
     },
     "b84e11d303e9446db78f8f7896df0c79": {
      "model_module": "@jupyter-widgets/controls",
      "model_module_version": "1.5.0",
      "model_name": "HTMLModel",
      "state": {
       "_dom_classes": [],
       "_model_module": "@jupyter-widgets/controls",
       "_model_module_version": "1.5.0",
       "_model_name": "HTMLModel",
       "_view_count": null,
       "_view_module": "@jupyter-widgets/controls",
       "_view_module_version": "1.5.0",
       "_view_name": "HTMLView",
       "description": "",
       "description_tooltip": null,
       "layout": "IPY_MODEL_b594647655b74fa7a7862b1d18d764eb",
       "placeholder": "​",
       "style": "IPY_MODEL_c32e95597e85480cbc4619cdc469778d",
       "value": " 232k/232k [00:00&lt;00:00, 2.41MB/s]"
      }
     },
     "bbc4048093dd4edb949712e296d85a6e": {
      "model_module": "@jupyter-widgets/controls",
      "model_module_version": "1.5.0",
      "model_name": "FloatProgressModel",
      "state": {
       "_dom_classes": [],
       "_model_module": "@jupyter-widgets/controls",
       "_model_module_version": "1.5.0",
       "_model_name": "FloatProgressModel",
       "_view_count": null,
       "_view_module": "@jupyter-widgets/controls",
       "_view_module_version": "1.5.0",
       "_view_name": "ProgressView",
       "bar_style": "success",
       "description": "",
       "description_tooltip": null,
       "layout": "IPY_MODEL_d5d8bffde3db4528a3b28904395a9da9",
       "max": 28,
       "min": 0,
       "orientation": "horizontal",
       "style": "IPY_MODEL_dc3810f63aea4260886712a25922320a",
       "value": 28
      }
     },
     "c32e95597e85480cbc4619cdc469778d": {
      "model_module": "@jupyter-widgets/controls",
      "model_module_version": "1.5.0",
      "model_name": "DescriptionStyleModel",
      "state": {
       "_model_module": "@jupyter-widgets/controls",
       "_model_module_version": "1.5.0",
       "_model_name": "DescriptionStyleModel",
       "_view_count": null,
       "_view_module": "@jupyter-widgets/base",
       "_view_module_version": "1.2.0",
       "_view_name": "StyleView",
       "description_width": ""
      }
     },
     "c367774b1e084e25bfe335f098ee7478": {
      "model_module": "@jupyter-widgets/base",
      "model_module_version": "1.2.0",
      "model_name": "LayoutModel",
      "state": {
       "_model_module": "@jupyter-widgets/base",
       "_model_module_version": "1.2.0",
       "_model_name": "LayoutModel",
       "_view_count": null,
       "_view_module": "@jupyter-widgets/base",
       "_view_module_version": "1.2.0",
       "_view_name": "LayoutView",
       "align_content": null,
       "align_items": null,
       "align_self": null,
       "border": null,
       "bottom": null,
       "display": null,
       "flex": null,
       "flex_flow": null,
       "grid_area": null,
       "grid_auto_columns": null,
       "grid_auto_flow": null,
       "grid_auto_rows": null,
       "grid_column": null,
       "grid_gap": null,
       "grid_row": null,
       "grid_template_areas": null,
       "grid_template_columns": null,
       "grid_template_rows": null,
       "height": null,
       "justify_content": null,
       "justify_items": null,
       "left": null,
       "margin": null,
       "max_height": null,
       "max_width": null,
       "min_height": null,
       "min_width": null,
       "object_fit": null,
       "object_position": null,
       "order": null,
       "overflow": null,
       "overflow_x": null,
       "overflow_y": null,
       "padding": null,
       "right": null,
       "top": null,
       "visibility": null,
       "width": null
      }
     },
     "c372c4a382124a3087daf1a918c48355": {
      "model_module": "@jupyter-widgets/base",
      "model_module_version": "1.2.0",
      "model_name": "LayoutModel",
      "state": {
       "_model_module": "@jupyter-widgets/base",
       "_model_module_version": "1.2.0",
       "_model_name": "LayoutModel",
       "_view_count": null,
       "_view_module": "@jupyter-widgets/base",
       "_view_module_version": "1.2.0",
       "_view_name": "LayoutView",
       "align_content": null,
       "align_items": null,
       "align_self": null,
       "border": null,
       "bottom": null,
       "display": null,
       "flex": null,
       "flex_flow": null,
       "grid_area": null,
       "grid_auto_columns": null,
       "grid_auto_flow": null,
       "grid_auto_rows": null,
       "grid_column": null,
       "grid_gap": null,
       "grid_row": null,
       "grid_template_areas": null,
       "grid_template_columns": null,
       "grid_template_rows": null,
       "height": null,
       "justify_content": null,
       "justify_items": null,
       "left": null,
       "margin": null,
       "max_height": null,
       "max_width": null,
       "min_height": null,
       "min_width": null,
       "object_fit": null,
       "object_position": null,
       "order": null,
       "overflow": null,
       "overflow_x": null,
       "overflow_y": null,
       "padding": null,
       "right": null,
       "top": null,
       "visibility": null,
       "width": null
      }
     },
     "c41f430c615a4faea21f1e4c52ac4511": {
      "model_module": "@jupyter-widgets/base",
      "model_module_version": "1.2.0",
      "model_name": "LayoutModel",
      "state": {
       "_model_module": "@jupyter-widgets/base",
       "_model_module_version": "1.2.0",
       "_model_name": "LayoutModel",
       "_view_count": null,
       "_view_module": "@jupyter-widgets/base",
       "_view_module_version": "1.2.0",
       "_view_name": "LayoutView",
       "align_content": null,
       "align_items": null,
       "align_self": null,
       "border": null,
       "bottom": null,
       "display": null,
       "flex": null,
       "flex_flow": null,
       "grid_area": null,
       "grid_auto_columns": null,
       "grid_auto_flow": null,
       "grid_auto_rows": null,
       "grid_column": null,
       "grid_gap": null,
       "grid_row": null,
       "grid_template_areas": null,
       "grid_template_columns": null,
       "grid_template_rows": null,
       "height": null,
       "justify_content": null,
       "justify_items": null,
       "left": null,
       "margin": null,
       "max_height": null,
       "max_width": null,
       "min_height": null,
       "min_width": null,
       "object_fit": null,
       "object_position": null,
       "order": null,
       "overflow": null,
       "overflow_x": null,
       "overflow_y": null,
       "padding": null,
       "right": null,
       "top": null,
       "visibility": null,
       "width": null
      }
     },
     "cb9152f94add467da7a5efc952cd8d1e": {
      "model_module": "@jupyter-widgets/controls",
      "model_module_version": "1.5.0",
      "model_name": "DescriptionStyleModel",
      "state": {
       "_model_module": "@jupyter-widgets/controls",
       "_model_module_version": "1.5.0",
       "_model_name": "DescriptionStyleModel",
       "_view_count": null,
       "_view_module": "@jupyter-widgets/base",
       "_view_module_version": "1.2.0",
       "_view_name": "StyleView",
       "description_width": ""
      }
     },
     "ce163b6bb9ba4a22bda07d1306762bdd": {
      "model_module": "@jupyter-widgets/controls",
      "model_module_version": "1.5.0",
      "model_name": "HBoxModel",
      "state": {
       "_dom_classes": [],
       "_model_module": "@jupyter-widgets/controls",
       "_model_module_version": "1.5.0",
       "_model_name": "HBoxModel",
       "_view_count": null,
       "_view_module": "@jupyter-widgets/controls",
       "_view_module_version": "1.5.0",
       "_view_name": "HBoxView",
       "box_style": "",
       "children": [
        "IPY_MODEL_6c5d5d7e882646138575655705ef177f",
        "IPY_MODEL_e7aee3a501e345b5944f61ef246abce9",
        "IPY_MODEL_390dd2cc732445d889f6eef420166b3d"
       ],
       "layout": "IPY_MODEL_2634217b661e4efaad0e278593242121"
      }
     },
     "d5d8bffde3db4528a3b28904395a9da9": {
      "model_module": "@jupyter-widgets/base",
      "model_module_version": "1.2.0",
      "model_name": "LayoutModel",
      "state": {
       "_model_module": "@jupyter-widgets/base",
       "_model_module_version": "1.2.0",
       "_model_name": "LayoutModel",
       "_view_count": null,
       "_view_module": "@jupyter-widgets/base",
       "_view_module_version": "1.2.0",
       "_view_name": "LayoutView",
       "align_content": null,
       "align_items": null,
       "align_self": null,
       "border": null,
       "bottom": null,
       "display": null,
       "flex": null,
       "flex_flow": null,
       "grid_area": null,
       "grid_auto_columns": null,
       "grid_auto_flow": null,
       "grid_auto_rows": null,
       "grid_column": null,
       "grid_gap": null,
       "grid_row": null,
       "grid_template_areas": null,
       "grid_template_columns": null,
       "grid_template_rows": null,
       "height": null,
       "justify_content": null,
       "justify_items": null,
       "left": null,
       "margin": null,
       "max_height": null,
       "max_width": null,
       "min_height": null,
       "min_width": null,
       "object_fit": null,
       "object_position": null,
       "order": null,
       "overflow": null,
       "overflow_x": null,
       "overflow_y": null,
       "padding": null,
       "right": null,
       "top": null,
       "visibility": null,
       "width": null
      }
     },
     "daf2766278aa4bcdb0a1ca3d409bfcc3": {
      "model_module": "@jupyter-widgets/base",
      "model_module_version": "1.2.0",
      "model_name": "LayoutModel",
      "state": {
       "_model_module": "@jupyter-widgets/base",
       "_model_module_version": "1.2.0",
       "_model_name": "LayoutModel",
       "_view_count": null,
       "_view_module": "@jupyter-widgets/base",
       "_view_module_version": "1.2.0",
       "_view_name": "LayoutView",
       "align_content": null,
       "align_items": null,
       "align_self": null,
       "border": null,
       "bottom": null,
       "display": null,
       "flex": null,
       "flex_flow": null,
       "grid_area": null,
       "grid_auto_columns": null,
       "grid_auto_flow": null,
       "grid_auto_rows": null,
       "grid_column": null,
       "grid_gap": null,
       "grid_row": null,
       "grid_template_areas": null,
       "grid_template_columns": null,
       "grid_template_rows": null,
       "height": null,
       "justify_content": null,
       "justify_items": null,
       "left": null,
       "margin": null,
       "max_height": null,
       "max_width": null,
       "min_height": null,
       "min_width": null,
       "object_fit": null,
       "object_position": null,
       "order": null,
       "overflow": null,
       "overflow_x": null,
       "overflow_y": null,
       "padding": null,
       "right": null,
       "top": null,
       "visibility": null,
       "width": null
      }
     },
     "dafbc28c096a44729b7111ca617aca41": {
      "model_module": "@jupyter-widgets/controls",
      "model_module_version": "1.5.0",
      "model_name": "FloatProgressModel",
      "state": {
       "_dom_classes": [],
       "_model_module": "@jupyter-widgets/controls",
       "_model_module_version": "1.5.0",
       "_model_name": "FloatProgressModel",
       "_view_count": null,
       "_view_module": "@jupyter-widgets/controls",
       "_view_module_version": "1.5.0",
       "_view_name": "ProgressView",
       "bar_style": "success",
       "description": "",
       "description_tooltip": null,
       "layout": "IPY_MODEL_0eca7e3360714e80bb8b39e73f3ae88c",
       "max": 267954768,
       "min": 0,
       "orientation": "horizontal",
       "style": "IPY_MODEL_04cfb5b0d9734e35ae1469a7e69d59a3",
       "value": 267954768
      }
     },
     "dbbe80e0640d410eb4fd5602636ebb79": {
      "model_module": "@jupyter-widgets/base",
      "model_module_version": "1.2.0",
      "model_name": "LayoutModel",
      "state": {
       "_model_module": "@jupyter-widgets/base",
       "_model_module_version": "1.2.0",
       "_model_name": "LayoutModel",
       "_view_count": null,
       "_view_module": "@jupyter-widgets/base",
       "_view_module_version": "1.2.0",
       "_view_name": "LayoutView",
       "align_content": null,
       "align_items": null,
       "align_self": null,
       "border": null,
       "bottom": null,
       "display": null,
       "flex": null,
       "flex_flow": null,
       "grid_area": null,
       "grid_auto_columns": null,
       "grid_auto_flow": null,
       "grid_auto_rows": null,
       "grid_column": null,
       "grid_gap": null,
       "grid_row": null,
       "grid_template_areas": null,
       "grid_template_columns": null,
       "grid_template_rows": null,
       "height": null,
       "justify_content": null,
       "justify_items": null,
       "left": null,
       "margin": null,
       "max_height": null,
       "max_width": null,
       "min_height": null,
       "min_width": null,
       "object_fit": null,
       "object_position": null,
       "order": null,
       "overflow": null,
       "overflow_x": null,
       "overflow_y": null,
       "padding": null,
       "right": null,
       "top": null,
       "visibility": null,
       "width": null
      }
     },
     "dc3810f63aea4260886712a25922320a": {
      "model_module": "@jupyter-widgets/controls",
      "model_module_version": "1.5.0",
      "model_name": "ProgressStyleModel",
      "state": {
       "_model_module": "@jupyter-widgets/controls",
       "_model_module_version": "1.5.0",
       "_model_name": "ProgressStyleModel",
       "_view_count": null,
       "_view_module": "@jupyter-widgets/base",
       "_view_module_version": "1.2.0",
       "_view_name": "StyleView",
       "bar_color": null,
       "description_width": ""
      }
     },
     "df1f0605789c4dfea3f7231d6cb2c1d6": {
      "model_module": "@jupyter-widgets/controls",
      "model_module_version": "1.5.0",
      "model_name": "DescriptionStyleModel",
      "state": {
       "_model_module": "@jupyter-widgets/controls",
       "_model_module_version": "1.5.0",
       "_model_name": "DescriptionStyleModel",
       "_view_count": null,
       "_view_module": "@jupyter-widgets/base",
       "_view_module_version": "1.2.0",
       "_view_name": "StyleView",
       "description_width": ""
      }
     },
     "dfe9692cecb04354a79011925354b83c": {
      "model_module": "@jupyter-widgets/base",
      "model_module_version": "1.2.0",
      "model_name": "LayoutModel",
      "state": {
       "_model_module": "@jupyter-widgets/base",
       "_model_module_version": "1.2.0",
       "_model_name": "LayoutModel",
       "_view_count": null,
       "_view_module": "@jupyter-widgets/base",
       "_view_module_version": "1.2.0",
       "_view_name": "LayoutView",
       "align_content": null,
       "align_items": null,
       "align_self": null,
       "border": null,
       "bottom": null,
       "display": null,
       "flex": null,
       "flex_flow": null,
       "grid_area": null,
       "grid_auto_columns": null,
       "grid_auto_flow": null,
       "grid_auto_rows": null,
       "grid_column": null,
       "grid_gap": null,
       "grid_row": null,
       "grid_template_areas": null,
       "grid_template_columns": null,
       "grid_template_rows": null,
       "height": null,
       "justify_content": null,
       "justify_items": null,
       "left": null,
       "margin": null,
       "max_height": null,
       "max_width": null,
       "min_height": null,
       "min_width": null,
       "object_fit": null,
       "object_position": null,
       "order": null,
       "overflow": null,
       "overflow_x": null,
       "overflow_y": null,
       "padding": null,
       "right": null,
       "top": null,
       "visibility": null,
       "width": null
      }
     },
     "e38e358470cd42eb9e44baa4677e6ab4": {
      "model_module": "@jupyter-widgets/controls",
      "model_module_version": "1.5.0",
      "model_name": "HTMLModel",
      "state": {
       "_dom_classes": [],
       "_model_module": "@jupyter-widgets/controls",
       "_model_module_version": "1.5.0",
       "_model_name": "HTMLModel",
       "_view_count": null,
       "_view_module": "@jupyter-widgets/controls",
       "_view_module_version": "1.5.0",
       "_view_name": "HTMLView",
       "description": "",
       "description_tooltip": null,
       "layout": "IPY_MODEL_255db22f573e498bac256ca131c5359b",
       "placeholder": "​",
       "style": "IPY_MODEL_df1f0605789c4dfea3f7231d6cb2c1d6",
       "value": " 466k/466k [00:00&lt;00:00, 3.42MB/s]"
      }
     },
     "e7aee3a501e345b5944f61ef246abce9": {
      "model_module": "@jupyter-widgets/controls",
      "model_module_version": "1.5.0",
      "model_name": "FloatProgressModel",
      "state": {
       "_dom_classes": [],
       "_model_module": "@jupyter-widgets/controls",
       "_model_module_version": "1.5.0",
       "_model_name": "FloatProgressModel",
       "_view_count": null,
       "_view_module": "@jupyter-widgets/controls",
       "_view_module_version": "1.5.0",
       "_view_name": "ProgressView",
       "bar_style": "success",
       "description": "",
       "description_tooltip": null,
       "layout": "IPY_MODEL_015601f72ab04fa9b033c822b1e25038",
       "max": 1715,
       "min": 0,
       "orientation": "horizontal",
       "style": "IPY_MODEL_78955881a8b24cab9ec66010178890a8",
       "value": 1715
      }
     },
     "e7f0d97000334a90b4eef5c41bf06eb7": {
      "model_module": "@jupyter-widgets/controls",
      "model_module_version": "1.5.0",
      "model_name": "DescriptionStyleModel",
      "state": {
       "_model_module": "@jupyter-widgets/controls",
       "_model_module_version": "1.5.0",
       "_model_name": "DescriptionStyleModel",
       "_view_count": null,
       "_view_module": "@jupyter-widgets/base",
       "_view_module_version": "1.2.0",
       "_view_name": "StyleView",
       "description_width": ""
      }
     },
     "f3a79efc97594e4e9b5c506265719f2d": {
      "model_module": "@jupyter-widgets/base",
      "model_module_version": "1.2.0",
      "model_name": "LayoutModel",
      "state": {
       "_model_module": "@jupyter-widgets/base",
       "_model_module_version": "1.2.0",
       "_model_name": "LayoutModel",
       "_view_count": null,
       "_view_module": "@jupyter-widgets/base",
       "_view_module_version": "1.2.0",
       "_view_name": "LayoutView",
       "align_content": null,
       "align_items": null,
       "align_self": null,
       "border": null,
       "bottom": null,
       "display": null,
       "flex": null,
       "flex_flow": null,
       "grid_area": null,
       "grid_auto_columns": null,
       "grid_auto_flow": null,
       "grid_auto_rows": null,
       "grid_column": null,
       "grid_gap": null,
       "grid_row": null,
       "grid_template_areas": null,
       "grid_template_columns": null,
       "grid_template_rows": null,
       "height": null,
       "justify_content": null,
       "justify_items": null,
       "left": null,
       "margin": null,
       "max_height": null,
       "max_width": null,
       "min_height": null,
       "min_width": null,
       "object_fit": null,
       "object_position": null,
       "order": null,
       "overflow": null,
       "overflow_x": null,
       "overflow_y": null,
       "padding": null,
       "right": null,
       "top": null,
       "visibility": null,
       "width": null
      }
     },
     "f3d8610df13a475f838a736649135311": {
      "model_module": "@jupyter-widgets/base",
      "model_module_version": "1.2.0",
      "model_name": "LayoutModel",
      "state": {
       "_model_module": "@jupyter-widgets/base",
       "_model_module_version": "1.2.0",
       "_model_name": "LayoutModel",
       "_view_count": null,
       "_view_module": "@jupyter-widgets/base",
       "_view_module_version": "1.2.0",
       "_view_name": "LayoutView",
       "align_content": null,
       "align_items": null,
       "align_self": null,
       "border": null,
       "bottom": null,
       "display": null,
       "flex": null,
       "flex_flow": null,
       "grid_area": null,
       "grid_auto_columns": null,
       "grid_auto_flow": null,
       "grid_auto_rows": null,
       "grid_column": null,
       "grid_gap": null,
       "grid_row": null,
       "grid_template_areas": null,
       "grid_template_columns": null,
       "grid_template_rows": null,
       "height": null,
       "justify_content": null,
       "justify_items": null,
       "left": null,
       "margin": null,
       "max_height": null,
       "max_width": null,
       "min_height": null,
       "min_width": null,
       "object_fit": null,
       "object_position": null,
       "order": null,
       "overflow": null,
       "overflow_x": null,
       "overflow_y": null,
       "padding": null,
       "right": null,
       "top": null,
       "visibility": null,
       "width": null
      }
     },
     "fe348136ec1b4f78a199ba63dfbb39dd": {
      "model_module": "@jupyter-widgets/base",
      "model_module_version": "1.2.0",
      "model_name": "LayoutModel",
      "state": {
       "_model_module": "@jupyter-widgets/base",
       "_model_module_version": "1.2.0",
       "_model_name": "LayoutModel",
       "_view_count": null,
       "_view_module": "@jupyter-widgets/base",
       "_view_module_version": "1.2.0",
       "_view_name": "LayoutView",
       "align_content": null,
       "align_items": null,
       "align_self": null,
       "border": null,
       "bottom": null,
       "display": null,
       "flex": null,
       "flex_flow": null,
       "grid_area": null,
       "grid_auto_columns": null,
       "grid_auto_flow": null,
       "grid_auto_rows": null,
       "grid_column": null,
       "grid_gap": null,
       "grid_row": null,
       "grid_template_areas": null,
       "grid_template_columns": null,
       "grid_template_rows": null,
       "height": null,
       "justify_content": null,
       "justify_items": null,
       "left": null,
       "margin": null,
       "max_height": null,
       "max_width": null,
       "min_height": null,
       "min_width": null,
       "object_fit": null,
       "object_position": null,
       "order": null,
       "overflow": null,
       "overflow_x": null,
       "overflow_y": null,
       "padding": null,
       "right": null,
       "top": null,
       "visibility": null,
       "width": null
      }
     },
     "fef6206c7c494e5aaa3fef48c3870ce6": {
      "model_module": "@jupyter-widgets/base",
      "model_module_version": "1.2.0",
      "model_name": "LayoutModel",
      "state": {
       "_model_module": "@jupyter-widgets/base",
       "_model_module_version": "1.2.0",
       "_model_name": "LayoutModel",
       "_view_count": null,
       "_view_module": "@jupyter-widgets/base",
       "_view_module_version": "1.2.0",
       "_view_name": "LayoutView",
       "align_content": null,
       "align_items": null,
       "align_self": null,
       "border": null,
       "bottom": null,
       "display": null,
       "flex": null,
       "flex_flow": null,
       "grid_area": null,
       "grid_auto_columns": null,
       "grid_auto_flow": null,
       "grid_auto_rows": null,
       "grid_column": null,
       "grid_gap": null,
       "grid_row": null,
       "grid_template_areas": null,
       "grid_template_columns": null,
       "grid_template_rows": null,
       "height": null,
       "justify_content": null,
       "justify_items": null,
       "left": null,
       "margin": null,
       "max_height": null,
       "max_width": null,
       "min_height": null,
       "min_width": null,
       "object_fit": null,
       "object_position": null,
       "order": null,
       "overflow": null,
       "overflow_x": null,
       "overflow_y": null,
       "padding": null,
       "right": null,
       "top": null,
       "visibility": null,
       "width": null
      }
     }
    },
    "version_major": 2,
    "version_minor": 0
   }
  }
 },
 "nbformat": 4,
 "nbformat_minor": 5
}
